{
 "cells": [
  {
   "cell_type": "code",
   "execution_count": 115,
   "metadata": {},
   "outputs": [],
   "source": [
    "import pandas as pd\n",
    "import numpy as np\n",
    "\n",
    "df_zh = pd.read_csv('zh.csv')\n",
    "df_ko = pd.read_csv('ko.csv')"
   ]
  },
  {
   "cell_type": "code",
   "execution_count": 116,
   "metadata": {},
   "outputs": [],
   "source": [
    "def drop_pairs(df):\n",
    "    # Create a vector to flag rows to keep\n",
    "    keep = np.ones(len(df), dtype=bool)\n",
    "\n",
    "    # Iterate over pairs of rows\n",
    "    for i in range(0, len(df), 2):\n",
    "        # If either row in the pair has 'Malformed Brackets' == 'FALSE', set keep to False for both\n",
    "        if (df.loc[i, 'Malformed Brackets'] == 'TRUE') or (df.loc[i+1, 'Malformed Brackets'] == 'TRUE'):\n",
    "            keep[i] = False\n",
    "            keep[i+1] = False\n",
    "\n",
    "    # Apply the mask and return the filtered dataframe\n",
    "    return df[keep]"
   ]
  },
  {
   "cell_type": "code",
   "execution_count": 117,
   "metadata": {},
   "outputs": [],
   "source": [
    "df_ko.columns = df_ko.iloc[3]\n",
    "df_ko = df_ko[6::].reset_index(drop=True)\n",
    "df_ko = drop_pairs(df_ko).reset_index(drop=True)"
   ]
  },
  {
   "cell_type": "code",
   "execution_count": 118,
   "metadata": {},
   "outputs": [],
   "source": [
    "df_zh.columns = df_zh.iloc[0]\n",
    "df_zh = df_zh[3::].reset_index(drop=True)\n",
    "df_zh = drop_pairs(df_zh).reset_index(drop=True)"
   ]
  },
  {
   "cell_type": "code",
   "execution_count": 122,
   "metadata": {},
   "outputs": [],
   "source": [
    "def f(df):\n",
    "    res = []\n",
    "    for i in range(0, len(df), 2):\n",
    "        res.append([\n",
    "            df.loc[i, 'Idiom'],             # idiom\n",
    "            df.loc[i, 'Meaning'],           # meaning\n",
    "            df.loc[i, 'Source '],            # s_f_brkt\n",
    "            df.loc[i + 1, 'Source '],        # s_l_brkt\n",
    "            df.loc[i, 'Translation'],       # t_f_brkt\n",
    "            df.loc[i + 1, 'Translation'],   # t_l_brkt\n",
    "        ])\n",
    "    return pd.DataFrame(res, \n",
    "            columns=['idiom', 'meaning', 's_f_brkt', 's_l_brkt', 't_f_brkt', 't_l_brkt'])\n",
    "\n",
    "df_ko_agg = f(df_ko)\n",
    "df_zh_agg = f(df_zh)"
   ]
  },
  {
   "cell_type": "code",
   "execution_count": 123,
   "metadata": {},
   "outputs": [],
   "source": [
    "def f(df):\n",
    "    res = []\n",
    "    for i in range(0, len(df), 2):\n",
    "        i_fig = i if df.loc[i, 'label'] == 'figurative' else i + 1\n",
    "        i_lit = (i + 1) if df.loc[i + 1, 'label'] == 'literal' else i\n",
    "        res.append([\n",
    "            df.loc[i, 'idiom'],             # idiom\n",
    "            df.loc[i, 'meaning'],           # meaning\n",
    "            df.loc[i_fig, 'source'],        # s_f_brkt\n",
    "            df.loc[i_lit, 'source'],        # s_l_brkt\n",
    "        ])\n",
    "    return pd.DataFrame(res, \n",
    "            columns=['idiom', 'meaning', 's_f_brkt', 's_l_brkt'])\n",
    "base = pd.read_csv(\"base.csv\")\n",
    "base = f(base)"
   ]
  },
  {
   "cell_type": "code",
   "execution_count": 124,
   "metadata": {},
   "outputs": [],
   "source": [
    "import re\n",
    "\n",
    "def no_brkt(df, col_br, col_nobr):\n",
    "    # Creating a new column 'text_without_brackets' by removing the square brackets\n",
    "    df[col_nobr] = df[col_br].str.replace(r'\\[\\[', '', regex=True).str.replace(r'\\]\\]', '', regex=True)\n",
    "    return df\n",
    "\n",
    "def in_brkt(df, col_br, col_in_br):\n",
    "    df[col_in_br] = df[col_br].apply(lambda x: ' '.join(re.findall(r'\\[\\[(.*?)\\]\\]', x)))\n",
    "    return df\n",
    "\n",
    "base = no_brkt(base, 's_f_brkt', 's_f')\n",
    "base = no_brkt(base, 's_l_brkt', 's_l')\n",
    "base = in_brkt(base, 's_f_brkt', 's_a')"
   ]
  },
  {
   "cell_type": "code",
   "execution_count": 110,
   "metadata": {},
   "outputs": [],
   "source": [
    "df_ko_nobr = no_brkt(df_ko_agg, 's_f_brkt', 's_f')\n",
    "df_ko_nobr = no_brkt(df_ko_agg, 's_l_brkt', 's_l')\n",
    "df_ko_nobr = in_brkt(df_ko_agg, 's_f_brkt', 's_a')\n",
    "\n",
    "df_ko_nobr = no_brkt(df_ko_agg, 't_f_brkt', 't_f')\n",
    "df_ko_nobr = no_brkt(df_ko_agg, 't_l_brkt', 't_l')\n",
    "df_ko_nobr = in_brkt(df_ko_agg, 't_f_brkt', 't_f_a')\n",
    "df_ko_nobr = in_brkt(df_ko_agg, 't_l_brkt', 't_l_a')"
   ]
  },
  {
   "cell_type": "code",
   "execution_count": 125,
   "metadata": {},
   "outputs": [],
   "source": [
    "df_zh_nobr = no_brkt(df_zh_agg, 's_f_brkt', 's_f')\n",
    "df_zh_nobr = no_brkt(df_zh_agg, 's_l_brkt', 's_l')\n",
    "df_zh_nobr = in_brkt(df_zh_agg, 's_f_brkt', 's_a')\n",
    "\n",
    "df_zh_nobr = no_brkt(df_zh_agg, 't_f_brkt', 't_f')\n",
    "df_zh_nobr = no_brkt(df_zh_agg, 't_l_brkt', 't_l')\n",
    "df_zh_nobr = in_brkt(df_zh_agg, 't_f_brkt', 't_f_a')\n",
    "df_zh_nobr = in_brkt(df_zh_agg, 't_l_brkt', 't_l_a')"
   ]
  },
  {
   "cell_type": "code",
   "execution_count": 112,
   "metadata": {},
   "outputs": [],
   "source": [
    "df_ko_res = base.merge(df_ko_nobr[['idiom', 't_f_brkt', 't_l_brkt', 't_f', 't_l', 't_f_a', 't_l_a']], \n",
    "                        on='idiom', how='left').dropna().reset_index(drop=True)\n",
    "df_zh_res = base.merge(df_zh_nobr[['idiom', 't_f_brkt', 't_l_brkt', 't_f', 't_l', 't_f_a', 't_l_a']], \n",
    "                        on='idiom', how='left').dropna().reset_index(drop=True)"
   ]
  },
  {
   "cell_type": "code",
   "execution_count": 113,
   "metadata": {},
   "outputs": [],
   "source": [
    "inner = pd.merge(df_ko_res, df_zh_res, how='inner', \n",
    "                     on=['idiom', 'meaning', 's_f_brkt', 's_l_brkt', 's_a', 's_f', 's_l'],\n",
    "                     suffixes=('_ko', '_zh'))\n",
    "inner.to_csv(\"inner.csv\", index=False)"
   ]
  },
  {
   "cell_type": "code",
   "execution_count": null,
   "metadata": {},
   "outputs": [],
   "source": []
  },
  {
   "cell_type": "code",
   "execution_count": null,
   "metadata": {},
   "outputs": [],
   "source": []
  }
 ],
 "metadata": {
  "kernelspec": {
   "display_name": "py3.8",
   "language": "python",
   "name": "python3"
  },
  "language_info": {
   "codemirror_mode": {
    "name": "ipython",
    "version": 3
   },
   "file_extension": ".py",
   "mimetype": "text/x-python",
   "name": "python",
   "nbconvert_exporter": "python",
   "pygments_lexer": "ipython3",
   "version": "3.8.15"
  },
  "orig_nbformat": 4
 },
 "nbformat": 4,
 "nbformat_minor": 2
}
