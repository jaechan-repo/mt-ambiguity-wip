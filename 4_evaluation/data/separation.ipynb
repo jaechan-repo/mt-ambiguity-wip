{
 "cells": [
  {
   "cell_type": "code",
   "execution_count": 6,
   "metadata": {},
   "outputs": [],
   "source": [
    "import pandas as pd"
   ]
  },
  {
   "cell_type": "code",
   "execution_count": 7,
   "metadata": {},
   "outputs": [
    {
     "data": {
      "text/html": [
       "<div>\n",
       "<style scoped>\n",
       "    .dataframe tbody tr th:only-of-type {\n",
       "        vertical-align: middle;\n",
       "    }\n",
       "\n",
       "    .dataframe tbody tr th {\n",
       "        vertical-align: top;\n",
       "    }\n",
       "\n",
       "    .dataframe thead th {\n",
       "        text-align: right;\n",
       "    }\n",
       "</style>\n",
       "<table border=\"1\" class=\"dataframe\">\n",
       "  <thead>\n",
       "    <tr style=\"text-align: right;\">\n",
       "      <th></th>\n",
       "      <th>idiom</th>\n",
       "      <th>meaning</th>\n",
       "      <th>label</th>\n",
       "      <th>source</th>\n",
       "    </tr>\n",
       "  </thead>\n",
       "  <tbody>\n",
       "    <tr>\n",
       "      <th>0</th>\n",
       "      <td>Achilles heel</td>\n",
       "      <td>a vulnerable spot or weakness</td>\n",
       "      <td>figurative</td>\n",
       "      <td>Despite his intelligence, procrastination was ...</td>\n",
       "    </tr>\n",
       "    <tr>\n",
       "      <th>1</th>\n",
       "      <td>Achilles heel</td>\n",
       "      <td>a vulnerable spot or weakness</td>\n",
       "      <td>literal</td>\n",
       "      <td>During the anatomy class, we studied [[his Ach...</td>\n",
       "    </tr>\n",
       "    <tr>\n",
       "      <th>2</th>\n",
       "      <td>Mr Right, Ms Right</td>\n",
       "      <td>the best future life partner for someone</td>\n",
       "      <td>figurative</td>\n",
       "      <td>After years of searching, they finally [[found...</td>\n",
       "    </tr>\n",
       "    <tr>\n",
       "      <th>3</th>\n",
       "      <td>Mr Right, Ms Right</td>\n",
       "      <td>the best future life partner for someone</td>\n",
       "      <td>literal</td>\n",
       "      <td>At the costume party, they [[found their Mr Ri...</td>\n",
       "    </tr>\n",
       "    <tr>\n",
       "      <th>4</th>\n",
       "      <td>Young Turk</td>\n",
       "      <td>a young person who has many new ideas and want...</td>\n",
       "      <td>figurative</td>\n",
       "      <td>He quickly became [[a Young Turk in the compan...</td>\n",
       "    </tr>\n",
       "  </tbody>\n",
       "</table>\n",
       "</div>"
      ],
      "text/plain": [
       "                idiom                                            meaning  \\\n",
       "0       Achilles heel                      a vulnerable spot or weakness   \n",
       "1       Achilles heel                      a vulnerable spot or weakness   \n",
       "2  Mr Right, Ms Right           the best future life partner for someone   \n",
       "3  Mr Right, Ms Right           the best future life partner for someone   \n",
       "4          Young Turk  a young person who has many new ideas and want...   \n",
       "\n",
       "        label                                             source  \n",
       "0  figurative  Despite his intelligence, procrastination was ...  \n",
       "1     literal  During the anatomy class, we studied [[his Ach...  \n",
       "2  figurative  After years of searching, they finally [[found...  \n",
       "3     literal  At the costume party, they [[found their Mr Ri...  \n",
       "4  figurative  He quickly became [[a Young Turk in the compan...  "
      ]
     },
     "execution_count": 7,
     "metadata": {},
     "output_type": "execute_result"
    }
   ],
   "source": [
    "df = pd.read_csv(\"base_1sentPerRow.csv\")\n",
    "df.head()"
   ]
  },
  {
   "cell_type": "code",
   "execution_count": 9,
   "metadata": {},
   "outputs": [],
   "source": [
    "def f(df):\n",
    "    res = []\n",
    "    for i in range(0, len(df), 2):\n",
    "        i_fig = i if df.loc[i, 'label'] == 'figurative' else i + 1\n",
    "        i_lit = (i + 1) if df.loc[i + 1, 'label'] == 'literal' else i\n",
    "        res.append([\n",
    "            df.loc[i, 'idiom'],             # idiom\n",
    "            df.loc[i, 'meaning'],           # meaning\n",
    "            df.loc[i_fig, 'source'],        # s_f_brkt\n",
    "            df.loc[i_lit, 'source'],        # s_l_brkt\n",
    "        ])\n",
    "    return pd.DataFrame(res, \n",
    "            columns=['idiom', 'meaning', 's_f_brkt', 's_l_brkt'])\n",
    "base = pd.read_csv(\"base_1sentPerRow.csv\")\n",
    "base = f(base)"
   ]
  },
  {
   "cell_type": "code",
   "execution_count": 10,
   "metadata": {},
   "outputs": [],
   "source": [
    "import re\n",
    "\n",
    "def no_brkt(df, col_br, col_nobr):\n",
    "    # Creating a new column 'text_without_brackets' by removing the square brackets\n",
    "    df[col_nobr] = df[col_br].str.replace(r'\\[\\[', '', regex=True).str.replace(r'\\]\\]', '', regex=True)\n",
    "    return df\n",
    "\n",
    "def in_brkt(df, col_br, col_in_br):\n",
    "    df[col_in_br] = df[col_br].apply(lambda x: ' '.join(re.findall(r'\\[\\[(.*?)\\]\\]', x)))\n",
    "    return df\n",
    "\n",
    "base = no_brkt(base, 's_f_brkt', 's_f')\n",
    "base = no_brkt(base, 's_l_brkt', 's_l')\n",
    "base = in_brkt(base, 's_f_brkt', 's_a')"
   ]
  },
  {
   "cell_type": "code",
   "execution_count": 12,
   "metadata": {},
   "outputs": [],
   "source": [
    "base.to_csv(\"base_1idiomPerRow.csv\", index=False)"
   ]
  },
  {
   "cell_type": "code",
   "execution_count": 16,
   "metadata": {},
   "outputs": [],
   "source": [
    "def series_to_txt(series, filename):\n",
    "    with open(filename, 'w') as f:\n",
    "        for item in series:\n",
    "            f.write(\"%s\\n\" % item)\n",
    "\n",
    "# Using the function:\n",
    "series_to_txt(base['s_a'], 's_a_512.txt')\n",
    "series_to_txt(base['s_f'], 's_f_512.txt')\n",
    "series_to_txt(base['s_l'], 's_l_512.txt')\n"
   ]
  },
  {
   "cell_type": "code",
   "execution_count": null,
   "metadata": {},
   "outputs": [],
   "source": []
  }
 ],
 "metadata": {
  "kernelspec": {
   "display_name": "py3.8",
   "language": "python",
   "name": "python3"
  },
  "language_info": {
   "codemirror_mode": {
    "name": "ipython",
    "version": 3
   },
   "file_extension": ".py",
   "mimetype": "text/x-python",
   "name": "python",
   "nbconvert_exporter": "python",
   "pygments_lexer": "ipython3",
   "version": "3.8.15"
  },
  "orig_nbformat": 4
 },
 "nbformat": 4,
 "nbformat_minor": 2
}
