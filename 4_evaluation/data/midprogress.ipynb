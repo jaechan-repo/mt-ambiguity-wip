{
 "cells": [
  {
   "cell_type": "code",
   "execution_count": 241,
   "metadata": {},
   "outputs": [],
   "source": [
    "import pandas as pd\n",
    "import numpy as np\n",
    "\n",
    "df_zh = pd.read_csv('zh.csv')\n",
    "df_ko = pd.read_csv('ko.csv')"
   ]
  },
  {
   "cell_type": "code",
   "execution_count": 242,
   "metadata": {},
   "outputs": [],
   "source": [
    "def mark_completed(df):\n",
    "    # Create a vector to flag rows to keep\n",
    "    completed = np.zeros(len(df), dtype=bool)\n",
    "    # Iterate over pairs of rows\n",
    "    for i in range(0, len(df), 2):\n",
    "        # If either row in the pair has 'Malformed Brackets' == 'FALSE', set keep to False for both\n",
    "        if ((df.loc[i, 'Malformed Brackets'] == 'FALSE') and (df.loc[i+1, 'Malformed Brackets'] == 'FALSE')) \\\n",
    "                or (df.loc[i, 'Discard'] == 'TRUE') or (df.loc[i+1, 'Discard'] == 'TRUE') \\\n",
    "                or (df.loc[i, 'Equivalent idiom'] == 'TRUE') or (df.loc[i+1, 'Equivalent idiom'] == 'TRUE'):\n",
    "            completed[i] = True\n",
    "            completed[i+1] = True\n",
    "    # Apply the mask and return the filtered dataframe\n",
    "    return df[completed]"
   ]
  },
  {
   "cell_type": "code",
   "execution_count": 243,
   "metadata": {},
   "outputs": [],
   "source": [
    "df_ko.columns = df_ko.iloc[3]\n",
    "df_ko = df_ko[6::].reset_index(drop=True)\n",
    "df_ko = mark_completed(df_ko).reset_index(drop=True)"
   ]
  },
  {
   "cell_type": "code",
   "execution_count": 245,
   "metadata": {},
   "outputs": [
    {
     "data": {
      "text/plain": [
       "506"
      ]
     },
     "execution_count": 245,
     "metadata": {},
     "output_type": "execute_result"
    }
   ],
   "source": [
    "len(df_ko)"
   ]
  },
  {
   "cell_type": "code",
   "execution_count": 244,
   "metadata": {},
   "outputs": [],
   "source": [
    "df_zh.columns = df_zh.iloc[0]\n",
    "df_zh = df_zh[3::].reset_index(drop=True)\n",
    "df_zh = mark_completed(df_zh).reset_index(drop=True)"
   ]
  },
  {
   "cell_type": "code",
   "execution_count": 184,
   "metadata": {},
   "outputs": [],
   "source": [
    "def f(df):\n",
    "    res = []\n",
    "    for i in range(0, len(df), 2):\n",
    "        equiv_idiom = df.loc[i, 'Equivalent idiom'] == 'TRUE' or df.loc[i + 1, 'Equivalent idiom'] == 'TRUE'\n",
    "        discard = df.loc[i, 'Discard'] == 'TRUE' or df.loc[i + 1, 'Discard'] == 'TRUE'\n",
    "        res.append([\n",
    "            df.loc[i, 'Idiom'],             # idiom\n",
    "            df.loc[i, 'Meaning'],           # meaning\n",
    "            df.loc[i, 'Source '],            # s_f_brkt  \n",
    "            'figurative', \n",
    "            df.loc[i, 'Translation'],       # t_f_brkt\n",
    "            equiv_idiom,\n",
    "            discard\n",
    "        ])\n",
    "        res.append([\n",
    "            df.loc[i, 'Idiom'],             # idiom\n",
    "            df.loc[i, 'Meaning'],           # meaning\n",
    "            df.loc[i + 1, 'Source '],        # s_l_brkt\n",
    "            'literal',\n",
    "            df.loc[i + 1, 'Translation'],   # t_l_brkt\n",
    "            equiv_idiom,\n",
    "            discard\n",
    "        ])\n",
    "    return pd.DataFrame(res, \n",
    "            columns=['idiom', 'meaning', 'source', 'label', 'translation', 'equiv_idiom', 'discard'])\n",
    "\n",
    "df_ko_agg = f(df_ko)\n",
    "df_zh_agg = f(df_zh)"
   ]
  },
  {
   "cell_type": "code",
   "execution_count": 185,
   "metadata": {},
   "outputs": [],
   "source": [
    "df_merged = pd.merge(df_ko_agg, df_zh_agg, how='outer', on=['idiom', 'meaning', 'source', 'label'], suffixes=['_ko', '_zh'])"
   ]
  },
  {
   "cell_type": "code",
   "execution_count": 186,
   "metadata": {},
   "outputs": [],
   "source": [
    "df_base = pd.read_csv('base.csv')"
   ]
  },
  {
   "cell_type": "code",
   "execution_count": 187,
   "metadata": {},
   "outputs": [],
   "source": [
    "df_true_merged = pd.merge(df_base, df_merged, how='outer', on=['idiom', 'meaning', 'label', 'source'])"
   ]
  },
  {
   "cell_type": "code",
   "execution_count": 188,
   "metadata": {},
   "outputs": [],
   "source": [
    "df_true_merged[['equiv_idiom_zh', 'discard_zh', 'equiv_idiom_ko', 'discard_ko']] = df_true_merged[['equiv_idiom_zh', 'discard_zh', 'equiv_idiom_ko', 'discard_ko']].fillna(False)\n",
    "df_true_merged = df_true_merged[(~df_true_merged['equiv_idiom_zh']) & (~df_true_merged['discard_zh'])\n",
    "            & (~df_true_merged['equiv_idiom_ko']) & (~df_true_merged['discard_ko'])]"
   ]
  },
  {
   "cell_type": "code",
   "execution_count": 189,
   "metadata": {},
   "outputs": [],
   "source": [
    "df_true_merged.reset_index(drop=True, inplace=True)\n",
    "\n",
    "# Create the pairs of indices\n",
    "pairs_indices = [(i, i+1) for i in range(0, len(df_true_merged), 2)]\n",
    "\n",
    "# Select 50 random pairs of indices\n",
    "np.random.seed(42)\n",
    "selected_pairs = np.random.choice(len(pairs_indices), size=100, replace=False)\n",
    "\n",
    "# Now, let's get the actual indices for these selected pairs\n",
    "selected_indices = [idx for pair in selected_pairs for idx in pairs_indices[pair]]\n",
    "\n",
    "# Select these indices from the dataframe\n",
    "sample_df_true_merged = df_true_merged.loc[selected_indices]"
   ]
  },
  {
   "cell_type": "code",
   "execution_count": 206,
   "metadata": {},
   "outputs": [
    {
     "data": {
      "text/plain": [
       "Index(['idiom', 'meaning', 'source', 'label', 'translation_ko',\n",
       "       'equiv_idiom_ko', 'discard_ko', 'translation_zh', 'equiv_idiom_zh',\n",
       "       'discard_zh'],\n",
       "      dtype='object')"
      ]
     },
     "execution_count": 206,
     "metadata": {},
     "output_type": "execute_result"
    }
   ],
   "source": [
    "df_merged.columns"
   ]
  },
  {
   "attachments": {},
   "cell_type": "markdown",
   "metadata": {},
   "source": [
    "# End"
   ]
  },
  {
   "cell_type": "code",
   "execution_count": 208,
   "metadata": {},
   "outputs": [],
   "source": [
    "# You can perform a set difference with these two dataframes:\n",
    "df_all = pd.merge(df_merged, sample_df_true_merged, how='outer', indicator=True, on=['idiom', 'meaning', 'label', 'source'])\n",
    "df1 = df_all[df_all['_merge'] == 'left_only'].reset_index(drop=True).drop('_merge', axis=1)\n",
    "df1 = df1.rename(columns={\n",
    "    'translation_ko_x': 'translation_ko',\n",
    "    'equiv_idiom_ko_x': 'equiv_idiom_ko', \n",
    "    'discard_ko_x': 'discard_ko', \n",
    "    'translation_zh_x': 'translation_zh',\n",
    "    'equiv_idiom_zh_x': 'equiv_idiom_zh', \n",
    "    'discard_zh_x': 'discard_zh',\n",
    "})[['idiom', 'meaning', 'source', 'label', 'translation_ko',\n",
    "       'equiv_idiom_ko', 'discard_ko', 'translation_zh', 'equiv_idiom_zh',\n",
    "       'discard_zh']]\n",
    "df3 = sample_df_true_merged.copy()"
   ]
  },
  {
   "cell_type": "code",
   "execution_count": 210,
   "metadata": {},
   "outputs": [],
   "source": [
    "def is_truthy(value):\n",
    "    if pd.isna(value):\n",
    "        return False\n",
    "    else:\n",
    "        return bool(value)\n",
    "def compute(row):\n",
    "    row['complete_ko'] = (is_truthy(row['translation_ko'])) \\\n",
    "        or row['equiv_idiom_ko'] or row['discard_ko']\n",
    "    row['complete_zh'] = (is_truthy(row['translation_zh'])) \\\n",
    "        or row['equiv_idiom_zh'] or row['discard_zh']\n",
    "    return row\n",
    "df1[['equiv_idiom_zh', 'discard_zh', 'equiv_idiom_ko', 'discard_ko']] = \\\n",
    "    df1[['equiv_idiom_zh', 'discard_zh', 'equiv_idiom_ko', 'discard_ko']].fillna(False)\n",
    "df1 = df1.apply(compute, axis=1)"
   ]
  },
  {
   "cell_type": "code",
   "execution_count": 211,
   "metadata": {},
   "outputs": [],
   "source": [
    "# You can perform a set difference with these two dataframes:\n",
    "df_all = pd.merge(df_base, pd.concat([df1, df3]), how='outer', indicator=True)\n",
    "# The set difference (elements in df1 but not in df2)\n",
    "df2 = df_all[df_all['_merge'] == 'left_only'].reset_index(drop=True).drop('_merge', axis=1)"
   ]
  },
  {
   "cell_type": "code",
   "execution_count": 213,
   "metadata": {},
   "outputs": [],
   "source": [
    "def reverse_pairs(df):\n",
    "    pairs = [df.iloc[i:i+2] for i in range(0, len(df), 2)]\n",
    "    reversed_pairs = pairs[::-1]\n",
    "    df_reversed = pd.concat(reversed_pairs).reset_index(drop=True)\n",
    "    return df_reversed\n",
    "\n",
    "df3 = reverse_pairs(df3)"
   ]
  },
  {
   "cell_type": "code",
   "execution_count": 215,
   "metadata": {},
   "outputs": [],
   "source": [
    "df2[['equiv_idiom_ko', 'discard_ko', 'equiv_idiom_zh',\n",
    "    'discard_zh', 'complete_ko', 'complete_zh']] = False\n",
    "df3[['equiv_idiom_ko', 'discard_ko', 'equiv_idiom_zh', \n",
    "     'discard_zh', 'complete_ko', 'complete_zh']] = False"
   ]
  },
  {
   "cell_type": "code",
   "execution_count": 229,
   "metadata": {},
   "outputs": [],
   "source": [
    "import random\n",
    "\n",
    "def randomize_pairs(df):\n",
    "    pairs = [df.iloc[i:i+2] for i in range(0, len(df), 2)]\n",
    "    pairs_copy = pairs.copy()\n",
    "    random.seed(42)\n",
    "    random.shuffle(pairs_copy)\n",
    "    df_shuffled = pd.concat(pairs_copy).reset_index(drop=True)\n",
    "    return df_shuffled"
   ]
  },
  {
   "cell_type": "code",
   "execution_count": 224,
   "metadata": {},
   "outputs": [
    {
     "data": {
      "text/html": [
       "<div>\n",
       "<style scoped>\n",
       "    .dataframe tbody tr th:only-of-type {\n",
       "        vertical-align: middle;\n",
       "    }\n",
       "\n",
       "    .dataframe tbody tr th {\n",
       "        vertical-align: top;\n",
       "    }\n",
       "\n",
       "    .dataframe thead th {\n",
       "        text-align: right;\n",
       "    }\n",
       "</style>\n",
       "<table border=\"1\" class=\"dataframe\">\n",
       "  <thead>\n",
       "    <tr style=\"text-align: right;\">\n",
       "      <th></th>\n",
       "      <th>idiom</th>\n",
       "      <th>meaning</th>\n",
       "      <th>label</th>\n",
       "      <th>source</th>\n",
       "      <th>translation_ko</th>\n",
       "      <th>equiv_idiom_ko</th>\n",
       "      <th>discard_ko</th>\n",
       "      <th>translation_zh</th>\n",
       "      <th>equiv_idiom_zh</th>\n",
       "      <th>discard_zh</th>\n",
       "      <th>complete_ko</th>\n",
       "      <th>complete_zh</th>\n",
       "    </tr>\n",
       "  </thead>\n",
       "  <tbody>\n",
       "    <tr>\n",
       "      <th>0</th>\n",
       "      <td>end of story</td>\n",
       "      <td>there is  nothing more to add to the matter un...</td>\n",
       "      <td>figurative</td>\n",
       "      <td>I told him I wasn't interested, and [[that's t...</td>\n",
       "      <td>NaN</td>\n",
       "      <td>False</td>\n",
       "      <td>False</td>\n",
       "      <td>NaN</td>\n",
       "      <td>False</td>\n",
       "      <td>False</td>\n",
       "      <td>False</td>\n",
       "      <td>False</td>\n",
       "    </tr>\n",
       "    <tr>\n",
       "      <th>1</th>\n",
       "      <td>end of story</td>\n",
       "      <td>there is  nothing more to add to the matter un...</td>\n",
       "      <td>literal</td>\n",
       "      <td>She closed the book and said, '[[that's the en...</td>\n",
       "      <td>NaN</td>\n",
       "      <td>False</td>\n",
       "      <td>False</td>\n",
       "      <td>NaN</td>\n",
       "      <td>False</td>\n",
       "      <td>False</td>\n",
       "      <td>False</td>\n",
       "      <td>False</td>\n",
       "    </tr>\n",
       "    <tr>\n",
       "      <th>2</th>\n",
       "      <td>every nook and cranny</td>\n",
       "      <td>to look for something everywhere</td>\n",
       "      <td>figurative</td>\n",
       "      <td>To find the perfect gift, [[they searched ever...</td>\n",
       "      <td>NaN</td>\n",
       "      <td>False</td>\n",
       "      <td>False</td>\n",
       "      <td>NaN</td>\n",
       "      <td>False</td>\n",
       "      <td>False</td>\n",
       "      <td>False</td>\n",
       "      <td>False</td>\n",
       "    </tr>\n",
       "    <tr>\n",
       "      <th>3</th>\n",
       "      <td>every nook and cranny</td>\n",
       "      <td>to look for something everywhere</td>\n",
       "      <td>literal</td>\n",
       "      <td>During the deep cleaning, [[they searched ever...</td>\n",
       "      <td>NaN</td>\n",
       "      <td>False</td>\n",
       "      <td>False</td>\n",
       "      <td>NaN</td>\n",
       "      <td>False</td>\n",
       "      <td>False</td>\n",
       "      <td>False</td>\n",
       "      <td>False</td>\n",
       "    </tr>\n",
       "    <tr>\n",
       "      <th>4</th>\n",
       "      <td>face the music</td>\n",
       "      <td>receive punishment</td>\n",
       "      <td>figurative</td>\n",
       "      <td>After making a mistake at work, [[they faced t...</td>\n",
       "      <td>NaN</td>\n",
       "      <td>False</td>\n",
       "      <td>False</td>\n",
       "      <td>NaN</td>\n",
       "      <td>False</td>\n",
       "      <td>False</td>\n",
       "      <td>False</td>\n",
       "      <td>False</td>\n",
       "    </tr>\n",
       "    <tr>\n",
       "      <th>...</th>\n",
       "      <td>...</td>\n",
       "      <td>...</td>\n",
       "      <td>...</td>\n",
       "      <td>...</td>\n",
       "      <td>...</td>\n",
       "      <td>...</td>\n",
       "      <td>...</td>\n",
       "      <td>...</td>\n",
       "      <td>...</td>\n",
       "      <td>...</td>\n",
       "      <td>...</td>\n",
       "      <td>...</td>\n",
       "    </tr>\n",
       "    <tr>\n",
       "      <th>413</th>\n",
       "      <td>tore your hair out</td>\n",
       "      <td>to be extremely agitated or distressed about s...</td>\n",
       "      <td>literal</td>\n",
       "      <td>You accidentally [[tore your hair out]] while ...</td>\n",
       "      <td>NaN</td>\n",
       "      <td>False</td>\n",
       "      <td>False</td>\n",
       "      <td>NaN</td>\n",
       "      <td>False</td>\n",
       "      <td>False</td>\n",
       "      <td>False</td>\n",
       "      <td>False</td>\n",
       "    </tr>\n",
       "    <tr>\n",
       "      <th>414</th>\n",
       "      <td>treasure trove</td>\n",
       "      <td>a priceless or valuable discovery</td>\n",
       "      <td>figurative</td>\n",
       "      <td>When they found the old library, [[they discov...</td>\n",
       "      <td>NaN</td>\n",
       "      <td>False</td>\n",
       "      <td>False</td>\n",
       "      <td>NaN</td>\n",
       "      <td>False</td>\n",
       "      <td>False</td>\n",
       "      <td>False</td>\n",
       "      <td>False</td>\n",
       "    </tr>\n",
       "    <tr>\n",
       "      <th>415</th>\n",
       "      <td>treasure trove</td>\n",
       "      <td>a priceless or valuable discovery</td>\n",
       "      <td>literal</td>\n",
       "      <td>While digging in the backyard, [[they discover...</td>\n",
       "      <td>NaN</td>\n",
       "      <td>False</td>\n",
       "      <td>False</td>\n",
       "      <td>NaN</td>\n",
       "      <td>False</td>\n",
       "      <td>False</td>\n",
       "      <td>False</td>\n",
       "      <td>False</td>\n",
       "    </tr>\n",
       "    <tr>\n",
       "      <th>416</th>\n",
       "      <td>turn back on</td>\n",
       "      <td>choose not to speak to</td>\n",
       "      <td>figurative</td>\n",
       "      <td>[[She turned back on the situation]] when she ...</td>\n",
       "      <td>NaN</td>\n",
       "      <td>False</td>\n",
       "      <td>False</td>\n",
       "      <td>NaN</td>\n",
       "      <td>False</td>\n",
       "      <td>False</td>\n",
       "      <td>False</td>\n",
       "      <td>False</td>\n",
       "    </tr>\n",
       "    <tr>\n",
       "      <th>417</th>\n",
       "      <td>turn back on</td>\n",
       "      <td>choose not to speak to</td>\n",
       "      <td>literal</td>\n",
       "      <td>[[She turned back on the situation]] to avoid ...</td>\n",
       "      <td>NaN</td>\n",
       "      <td>False</td>\n",
       "      <td>False</td>\n",
       "      <td>NaN</td>\n",
       "      <td>False</td>\n",
       "      <td>False</td>\n",
       "      <td>False</td>\n",
       "      <td>False</td>\n",
       "    </tr>\n",
       "  </tbody>\n",
       "</table>\n",
       "<p>418 rows × 12 columns</p>\n",
       "</div>"
      ],
      "text/plain": [
       "                     idiom                                            meaning  \\\n",
       "0             end of story  there is  nothing more to add to the matter un...   \n",
       "1             end of story  there is  nothing more to add to the matter un...   \n",
       "2    every nook and cranny                   to look for something everywhere   \n",
       "3    every nook and cranny                   to look for something everywhere   \n",
       "4           face the music                                 receive punishment   \n",
       "..                     ...                                                ...   \n",
       "413     tore your hair out  to be extremely agitated or distressed about s...   \n",
       "414         treasure trove                  a priceless or valuable discovery   \n",
       "415         treasure trove                  a priceless or valuable discovery   \n",
       "416           turn back on                             choose not to speak to   \n",
       "417           turn back on                             choose not to speak to   \n",
       "\n",
       "          label                                             source  \\\n",
       "0    figurative  I told him I wasn't interested, and [[that's t...   \n",
       "1       literal  She closed the book and said, '[[that's the en...   \n",
       "2    figurative  To find the perfect gift, [[they searched ever...   \n",
       "3       literal  During the deep cleaning, [[they searched ever...   \n",
       "4    figurative  After making a mistake at work, [[they faced t...   \n",
       "..          ...                                                ...   \n",
       "413     literal  You accidentally [[tore your hair out]] while ...   \n",
       "414  figurative  When they found the old library, [[they discov...   \n",
       "415     literal  While digging in the backyard, [[they discover...   \n",
       "416  figurative  [[She turned back on the situation]] when she ...   \n",
       "417     literal  [[She turned back on the situation]] to avoid ...   \n",
       "\n",
       "    translation_ko  equiv_idiom_ko  discard_ko translation_zh  equiv_idiom_zh  \\\n",
       "0              NaN           False       False            NaN           False   \n",
       "1              NaN           False       False            NaN           False   \n",
       "2              NaN           False       False            NaN           False   \n",
       "3              NaN           False       False            NaN           False   \n",
       "4              NaN           False       False            NaN           False   \n",
       "..             ...             ...         ...            ...             ...   \n",
       "413            NaN           False       False            NaN           False   \n",
       "414            NaN           False       False            NaN           False   \n",
       "415            NaN           False       False            NaN           False   \n",
       "416            NaN           False       False            NaN           False   \n",
       "417            NaN           False       False            NaN           False   \n",
       "\n",
       "     discard_zh  complete_ko  complete_zh  \n",
       "0         False        False        False  \n",
       "1         False        False        False  \n",
       "2         False        False        False  \n",
       "3         False        False        False  \n",
       "4         False        False        False  \n",
       "..          ...          ...          ...  \n",
       "413       False        False        False  \n",
       "414       False        False        False  \n",
       "415       False        False        False  \n",
       "416       False        False        False  \n",
       "417       False        False        False  \n",
       "\n",
       "[418 rows x 12 columns]"
      ]
     },
     "execution_count": 224,
     "metadata": {},
     "output_type": "execute_result"
    }
   ],
   "source": [
    "df2"
   ]
  },
  {
   "cell_type": "code",
   "execution_count": 237,
   "metadata": {},
   "outputs": [
    {
     "name": "stderr",
     "output_type": "stream",
     "text": [
      "/var/folders/92/6j34w0196yq0cnnrfrw0s68w0000gn/T/ipykernel_34388/153837169.py:9: SettingWithCopyWarning: \n",
      "A value is trying to be set on a copy of a slice from a DataFrame\n",
      "\n",
      "See the caveats in the documentation: https://pandas.pydata.org/pandas-docs/stable/user_guide/indexing.html#returning-a-view-versus-a-copy\n",
      "  df_true.sort_values(by='idiom', inplace=True, kind='stable')\n"
     ]
    }
   ],
   "source": [
    "df_two = pd.concat([df1, df2]).reset_index(drop=True)\n",
    "df_two.sort_values(by='complete_zh', ascending=False, inplace=True, kind='stable')\n",
    "\n",
    "# Split DataFrame\n",
    "df_true = df_two[df_two['complete_zh'] == True]\n",
    "df_false = df_two[df_two['complete_zh'] == False]\n",
    "\n",
    "# Sort DataFrame with true values by 'idiom'\n",
    "df_true.sort_values(by='idiom', inplace=True, kind='stable')\n",
    "\n",
    "# Shuffle DataFrame with false values\n",
    "df_false = randomize_pairs(df_false)\n",
    "\n",
    "# Concatenate two DataFrames\n",
    "df_two = pd.concat([df_true, df_false], ignore_index=True)"
   ]
  },
  {
   "cell_type": "code",
   "execution_count": 240,
   "metadata": {},
   "outputs": [],
   "source": [
    "df = pd.concat([df_two, df3], ignore_index=True)\n",
    "df.to_csv(\"ko_zh_1024.csv\", index=False)"
   ]
  },
  {
   "cell_type": "code",
   "execution_count": null,
   "metadata": {},
   "outputs": [],
   "source": []
  }
 ],
 "metadata": {
  "kernelspec": {
   "display_name": "py3.8",
   "language": "python",
   "name": "python3"
  },
  "language_info": {
   "codemirror_mode": {
    "name": "ipython",
    "version": 3
   },
   "file_extension": ".py",
   "mimetype": "text/x-python",
   "name": "python",
   "nbconvert_exporter": "python",
   "pygments_lexer": "ipython3",
   "version": "3.8.15"
  },
  "orig_nbformat": 4
 },
 "nbformat": 4,
 "nbformat_minor": 2
}
