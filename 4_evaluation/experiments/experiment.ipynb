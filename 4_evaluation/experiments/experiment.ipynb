{
 "cells": [
  {
   "cell_type": "code",
   "execution_count": null,
   "metadata": {},
   "outputs": [],
   "source": [
    "import sys\n",
    "import os\n",
    "import pandas as pd\n",
    "from tqdm import tqdm\n",
    "import time\n",
    "sys.path.insert(1, os.path.join(sys.path[0], '..'))\n",
    "from mta_metrics import bleu_sim, meteor_sim, chrf_sim, bertscore_sim, comet_sim, \\\n",
    "    bert_contained_in, chrp_contained_in\n",
    "from mta_metrics.alignment import awesome_align, usw_nm\n",
    "from translate import gpt, google, opus\n",
    "tqdm.pandas()\n",
    "import torch\n",
    "torch.device('mps')\n",
    "torch.cuda.empty_cache()"
   ]
  },
  {
   "cell_type": "code",
   "execution_count": null,
   "metadata": {},
   "outputs": [],
   "source": [
    "df = pd.read_csv('/Users/chany/research/mt-ambiguity/4_evaluation/data/base_1idiomPerRow.csv')\n",
    "df.columns"
   ]
  },
  {
   "cell_type": "code",
   "execution_count": null,
   "metadata": {},
   "outputs": [],
   "source": [
    "langs = {\n",
    "    'de': 'German',\n",
    "    'he': 'Hebrew', \n",
    "    'hi': 'Hindi',\n",
    "    'hu': 'Hungarian', \n",
    "    'ko': 'Korean',\n",
    "    'es': 'Spanish',\n",
    "    'yo': 'Yoruba',\n",
    "    'zh': 'Chinese'\n",
    "}"
   ]
  },
  {
   "attachments": {},
   "cell_type": "markdown",
   "metadata": {},
   "source": [
    "# Translate"
   ]
  },
  {
   "attachments": {},
   "cell_type": "markdown",
   "metadata": {},
   "source": [
    "### GPT-4"
   ]
  },
  {
   "cell_type": "code",
   "execution_count": null,
   "metadata": {},
   "outputs": [],
   "source": [
    "def gpt_wrapper(x, lang, time_passed=1):\n",
    "    time.sleep(time_passed)\n",
    "    try:\n",
    "        return gpt(x, lang)\n",
    "    except:\n",
    "        if time_passed >= 4:\n",
    "            print(\"backoff: \", time_passed)\n",
    "        return gpt_wrapper(x, lang, time_passed * 2)"
   ]
  },
  {
   "cell_type": "code",
   "execution_count": null,
   "metadata": {},
   "outputs": [],
   "source": [
    "i = 0\n",
    "for lang in langs:\n",
    "    for afl in ['a', 'f', 'l']:\n",
    "        df[f'p_{afl}_{lang}_gpt'] = df[f\"s_{afl}\"].progress_apply(\n",
    "            lambda x: gpt_wrapper(x, langs[lang]))\n",
    "        df.to_csv(f\"./ckpt/gpt/ckpt_{i}.csv\", index=False)\n",
    "        i += 1"
   ]
  },
  {
   "cell_type": "code",
   "execution_count": null,
   "metadata": {},
   "outputs": [],
   "source": [
    "df.to_csv(\"translation_gpt.csv\")"
   ]
  },
  {
   "attachments": {},
   "cell_type": "markdown",
   "metadata": {},
   "source": [
    "**Merge**"
   ]
  },
  {
   "cell_type": "code",
   "execution_count": null,
   "metadata": {},
   "outputs": [],
   "source": [
    "os.chdir(\"ckpt\")\n",
    "for lang in langs:\n",
    "    for label in ['a', 'f', 'l']:\n",
    "        col = pd.read_csv(f'{label}_{lang}.csv')[f'p_{label}_{lang}_gpt']\n",
    "        df[f'p_{label}_{lang}_gpt'] = col\n",
    "os.chdir(\"..\")"
   ]
  },
  {
   "cell_type": "code",
   "execution_count": null,
   "metadata": {},
   "outputs": [],
   "source": [
    "df.to_csv(\"translation_gpt.csv\", index=False)"
   ]
  },
  {
   "attachments": {},
   "cell_type": "markdown",
   "metadata": {},
   "source": [
    "### Google"
   ]
  },
  {
   "cell_type": "code",
   "execution_count": null,
   "metadata": {},
   "outputs": [],
   "source": [
    "def google_wrapper(x, lang):\n",
    "    try:\n",
    "        return google(x, lang)\n",
    "    except:\n",
    "        time.sleep(5)\n",
    "        return google(x, lang)"
   ]
  },
  {
   "cell_type": "code",
   "execution_count": null,
   "metadata": {},
   "outputs": [],
   "source": [
    "for lang in langs:\n",
    "    print(f\"Begin Google Translation: {lang}\")\n",
    "    df[f'p_f_{lang}_google'] = google_wrapper(df['s_f'], lang)\n",
    "    df[f'p_l_{lang}_google'] = google_wrapper(df['s_l'], lang)\n",
    "    df[f'p_a_{lang}_google'] = google_wrapper(df['s_a'], lang)\n",
    "    print()"
   ]
  },
  {
   "attachments": {},
   "cell_type": "markdown",
   "metadata": {},
   "source": [
    "### Opus MT"
   ]
  },
  {
   "cell_type": "code",
   "execution_count": null,
   "metadata": {},
   "outputs": [],
   "source": [
    "for lang in langs:\n",
    "    if lang == 'ko':\n",
    "        df[f'p_a_ko_opus'] = ''\n",
    "        df[f'p_f_ko_opus'] = ''\n",
    "        df[f'p_l_ko_opus'] = ''\n",
    "    try:\n",
    "        print(f\"Begin Opus MT: {lang}\")\n",
    "        df[f'p_a_{lang}_opus'] = opus(df['s_a'].tolist(), lang)\n",
    "        df[f'p_f_{lang}_opus'] = opus(df['s_f'].tolist(), lang)\n",
    "        df[f'p_l_{lang}_opus'] = opus(df['s_l'].tolist(), lang)\n",
    "        print()\n",
    "    except:\n",
    "        print(f\"Exception thrown at lang {lang}\")\n",
    "        continue"
   ]
  },
  {
   "cell_type": "code",
   "execution_count": null,
   "metadata": {},
   "outputs": [],
   "source": [
    "df.to_csv(\"translation_opus.csv\", index=False)"
   ]
  },
  {
   "attachments": {},
   "cell_type": "markdown",
   "metadata": {},
   "source": [
    "### NLLB"
   ]
  },
  {
   "cell_type": "code",
   "execution_count": null,
   "metadata": {},
   "outputs": [],
   "source": [
    "os.chdir(\"nllb\")\n",
    "for label, idx in zip(['f', 'l', 'a'], range(0, 512 * 3, 512)):\n",
    "\n",
    "    with open(f'deu_Latn.txt', 'r') as file:\n",
    "        lines = [line.strip() for line in file]\n",
    "        df[f'p_{label}_de_nllb'] = lines[idx : idx + 512]\n",
    "\n",
    "    with open(f'heb_Hebr.txt', 'r') as file:\n",
    "        lines = [line.strip() for line in file]\n",
    "        df[f'p_{label}_he_nllb'] = lines[idx : idx + 512]\n",
    "\n",
    "    with open(f'hin_Deva.txt', 'r') as file:\n",
    "        lines = [line.strip() for line in file]\n",
    "        df[f'p_{label}_hi_nllb'] = lines[idx : idx + 512]\n",
    "\n",
    "    with open(f'hun_Latn.txt', 'r') as file:\n",
    "        lines = [line.strip() for line in file]\n",
    "        df[f'p_{label}_hu_nllb'] = lines[idx : idx + 512]\n",
    "\n",
    "    with open(f'kor_Hang.txt', 'r') as file:\n",
    "        lines = [line.strip() for line in file]\n",
    "        df[f'p_{label}_ko_nllb'] = lines[idx : idx + 512]\n",
    "\n",
    "    with open(f'spa_Latn.txt', 'r') as file:\n",
    "        lines = [line.strip() for line in file]\n",
    "        df[f'p_{label}_es_nllb'] = lines[idx : idx + 512]\n",
    "\n",
    "    with open(f'yor_Latn.txt', 'r') as file:\n",
    "        lines = [line.strip() for line in file]\n",
    "        df[f'p_{label}_yo_nllb'] = lines[idx : idx + 512]\n",
    "\n",
    "    with open(f'zho_Hans.txt', 'r') as file:\n",
    "        lines = [line.strip() for line in file]\n",
    "        df[f'p_{label}_zh_nllb'] = lines[idx : idx + 512]\n",
    "\n",
    "os.chdir(\"..\")"
   ]
  },
  {
   "cell_type": "code",
   "execution_count": null,
   "metadata": {},
   "outputs": [],
   "source": [
    "df.to_csv(\"translation_nllb.csv\", index=False)"
   ]
  },
  {
   "attachments": {},
   "cell_type": "markdown",
   "metadata": {},
   "source": [
    "### Combining"
   ]
  },
  {
   "cell_type": "code",
   "execution_count": null,
   "metadata": {},
   "outputs": [],
   "source": [
    "df = pd.concat([\n",
    "    pd.read_csv(\"../data/translation_gpt.csv\"),\n",
    "    pd.read_csv(\"../data/translation_palm.csv\"),\n",
    "    pd.read_csv(\"../data/translation_google.csv\"),\n",
    "    pd.read_csv(\"../data/translation_opus.csv\"),\n",
    "    pd.read_csv(\"../data/translation_nllb.csv\"),\n",
    "], axis=1)\n",
    "df = df.loc[:,~df.columns.duplicated(keep='first')]\n",
    "df.to_csv(\"../data/translation.csv\", index=False)"
   ]
  },
  {
   "cell_type": "code",
   "execution_count": null,
   "metadata": {},
   "outputs": [],
   "source": [
    "df = df"
   ]
  },
  {
   "attachments": {},
   "cell_type": "markdown",
   "metadata": {},
   "source": [
    "# Evaluation"
   ]
  },
  {
   "cell_type": "code",
   "execution_count": null,
   "metadata": {},
   "outputs": [],
   "source": [
    "df = pd.read_csv(\"../data/translation.csv\").fillna(\"\")"
   ]
  },
  {
   "attachments": {},
   "cell_type": "markdown",
   "metadata": {},
   "source": [
    "## RQ1"
   ]
  },
  {
   "cell_type": "code",
   "execution_count": null,
   "metadata": {},
   "outputs": [],
   "source": [
    "from spacy.lang.punctuation import PUNCT\n",
    "import spacy\n",
    "def tok(x, lang):\n",
    "    if lang == 'zh':\n",
    "        from spacy.lang.zh import Chinese\n",
    "        cfg = {\"segmenter\": \"jieba\"}\n",
    "        nlp = Chinese.from_config({\"nlp\": {\"tokenizer\": cfg}})\n",
    "    elif lang == 'ko':\n",
    "        nlp = spacy.load(\"ko_core_news_sm\")\n",
    "    elif lang == 'de':\n",
    "        nlp = spacy.load(\"de_core_news_sm\")\n",
    "    elif lang == 'es':\n",
    "        nlp = spacy.load(\"es_core_news_sm\")\n",
    "    elif lang == 'en':\n",
    "        nlp = spacy.load(\"en_core_web_sm\")\n",
    "    else:\n",
    "        nlp = spacy.blank(lang)\n",
    "    return ' '.join([token.text for token in nlp(x) if token.text not in PUNCT])"
   ]
  },
  {
   "cell_type": "code",
   "execution_count": null,
   "metadata": {},
   "outputs": [],
   "source": [
    "usw_result, nm_result = [], []\n",
    "models = ['gpt', 'palm', 'google', 'opus', 'nllb']"
   ]
  },
  {
   "cell_type": "code",
   "execution_count": null,
   "metadata": {},
   "outputs": [],
   "source": [
    "from string import punctuation\n",
    "def sstrip(x):\n",
    "    x = x.strip(\" \\n\\t\\r\")\n",
    "    x = x.strip(punctuation)\n",
    "    x = x.strip(\" \\n\\t\\r\")\n",
    "    x = x.strip(punctuation)\n",
    "    return x"
   ]
  },
  {
   "cell_type": "code",
   "execution_count": null,
   "metadata": {},
   "outputs": [],
   "source": [
    "from pandarallel import pandarallel\n",
    "pandarallel.initialize()\n",
    "df['s_a_tok'] = df['s_a'].parallel_apply(sstrip).parallel_apply(lambda x: tok(x, 'en'))\n",
    "df['s_f_tok'] = df['s_f'].parallel_apply(sstrip).parallel_apply(lambda x: tok(x, 'en'))\n",
    "df['s_l_tok'] = df['s_l'].parallel_apply(sstrip).parallel_apply(lambda x: tok(x, 'en'))\n",
    "for model in models:\n",
    "    for lang in langs:\n",
    "        print(model, lang)\n",
    "        df[f'p_a_{lang}_{model}_tok'] = df[f'p_a_{lang}_{model}'\n",
    "                ].parallel_apply(sstrip).parallel_apply(lambda x: tok(x, lang))\n",
    "        df[f'p_f_{lang}_{model}_tok'] = df[f'p_f_{lang}_{model}'\n",
    "                ].parallel_apply(sstrip).parallel_apply(lambda x: tok(x, lang))\n",
    "        df[f'p_l_{lang}_{model}_tok'] = df[f'p_l_{lang}_{model}'\n",
    "                ].parallel_apply(sstrip).parallel_apply(lambda x: tok(x, lang))"
   ]
  },
  {
   "cell_type": "code",
   "execution_count": null,
   "metadata": {},
   "outputs": [],
   "source": [
    "df.to_csv(\"../data/translation.tok.csv\", index=False)"
   ]
  },
  {
   "cell_type": "code",
   "execution_count": null,
   "metadata": {},
   "outputs": [],
   "source": [
    "df = pd.read_csv(\"../data/translation.tok.csv\").fillna(\"\")\n",
    "try:\n",
    "    df.drop(\"Unnamed: 0\", axis=1, inplace=True)\n",
    "except: pass\n",
    "df.head()"
   ]
  },
  {
   "cell_type": "code",
   "execution_count": null,
   "metadata": {},
   "outputs": [],
   "source": [
    "import os, sys\n",
    "\n",
    "class HiddenPrints:\n",
    "    def __enter__(self):\n",
    "        self._original_stdout = sys.stdout\n",
    "        sys.stdout = open(os.devnull, 'w')\n",
    "\n",
    "    def __exit__(self, exc_type, exc_val, exc_tb):\n",
    "        sys.stdout.close()\n",
    "        sys.stdout = self._original_stdout"
   ]
  },
  {
   "cell_type": "code",
   "execution_count": null,
   "metadata": {},
   "outputs": [],
   "source": [
    "models = ['gpt', 'palm', 'google', 'opus', 'nllb']\n",
    "\n",
    "for model in models:\n",
    "    \n",
    "    for lang in langs:\n",
    "\n",
    "        language_pair = f'en-{lang}'\n",
    "\n",
    "        if model == 'opus' and lang == 'ko':\n",
    "            section[f'align_f_{lang}_{model}'], section[f'align_l_{lang}_{model}'] = \"\", \"\"\n",
    "            continue\n",
    "\n",
    "        # source and prediction\n",
    "        section = df[['s_f_tok', 's_l_tok', f'p_f_{lang}_{model}_tok',  f'p_l_{lang}_{model}_tok']].copy()\n",
    "\n",
    "        # remove rows with empty string\n",
    "        section = section[~(section == '').any(axis=1)].reset_index(drop=True)\n",
    "\n",
    "        print(model, lang, len(section))\n",
    "\n",
    "        with HiddenPrints():\n",
    "            section[f'align_f_{lang}_{model}'], section[f'align_l_{lang}_{model}'] = awesome_align(section['s_f_tok'], section[f'p_f_{lang}_{model}_tok']), \\\n",
    "                    awesome_align(section['s_l_tok'], section[f'p_l_{lang}_{model}_tok'])\n",
    "            df = pd.merge(df, section, how='left', \n",
    "                    on=['s_f_tok', 's_l_tok', f'p_f_{lang}_{model}_tok',  f'p_l_{lang}_{model}_tok']).fillna(\"\")"
   ]
  },
  {
   "cell_type": "code",
   "execution_count": null,
   "metadata": {},
   "outputs": [],
   "source": [
    "df.to_csv(\"../data/translation_align.csv\", index=False)"
   ]
  },
  {
   "cell_type": "code",
   "execution_count": null,
   "metadata": {},
   "outputs": [],
   "source": [
    "usw_a, nm_a = [], []\n",
    "usw_fl, nm_fl = [], []\n",
    "models = ['gpt', 'palm', 'google', 'opus', 'nllb']\n",
    "\n",
    "for model in models:\n",
    "    for lang in langs:\n",
    "        language_pair = f'en-{lang}'\n",
    "\n",
    "        if model == 'opus' and lang == 'ko':\n",
    "            usw_a.append([model, language_pair, 0])\n",
    "            nm_a.append([model, language_pair, 0])\n",
    "            continue\n",
    "\n",
    "        # source and prediction\n",
    "        section = df[['s_a_tok', 's_f_tok', 's_l_tok', f'p_a_{lang}_{model}_tok',  f'p_a_{lang}_{model}_tok',  f'p_a_{lang}_{model}_tok']].copy()\n",
    "\n",
    "        # remove rows with empty string\n",
    "        section = section[~(section == '').any(axis=1)].reset_index(drop=True)\n",
    "        print(model, lang, len(section))\n",
    "\n",
    "        with HiddenPrints():\n",
    "            alignments = awesome_align(section['s_a_tok'], section[f'p_a_{lang}_{model}_tok'])\n",
    "            usw, nm = usw_nm(section['s_a_tok'], alignments, section[f'p_a_{lang}_{model}_tok'])\n",
    "            usw_a.append([model, language_pair, usw])\n",
    "            nm_a.append([model, language_pair, nm])\n",
    "\n",
    "        with HiddenPrints():\n",
    "            alignments1, alignments2 = awesome_align(section['s_f_tok'], section[f'p_f_{lang}_{model}_tok']), \\\n",
    "                    awesome_align(section['s_l_tok'], section[f'p_l_{lang}_{model}_tok'])\n",
    "            usw1, nm1 = usw_nm(section['s_f_tok'], alignments1, section[f'p_f_{lang}_{model}_tok'])\n",
    "            usw2, nm2 = usw_nm(section['s_l_tok'], alignments2, section[f'p_l_{lang}_{model}_tok'])\n",
    "            usw_a.append([model, language_pair, usw])\n",
    "            nm_a.append([model, language_pair, nm])\n",
    "            usw_fl.append([model, language_pair, abs(usw1 - usw2)])\n",
    "            nm_fl.append([model, language_pair, abs(nm1 - nm2)])"
   ]
  },
  {
   "cell_type": "code",
   "execution_count": null,
   "metadata": {},
   "outputs": [],
   "source": [
    "(pd.DataFrame(usw_a, columns=[\"model\", \"language_pair\", \"score\"])).to_csv(\"usw_a.csv\", index=False)\n",
    "(pd.DataFrame(nm_a, columns=[\"model\", \"language_pair\", \"score\"])).to_csv(\"nm_a.csv\", index=False)\n",
    "\n",
    "(pd.DataFrame(usw_fl, columns=[\"model\", \"language_pair\", \"score\"])).to_csv(\"usw_fl.csv\", index=False)\n",
    "(pd.DataFrame(nm_fl, columns=[\"model\", \"language_pair\", \"score\"])).to_csv(\"nm_fl.csv\", index=False)"
   ]
  },
  {
   "attachments": {},
   "cell_type": "markdown",
   "metadata": {},
   "source": [
    "## Contained In"
   ]
  },
  {
   "cell_type": "code",
   "execution_count": null,
   "metadata": {},
   "outputs": [],
   "source": [
    "uni_fig_chrp, uni_lit_chrp = [], []\n",
    "for model in models:\n",
    "    for lang in langs:\n",
    "        language_pair = f'en-{lang}'\n",
    "        p_a = df[f'p_a_{lang}_{model}']\n",
    "        p_f = df[f'p_f_{lang}_{model}']\n",
    "        p_l = df[f'p_l_{lang}_{model}']\n",
    "        uni_fig_chrp.append([model, language_pair, chrp_contained_in(p_a, p_f)])\n",
    "        uni_lit_chrp.append([model, language_pair, chrp_contained_in(p_a, p_l)])\n",
    "(pd.DataFrame(uni_fig_chrp, columns=[\"model\", \"language_pair\", \"score\"])).to_csv(\"uni_fig_chrp\", index=False)\n",
    "(pd.DataFrame(uni_lit_chrp, columns=[\"model\", \"language_pair\", \"score\"])).to_csv(\"uni_lit_chrp\", index=False)"
   ]
  },
  {
   "cell_type": "code",
   "execution_count": null,
   "metadata": {},
   "outputs": [],
   "source": [
    "uni_fig_bert, uni_lit_bert = [], []\n",
    "for model in models:\n",
    "    for lang in langs:\n",
    "        language_pair = f'en-{lang}'\n",
    "        p_a = df[f'p_a_{lang}_{model}']\n",
    "        p_f = df[f'p_f_{lang}_{model}']\n",
    "        p_l = df[f'p_l_{lang}_{model}']\n",
    "        uni_fig_bert.append([model, language_pair, bert_contained_in(p_a, p_f)])\n",
    "        uni_lit_bert.append([model, language_pair, bert_contained_in(p_a, p_l)])\n",
    "(pd.DataFrame(uni_fig_bert, columns=[\"model\", \"language_pair\", \"score\"])).to_csv(\"uni_fig_bert\", index=False)\n",
    "(pd.DataFrame(uni_lit_bert, columns=[\"model\", \"language_pair\", \"score\"])).to_csv(\"uni_lit_bert\", index=False)"
   ]
  },
  {
   "cell_type": "code",
   "execution_count": null,
   "metadata": {},
   "outputs": [],
   "source": [
    "uni_fig_chrf, uni_lit_chrf = [], []\n",
    "for model in models:\n",
    "    for lang in langs:\n",
    "        language_pair = f'en-{lang}'\n",
    "        p_a = df[f'p_a_{lang}_{model}']\n",
    "        p_f = df[f'p_f_{lang}_{model}']\n",
    "        p_l = df[f'p_l_{lang}_{model}']\n",
    "        uni_fig_chrf.append([model, language_pair, chrf_sim(p_a, p_f)])\n",
    "        uni_lit_chrf.append([model, language_pair, chrf_sim(p_a, p_l)])\n",
    "\n",
    "(pd.DataFrame(uni_fig_chrf, columns=[\"model\", \"language_pair\", \"score\"])).to_csv(\"uni_fig_chrf\", index=False)\n",
    "(pd.DataFrame(uni_lit_chrf, columns=[\"model\", \"language_pair\", \"score\"])).to_csv(\"uni_lit_chrf\", index=False)"
   ]
  }
 ],
 "metadata": {
  "kernelspec": {
   "display_name": "py3.8",
   "language": "python",
   "name": "python3"
  },
  "language_info": {
   "codemirror_mode": {
    "name": "ipython",
    "version": 3
   },
   "file_extension": ".py",
   "mimetype": "text/x-python",
   "name": "python",
   "nbconvert_exporter": "python",
   "pygments_lexer": "ipython3",
   "version": "3.8.15"
  },
  "orig_nbformat": 4
 },
 "nbformat": 4,
 "nbformat_minor": 2
}
