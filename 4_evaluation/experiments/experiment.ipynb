{
 "cells": [
  {
   "cell_type": "code",
   "execution_count": 12,
   "metadata": {},
   "outputs": [],
   "source": [
    "import sys\n",
    "import os\n",
    "import pandas as pd\n",
    "from tqdm import tqdm\n",
    "sys.path.insert(1, os.path.join(sys.path[0], '..'))\n",
    "from mta_metrics import bert_score_sim, \\\n",
    "    bert_score_contained_in, weighted_bert_score_contained_in, chrp_contained_in\n",
    "from mta_metrics.alignment import awesome_align, usw_nm\n",
    "from translate import gpt4_translate"
   ]
  },
  {
   "cell_type": "code",
   "execution_count": 9,
   "metadata": {},
   "outputs": [
    {
     "data": {
      "text/html": [
       "<div>\n",
       "<style scoped>\n",
       "    .dataframe tbody tr th:only-of-type {\n",
       "        vertical-align: middle;\n",
       "    }\n",
       "\n",
       "    .dataframe tbody tr th {\n",
       "        vertical-align: top;\n",
       "    }\n",
       "\n",
       "    .dataframe thead th {\n",
       "        text-align: right;\n",
       "    }\n",
       "</style>\n",
       "<table border=\"1\" class=\"dataframe\">\n",
       "  <thead>\n",
       "    <tr style=\"text-align: right;\">\n",
       "      <th></th>\n",
       "      <th>idiom</th>\n",
       "      <th>meaning</th>\n",
       "      <th>intended_figurative</th>\n",
       "      <th>intended_literal</th>\n",
       "      <th>maxVote_figurative</th>\n",
       "      <th>maxVote_literal</th>\n",
       "      <th>gold_figurative</th>\n",
       "      <th>gold_literal</th>\n",
       "      <th>well_formed</th>\n",
       "      <th>intended_ambiguous</th>\n",
       "    </tr>\n",
       "  </thead>\n",
       "  <tbody>\n",
       "    <tr>\n",
       "      <th>0</th>\n",
       "      <td>up a creek without a paddle</td>\n",
       "      <td>being in trouble.</td>\n",
       "      <td>when our car broke down in the middle of nowhe...</td>\n",
       "      <td>while canoeing, we accidentally dropped our pa...</td>\n",
       "      <td>figurative</td>\n",
       "      <td>literal</td>\n",
       "      <td>['figurative', 'figurative']</td>\n",
       "      <td>['literal', 'literal']</td>\n",
       "      <td>True</td>\n",
       "      <td>found ourselves up a creek without a paddle</td>\n",
       "    </tr>\n",
       "    <tr>\n",
       "      <th>1</th>\n",
       "      <td>blind leading the blind</td>\n",
       "      <td>someone who does not understand something but ...</td>\n",
       "      <td>when it comes to cooking, it's like the blind ...</td>\n",
       "      <td>in the experimental theater performance, they ...</td>\n",
       "      <td>figurative</td>\n",
       "      <td>literal</td>\n",
       "      <td>['figurative', 'figurative']</td>\n",
       "      <td>['literal', 'literal']</td>\n",
       "      <td>True</td>\n",
       "      <td>the blind leading the blind</td>\n",
       "    </tr>\n",
       "    <tr>\n",
       "      <th>2</th>\n",
       "      <td>the sun rises and sets on them</td>\n",
       "      <td>to believe that someone is the most wonderful ...</td>\n",
       "      <td>she adores her children so much that the sun r...</td>\n",
       "      <td>living on a remote island, the sun rises and s...</td>\n",
       "      <td>figurative</td>\n",
       "      <td>literal</td>\n",
       "      <td>['figurative', 'figurative']</td>\n",
       "      <td>['literal', 'literal']</td>\n",
       "      <td>True</td>\n",
       "      <td>the sun rises and sets on them</td>\n",
       "    </tr>\n",
       "    <tr>\n",
       "      <th>3</th>\n",
       "      <td>where the rubber meets the road</td>\n",
       "      <td>when you have to face your challenges</td>\n",
       "      <td>the new employee will face a real challenge wh...</td>\n",
       "      <td>the intersection is where the rubber meets the...</td>\n",
       "      <td>figurative</td>\n",
       "      <td>literal</td>\n",
       "      <td>['figurative', 'figurative']</td>\n",
       "      <td>['literal', 'literal']</td>\n",
       "      <td>True</td>\n",
       "      <td>where the rubber meets the road</td>\n",
       "    </tr>\n",
       "    <tr>\n",
       "      <th>4</th>\n",
       "      <td>the ball rolling</td>\n",
       "      <td>to start a conversation in a social setting</td>\n",
       "      <td>to start the meeting, we need to get the ball ...</td>\n",
       "      <td>to play soccer, you must get the ball rolling ...</td>\n",
       "      <td>figurative</td>\n",
       "      <td>literal</td>\n",
       "      <td>['figurative', 'figurative']</td>\n",
       "      <td>['literal', 'literal']</td>\n",
       "      <td>True</td>\n",
       "      <td>get the ball rolling</td>\n",
       "    </tr>\n",
       "  </tbody>\n",
       "</table>\n",
       "</div>"
      ],
      "text/plain": [
       "                             idiom  \\\n",
       "0      up a creek without a paddle   \n",
       "1          blind leading the blind   \n",
       "2   the sun rises and sets on them   \n",
       "3  where the rubber meets the road   \n",
       "4                 the ball rolling   \n",
       "\n",
       "                                             meaning  \\\n",
       "0                                  being in trouble.   \n",
       "1  someone who does not understand something but ...   \n",
       "2  to believe that someone is the most wonderful ...   \n",
       "3              when you have to face your challenges   \n",
       "4        to start a conversation in a social setting   \n",
       "\n",
       "                                 intended_figurative  \\\n",
       "0  when our car broke down in the middle of nowhe...   \n",
       "1  when it comes to cooking, it's like the blind ...   \n",
       "2  she adores her children so much that the sun r...   \n",
       "3  the new employee will face a real challenge wh...   \n",
       "4  to start the meeting, we need to get the ball ...   \n",
       "\n",
       "                                    intended_literal maxVote_figurative  \\\n",
       "0  while canoeing, we accidentally dropped our pa...         figurative   \n",
       "1  in the experimental theater performance, they ...         figurative   \n",
       "2  living on a remote island, the sun rises and s...         figurative   \n",
       "3  the intersection is where the rubber meets the...         figurative   \n",
       "4  to play soccer, you must get the ball rolling ...         figurative   \n",
       "\n",
       "  maxVote_literal               gold_figurative            gold_literal  \\\n",
       "0         literal  ['figurative', 'figurative']  ['literal', 'literal']   \n",
       "1         literal  ['figurative', 'figurative']  ['literal', 'literal']   \n",
       "2         literal  ['figurative', 'figurative']  ['literal', 'literal']   \n",
       "3         literal  ['figurative', 'figurative']  ['literal', 'literal']   \n",
       "4         literal  ['figurative', 'figurative']  ['literal', 'literal']   \n",
       "\n",
       "   well_formed                           intended_ambiguous  \n",
       "0         True  found ourselves up a creek without a paddle  \n",
       "1         True                  the blind leading the blind  \n",
       "2         True               the sun rises and sets on them  \n",
       "3         True              where the rubber meets the road  \n",
       "4         True                         get the ball rolling  "
      ]
     },
     "execution_count": 9,
     "metadata": {},
     "output_type": "execute_result"
    }
   ],
   "source": [
    "df = pd.read_csv('per_idiom_dataset.csv')\n",
    "df = df[df['well_formed']].sample(n=50, random_state=42).reset_index(drop=True)\n",
    "df.head()"
   ]
  },
  {
   "attachments": {},
   "cell_type": "markdown",
   "metadata": {},
   "source": [
    "## Sample Translation: Spanish"
   ]
  },
  {
   "cell_type": "code",
   "execution_count": 10,
   "metadata": {},
   "outputs": [
    {
     "name": "stderr",
     "output_type": "stream",
     "text": [
      "100%|██████████| 50/50 [02:43<00:00,  3.26s/it]\n",
      "100%|██████████| 50/50 [03:02<00:00,  3.66s/it]\n",
      "100%|██████████| 50/50 [01:16<00:00,  1.53s/it]\n"
     ]
    }
   ],
   "source": [
    "tqdm.pandas()\n",
    "df['gpt4_figurative_translation'] = df['intended_figurative'].progress_apply(lambda x: gpt4_translate(x, 'Spanish'))\n",
    "df['gpt4_literal_translation'] = df['intended_literal'].progress_apply(lambda x: gpt4_translate(x, 'Spanish'))\n",
    "df['gpt4_ambiguous_translation'] = df['intended_ambiguous'].progress_apply(lambda x: gpt4_translate(x, 'Spanish'))\n",
    "\n",
    "df = df[['idiom', 'meaning', 'intended_ambiguous', 'intended_figurative', 'intended_literal', \n",
    "         'gpt4_ambiguous_translation', 'gpt4_figurative_translation', 'gpt4_literal_translation']]\n",
    "df = df.rename(columns={\n",
    "    'intended_ambiguous': 's_a',\n",
    "    'intended_figurative': 's_f',\n",
    "    'intended_literal': 's_l',\n",
    "    'gpt4_ambiguous_translation': 'p_a',\n",
    "    'gpt4_figurative_translation': 'p_f',\n",
    "    'gpt4_literal_translation': 'p_l',\n",
    "})"
   ]
  },
  {
   "attachments": {},
   "cell_type": "markdown",
   "metadata": {},
   "source": [
    "## USW, NM"
   ]
  },
  {
   "cell_type": "code",
   "execution_count": 13,
   "metadata": {},
   "outputs": [
    {
     "name": "stdout",
     "output_type": "stream",
     "text": [
      "Loading dataset...\n"
     ]
    },
    {
     "name": "stderr",
     "output_type": "stream",
     "text": [
      "100%|██████████| 50/50 [00:00<00:00, 3958.83it/s]\n",
      "Extracting alignments: 100%|██████████| 50/50 [00:00<00:00, 60.27it/s]\n"
     ]
    },
    {
     "name": "stdout",
     "output_type": "stream",
     "text": [
      "File ./source.txt.target.txt has been removed successfully\n",
      "File ./source.txt has been removed successfully\n",
      "File ./target.txt has been removed successfully\n",
      "Loading dataset...\n"
     ]
    },
    {
     "name": "stderr",
     "output_type": "stream",
     "text": [
      "100%|██████████| 50/50 [00:00<00:00, 1746.04it/s]\n",
      "Extracting alignments: 100%|██████████| 50/50 [00:01<00:00, 44.01it/s]\n"
     ]
    },
    {
     "name": "stdout",
     "output_type": "stream",
     "text": [
      "File ./source.txt.target.txt has been removed successfully\n",
      "File ./source.txt has been removed successfully\n",
      "File ./target.txt has been removed successfully\n",
      "Loading dataset...\n"
     ]
    },
    {
     "name": "stderr",
     "output_type": "stream",
     "text": [
      "100%|██████████| 50/50 [00:00<00:00, 1667.34it/s]\n",
      "Extracting alignments: 100%|██████████| 50/50 [00:01<00:00, 45.26it/s]\n"
     ]
    },
    {
     "name": "stdout",
     "output_type": "stream",
     "text": [
      "File ./source.txt.target.txt has been removed successfully\n",
      "File ./source.txt has been removed successfully\n",
      "File ./target.txt has been removed successfully\n"
     ]
    }
   ],
   "source": [
    "alignments_a = awesome_align(df['s_a'], df['p_a'])\n",
    "alignments_f = awesome_align(df['s_f'], df['p_f'])\n",
    "alignments_l = awesome_align(df['s_l'], df['p_l'])\n",
    "df['usw_a'], df['nm_a'], usw_a, nm_a = usw_nm(df['s_a'], alignments_a, df['p_a'])\n",
    "df['usw_f'], df['nm_f'], usw_f, nm_f = usw_nm(df['s_f'], alignments_f, df['p_f'])\n",
    "df['usw_l'], df['nm_l'], usw_l, nm_l = usw_nm(df['s_l'], alignments_l, df['p_l'])"
   ]
  },
  {
   "cell_type": "code",
   "execution_count": 14,
   "metadata": {},
   "outputs": [
    {
     "name": "stdout",
     "output_type": "stream",
     "text": [
      "11.6 10.966810966810966 7.932011331444759\n",
      "7.557041446208113 5.977530322159433 4.640564034114135\n"
     ]
    }
   ],
   "source": [
    "print(usw_a, usw_f, usw_l)\n",
    "print(nm_a, nm_f, nm_l)"
   ]
  },
  {
   "attachments": {},
   "cell_type": "markdown",
   "metadata": {},
   "source": [
    "## Contained In"
   ]
  },
  {
   "cell_type": "code",
   "execution_count": 9,
   "metadata": {},
   "outputs": [
    {
     "name": "stdout",
     "output_type": "stream",
     "text": [
      "calculating scores...\n",
      "computing bert embedding.\n"
     ]
    },
    {
     "name": "stderr",
     "output_type": "stream",
     "text": [
      "100%|██████████| 1/1 [00:03<00:00,  3.47s/it]\n"
     ]
    },
    {
     "name": "stdout",
     "output_type": "stream",
     "text": [
      "computing greedy matching.\n"
     ]
    },
    {
     "name": "stderr",
     "output_type": "stream",
     "text": [
      "100%|██████████| 1/1 [00:00<00:00, 178.96it/s]\n"
     ]
    },
    {
     "name": "stdout",
     "output_type": "stream",
     "text": [
      "done in 3.48 seconds, 2.88 sentences/sec\n",
      "calculating scores...\n",
      "computing bert embedding.\n"
     ]
    },
    {
     "name": "stderr",
     "output_type": "stream",
     "text": [
      "100%|██████████| 1/1 [00:02<00:00,  2.70s/it]\n"
     ]
    },
    {
     "name": "stdout",
     "output_type": "stream",
     "text": [
      "computing greedy matching.\n"
     ]
    },
    {
     "name": "stderr",
     "output_type": "stream",
     "text": [
      "100%|██████████| 1/1 [00:00<00:00, 218.15it/s]"
     ]
    },
    {
     "name": "stdout",
     "output_type": "stream",
     "text": [
      "done in 2.71 seconds, 3.69 sentences/sec\n"
     ]
    },
    {
     "name": "stderr",
     "output_type": "stream",
     "text": [
      "\n"
     ]
    }
   ],
   "source": [
    "df['contained_in(p_a,p_f)_BERT'] = bert_score_contained_in(df['p_a'], df['p_f'], 'sp')\n",
    "df['contained_in(p_a,p_l)_BERT'] = bert_score_contained_in(df['p_a'], df['p_l'], 'sp')\n",
    "df['contained_in(p_a,p_f)_chrP'] = chrp_contained_in(df['p_a'], df['p_f'])\n",
    "df['contained_in(p_a,p_l)_chrP'] = chrp_contained_in(df['p_a'], df['p_l'])\n",
    "df['sensitivity_BERT'] = abs(df['contained_in(p_a,p_l)_BERT'] - df['contained_in(p_a,p_f)_BERT'])\n",
    "df['sensitivity_chrP'] = abs(df['contained_in(p_a,p_l)_chrP'] -  df['contained_in(p_a,p_f)_chrP'])"
   ]
  },
  {
   "cell_type": "code",
   "execution_count": null,
   "metadata": {},
   "outputs": [],
   "source": []
  }
 ],
 "metadata": {
  "kernelspec": {
   "display_name": "py3.8",
   "language": "python",
   "name": "python3"
  },
  "language_info": {
   "codemirror_mode": {
    "name": "ipython",
    "version": 3
   },
   "file_extension": ".py",
   "mimetype": "text/x-python",
   "name": "python",
   "nbconvert_exporter": "python",
   "pygments_lexer": "ipython3",
   "version": "3.8.15"
  },
  "orig_nbformat": 4
 },
 "nbformat": 4,
 "nbformat_minor": 2
}
