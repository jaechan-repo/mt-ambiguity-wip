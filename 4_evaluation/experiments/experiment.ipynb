{
 "cells": [
  {
   "cell_type": "code",
   "execution_count": 1,
   "metadata": {},
   "outputs": [
    {
     "name": "stderr",
     "output_type": "stream",
     "text": [
      "/Users/chany/miniforge3/envs/py3.8/lib/python3.8/site-packages/tqdm/auto.py:22: TqdmWarning: IProgress not found. Please update jupyter and ipywidgets. See https://ipywidgets.readthedocs.io/en/stable/user_install.html\n",
      "  from .autonotebook import tqdm as notebook_tqdm\n"
     ]
    }
   ],
   "source": [
    "import sys\n",
    "import os\n",
    "import pandas as pd\n",
    "from tqdm import tqdm\n",
    "import time\n",
    "sys.path.insert(1, os.path.join(sys.path[0], '..'))\n",
    "from mta_metrics import bert_sim, \\\n",
    "    bert_contained_in, chrp_contained_in\n",
    "from mta_metrics.alignment import awesome_align, usw_nm\n",
    "from translate import gpt, google\n",
    "tqdm.pandas()"
   ]
  },
  {
   "cell_type": "code",
   "execution_count": 2,
   "metadata": {},
   "outputs": [
    {
     "data": {
      "text/plain": [
       "Index(['idiom', 'meaning', 's_f_brkt', 's_l_brkt', 's_f', 's_l', 's_a'], dtype='object')"
      ]
     },
     "execution_count": 2,
     "metadata": {},
     "output_type": "execute_result"
    }
   ],
   "source": [
    "df = pd.read_csv('/Users/chany/research/mt-ambiguity/4_evaluation/data/base_1idiomPerRow.csv')\n",
    "df.columns"
   ]
  },
  {
   "cell_type": "code",
   "execution_count": 3,
   "metadata": {},
   "outputs": [],
   "source": [
    "langs = {\n",
    "    'de': 'German',\n",
    "    'he': 'Hebrew', \n",
    "    'hi': 'Hindi',\n",
    "    'hu': 'Hungarian', \n",
    "    'ko': 'Korean',\n",
    "    'sp': 'Spanish',\n",
    "    'yo': 'Yoruba',\n",
    "    'zh': 'Chinese'\n",
    "}"
   ]
  },
  {
   "attachments": {},
   "cell_type": "markdown",
   "metadata": {},
   "source": [
    "# Translate"
   ]
  },
  {
   "attachments": {},
   "cell_type": "markdown",
   "metadata": {},
   "source": [
    "### GPT-4"
   ]
  },
  {
   "cell_type": "code",
   "execution_count": 35,
   "metadata": {},
   "outputs": [],
   "source": [
    "def gpt_wrapper(x, lang, time_passed=1):\n",
    "    time.sleep(time_passed)\n",
    "    try:\n",
    "        return gpt(x, lang)\n",
    "    except:\n",
    "        if time_passed >= 8:\n",
    "            print(\"backoff: \", time_passed)\n",
    "        return gpt_wrapper(x, lang, time_passed * 2)\n",
    "indices = [0, 128, 256, 384, 512]"
   ]
  },
  {
   "cell_type": "code",
   "execution_count": 96,
   "metadata": {},
   "outputs": [],
   "source": [
    "lang = 'hu'\n",
    "afl = 'f'"
   ]
  },
  {
   "cell_type": "code",
   "execution_count": 97,
   "metadata": {},
   "outputs": [
    {
     "name": "stderr",
     "output_type": "stream",
     "text": [
      "100%|██████████| 128/128 [04:01<00:00,  1.89s/it]\n"
     ]
    },
    {
     "data": {
      "text/plain": [
       "0      Annak ellenére, hogy intelligens volt, a halog...\n",
       "1      Évekig keresték, de végül megtalálták az igazi...\n",
       "2      Gyorsan a Török Ifjak közé került a cégnél az ...\n",
       "3      Úgy döntött, elfogadja az állásajánlatot, mert...\n",
       "4      Amikor az új alkalmazott problémákat kezdett o...\n",
       "                             ...                        \n",
       "123    Bocsánatot kértek, majd úgy döntöttek, hogy ti...\n",
       "124    A csapat tiszta lappal végzett, az összes mérk...\n",
       "125    Az érvelés után tisztáztuk a helyzetet vele az...\n",
       "126    Felkészültünk az eseményre azzal, hogy befejez...\n",
       "127    Közel hívta a vész, amikor szűkön megúszta az ...\n",
       "Name: s_f, Length: 128, dtype: object"
      ]
     },
     "execution_count": 97,
     "metadata": {},
     "output_type": "execute_result"
    }
   ],
   "source": [
    "subset = 0\n",
    "s_0 = df[f\"s_{afl}\"][indices[subset]: indices[subset + 1]].progress_apply(\n",
    "    lambda x: gpt_wrapper(x, langs[lang]))\n",
    "s_0"
   ]
  },
  {
   "cell_type": "code",
   "execution_count": 98,
   "metadata": {},
   "outputs": [
    {
     "name": "stderr",
     "output_type": "stream",
     "text": [
      "100%|██████████| 128/128 [04:03<00:00,  1.91s/it]\n"
     ]
    },
    {
     "data": {
      "text/plain": [
       "128    A projekt sikerének ellenére felhők jelentek m...\n",
       "129    Miután az őr elment, tudtuk, hogy nincs akadál...\n",
       "130    Sikeres üzleti vállalkozásuknak köszönhetően h...\n",
       "131    Hidegvérrel találta magát a nagy prezentáció e...\n",
       "132    Ő abbahagyta a dohányzást a hideg pulyka módsz...\n",
       "                             ...                        \n",
       "251    Belekerültek egy kellemetlen helyzetbe, amikor...\n",
       "252    Az első munkanapján egy kihívást jelentő proje...\n",
       "253    A cégnek azt vádolták, hogy összejátszik a ver...\n",
       "254    Azért, hogy elkerüljük a félreértéseket, úgy d...\n",
       "255    Egy drága hibát követően mély vízbe került a f...\n",
       "Name: s_f, Length: 128, dtype: object"
      ]
     },
     "execution_count": 98,
     "metadata": {},
     "output_type": "execute_result"
    }
   ],
   "source": [
    "subset = 1\n",
    "s_1 = df[f\"s_{afl}\"][indices[subset]: indices[subset + 1]].progress_apply(\n",
    "    lambda x: gpt_wrapper(x, langs[lang]))\n",
    "s_1"
   ]
  },
  {
   "cell_type": "code",
   "execution_count": 99,
   "metadata": {},
   "outputs": [
    {
     "name": "stderr",
     "output_type": "stream",
     "text": [
      "100%|██████████| 128/128 [04:06<00:00,  1.93s/it]\n"
     ]
    },
    {
     "data": {
      "text/plain": [
       "256    Amikor megérkeztünk, a buli teljes gőzzel zajl...\n",
       "257    Azután kellett magyarázkodnia, hogy elfelejtet...\n",
       "258    Ő egy természetes sportoló, benne van az ő vér...\n",
       "259    Hónapokig tartó küzdelem után, vállalkozásunk ...\n",
       "260    Mint kiszivárogtató, ő maga is a vállalat megt...\n",
       "                             ...                        \n",
       "379    Mindig valahogy furcsának tűntek, mintha patká...\n",
       "380    Az ő pozitív hozzáállása egy napsugár volt a s...\n",
       "381    Miután 12 órán keresztül dolgozott folyamatosa...\n",
       "382    Elmentek nyaralni, hogy feltöltődjenek és viss...\n",
       "383    A nyomozó egy hamis nyomra bukkant a gyanúsíto...\n",
       "Name: s_f, Length: 128, dtype: object"
      ]
     },
     "execution_count": 99,
     "metadata": {},
     "output_type": "execute_result"
    }
   ],
   "source": [
    "subset = 2\n",
    "s_2 = df[f\"s_{afl}\"][indices[subset]: indices[subset + 1]].progress_apply(\n",
    "    lambda x: gpt_wrapper(x, langs[lang]))\n",
    "s_2"
   ]
  },
  {
   "cell_type": "code",
   "execution_count": 100,
   "metadata": {},
   "outputs": [
    {
     "name": "stderr",
     "output_type": "stream",
     "text": [
      "100%|██████████| 128/128 [03:55<00:00,  1.84s/it]\n"
     ]
    },
    {
     "data": {
      "text/plain": [
       "384    Az régi étterem említése úgy tűnt, hogy ismerő...\n",
       "385    A plagizált könyvnek úgy tűnt, mintha letépte ...\n",
       "386    Ez egy új nap, kelj fel és ragyogj, és használ...\n",
       "387    A cég politikájának megkérdőjelezésével kissé ...\n",
       "388    Ebben a kisvárosban mélyen gyökereznek és mind...\n",
       "                             ...                        \n",
       "507    Ő sosem áll ki magáért és mindig sárga vonal v...\n",
       "508    Ő otthon akart maradni és elmenni a buliba, de...\n",
       "509    Nem lehet egyszerre megtartani egy jól fizető ...\n",
       "510    Ha rosszul bánsz az emberekkel, akkor amikor n...\n",
       "511    Amikor elkezdett beszélni a titokról, azt mond...\n",
       "Name: s_f, Length: 128, dtype: object"
      ]
     },
     "execution_count": 100,
     "metadata": {},
     "output_type": "execute_result"
    }
   ],
   "source": [
    "subset = 3\n",
    "s_3 = df[f\"s_{afl}\"][indices[subset]: indices[subset + 1]].progress_apply(\n",
    "    lambda x: gpt_wrapper(x, langs[lang]))\n",
    "s_3"
   ]
  },
  {
   "cell_type": "code",
   "execution_count": 101,
   "metadata": {},
   "outputs": [
    {
     "data": {
      "text/html": [
       "<div>\n",
       "<style scoped>\n",
       "    .dataframe tbody tr th:only-of-type {\n",
       "        vertical-align: middle;\n",
       "    }\n",
       "\n",
       "    .dataframe tbody tr th {\n",
       "        vertical-align: top;\n",
       "    }\n",
       "\n",
       "    .dataframe thead th {\n",
       "        text-align: right;\n",
       "    }\n",
       "</style>\n",
       "<table border=\"1\" class=\"dataframe\">\n",
       "  <thead>\n",
       "    <tr style=\"text-align: right;\">\n",
       "      <th></th>\n",
       "      <th>idiom</th>\n",
       "      <th>meaning</th>\n",
       "      <th>s_f_brkt</th>\n",
       "      <th>s_l_brkt</th>\n",
       "      <th>s_f</th>\n",
       "      <th>s_l</th>\n",
       "      <th>s_a</th>\n",
       "      <th>p_a_de_gpt</th>\n",
       "      <th>p_f_de_gpt</th>\n",
       "      <th>p_l_de_gpt</th>\n",
       "      <th>p_a_he_gpt</th>\n",
       "      <th>p_f_he_gpt</th>\n",
       "      <th>p_l_he_gpt</th>\n",
       "      <th>p_f_hi_gpt</th>\n",
       "      <th>p_l_hi_gpt</th>\n",
       "      <th>p_a_hu_gpt</th>\n",
       "      <th>p_f_hu_gpt</th>\n",
       "    </tr>\n",
       "  </thead>\n",
       "  <tbody>\n",
       "    <tr>\n",
       "      <th>0</th>\n",
       "      <td>Achilles heel</td>\n",
       "      <td>a vulnerable spot or weakness</td>\n",
       "      <td>Despite his intelligence, procrastination was ...</td>\n",
       "      <td>During the anatomy class, we studied [[his Ach...</td>\n",
       "      <td>Despite his intelligence, procrastination was ...</td>\n",
       "      <td>During the anatomy class, we studied his Achil...</td>\n",
       "      <td>his Achilles heel</td>\n",
       "      <td>seine Achillesferse</td>\n",
       "      <td>Trotz seiner Intelligenz war Prokrastination s...</td>\n",
       "      <td>Während des Anatomieunterrichts haben wir sein...</td>\n",
       "      <td>עקב אכילס שלו</td>\n",
       "      <td>למרות חכמתו, הדחייה הייתה העקב האחורי שלו.</td>\n",
       "      <td>במהלך השיעור של האנטומיה, למדנו על עקבו שלו ופ...</td>\n",
       "      <td>उसकी बुद्धिमता के बावजूद, टाल-मटोल उसकी असमर्थ...</td>\n",
       "      <td>एनाटॉमी क्लास के दौरान, हमने उसके एकिलीज हील औ...</td>\n",
       "      <td>az Achilles-sarka</td>\n",
       "      <td>Annak ellenére, hogy intelligens volt, a halog...</td>\n",
       "    </tr>\n",
       "    <tr>\n",
       "      <th>1</th>\n",
       "      <td>Mr Right, Ms Right</td>\n",
       "      <td>the best future life partner for someone</td>\n",
       "      <td>After years of searching, they finally [[found...</td>\n",
       "      <td>At the costume party, they [[found their Mr Ri...</td>\n",
       "      <td>After years of searching, they finally found t...</td>\n",
       "      <td>At the costume party, they found their Mr Righ...</td>\n",
       "      <td>found their Mr Right and Ms Right</td>\n",
       "      <td>haben ihren Mr. Right und ihre Ms. Right gefun...</td>\n",
       "      <td>Nach Jahren der Suche fanden sie endlich ihren...</td>\n",
       "      <td>Auf der Kostümparty fanden sie ihre Mr. Right ...</td>\n",
       "      <td>מצאו את הגבר הנכון והאישה הנכונה שלהם</td>\n",
       "      <td>לאחר שנים של חיפושים, הם מצאו את הגבר הנכון וה...</td>\n",
       "      <td>במסיבת התחפושות, הם מצאו את התלבושות של מר וגב...</td>\n",
       "      <td>खोज के कई वर्षों के बाद, वे अंततः अपने मिस्टर ...</td>\n",
       "      <td>कॉस्ट्यूम पार्टी पर, उन्होंने दुकान में अपने म...</td>\n",
       "      <td>Megtalálták az Igazit (férfi és női változatban).</td>\n",
       "      <td>Évekig keresték, de végül megtalálták az igazi...</td>\n",
       "    </tr>\n",
       "    <tr>\n",
       "      <th>2</th>\n",
       "      <td>Young Turk</td>\n",
       "      <td>a young person who has many new ideas and want...</td>\n",
       "      <td>He quickly became [[a Young Turk in the compan...</td>\n",
       "      <td>The new employee was [[a Young Turk in the com...</td>\n",
       "      <td>He quickly became a Young Turk in the company ...</td>\n",
       "      <td>The new employee was a Young Turk in the compa...</td>\n",
       "      <td>a Young Turk in the company</td>\n",
       "      <td>ein Jungtürke in der Firma</td>\n",
       "      <td>Er wurde aufgrund seiner innovativen Ideen sch...</td>\n",
       "      <td>Der neue Mitarbeiter war ein Jungtürke im Unte...</td>\n",
       "      <td>טורק צעיר בחברה</td>\n",
       "      <td>הוא הפך מהר מאוד לטורק צעיר בחברה עקב רעיונותי...</td>\n",
       "      <td>העובד החדש היה טורק צעיר בחברה, שעבר לאחרונה מ...</td>\n",
       "      <td>उसके नवाचारी विचारों के कारण वह जल्दी से कंपनी...</td>\n",
       "      <td>नया कर्मचारी कंपनी में एक यंग तुर्क था, हाल ही...</td>\n",
       "      <td>egy fiatal török a társaságban</td>\n",
       "      <td>Gyorsan a Török Ifjak közé került a cégnél az ...</td>\n",
       "    </tr>\n",
       "    <tr>\n",
       "      <th>3</th>\n",
       "      <td>a bird in the hand</td>\n",
       "      <td>a possession that is worthy</td>\n",
       "      <td>He decided to accept the job offer, believing ...</td>\n",
       "      <td>Holding [[a bird in the hand]], she carefully ...</td>\n",
       "      <td>He decided to accept the job offer, believing ...</td>\n",
       "      <td>Holding a bird in the hand, she carefully exam...</td>\n",
       "      <td>a bird in the hand</td>\n",
       "      <td>Ein Vogel in der Hand.</td>\n",
       "      <td>Er entschied sich, das Jobangebot anzunehmen, ...</td>\n",
       "      <td>Indem sie einen Vogel in der Hand hielt, unter...</td>\n",
       "      <td>ציפור ביד</td>\n",
       "      <td>הוא החליט לקבל את ההצעת עבודה, מאמין שציפור בי...</td>\n",
       "      <td>תופסת ציפור ביד, היא בדקה בזהירות את הנוצות שלה.</td>\n",
       "      <td>उसने नौकरी की पेशकश को स्वीकार करने का फैसला क...</td>\n",
       "      <td>उसने हाथ में एक पक्षी पकड़ा हुआ था, उसने ध्यान...</td>\n",
       "      <td>egy madár a kézben</td>\n",
       "      <td>Úgy döntött, elfogadja az állásajánlatot, mert...</td>\n",
       "    </tr>\n",
       "    <tr>\n",
       "      <th>4</th>\n",
       "      <td>a cuckoo in the nest</td>\n",
       "      <td>an unwelcome intruder in a place or situation.</td>\n",
       "      <td>When the new employee started causing problems...</td>\n",
       "      <td>While observing the bird's nest, the ornitholo...</td>\n",
       "      <td>When the new employee started causing problems...</td>\n",
       "      <td>While observing the bird's nest, the ornitholo...</td>\n",
       "      <td>found a cuckoo in the nest</td>\n",
       "      <td>Ich habe einen Kuckuck im Nest gefunden.</td>\n",
       "      <td>Als der neue Mitarbeiter anfing, Probleme zu v...</td>\n",
       "      <td>Während er das Vogelnest beobachtete, fand der...</td>\n",
       "      <td>מצאתי קוקו בקן.</td>\n",
       "      <td>כאשר העובד החדש התחיל לגרום לבעיות, הם הבינו ש...</td>\n",
       "      <td>בזמן שהאורניתולוג צפה בקנים של הציפור, הוא מצא...</td>\n",
       "      <td>जब नया कर्मचारी समस्याएं उत्पन्न करने लगा, तब ...</td>\n",
       "      <td>पक्षी के घोंसले की निगरानी करते हुए, पक्षिविद ...</td>\n",
       "      <td>talált egy kakukkot a fészekben</td>\n",
       "      <td>Amikor az új alkalmazott problémákat kezdett o...</td>\n",
       "    </tr>\n",
       "  </tbody>\n",
       "</table>\n",
       "</div>"
      ],
      "text/plain": [
       "                  idiom                                            meaning  \\\n",
       "0         Achilles heel                      a vulnerable spot or weakness   \n",
       "1    Mr Right, Ms Right           the best future life partner for someone   \n",
       "2            Young Turk  a young person who has many new ideas and want...   \n",
       "3    a bird in the hand                        a possession that is worthy   \n",
       "4  a cuckoo in the nest     an unwelcome intruder in a place or situation.   \n",
       "\n",
       "                                            s_f_brkt  \\\n",
       "0  Despite his intelligence, procrastination was ...   \n",
       "1  After years of searching, they finally [[found...   \n",
       "2  He quickly became [[a Young Turk in the compan...   \n",
       "3  He decided to accept the job offer, believing ...   \n",
       "4  When the new employee started causing problems...   \n",
       "\n",
       "                                            s_l_brkt  \\\n",
       "0  During the anatomy class, we studied [[his Ach...   \n",
       "1  At the costume party, they [[found their Mr Ri...   \n",
       "2  The new employee was [[a Young Turk in the com...   \n",
       "3  Holding [[a bird in the hand]], she carefully ...   \n",
       "4  While observing the bird's nest, the ornitholo...   \n",
       "\n",
       "                                                 s_f  \\\n",
       "0  Despite his intelligence, procrastination was ...   \n",
       "1  After years of searching, they finally found t...   \n",
       "2  He quickly became a Young Turk in the company ...   \n",
       "3  He decided to accept the job offer, believing ...   \n",
       "4  When the new employee started causing problems...   \n",
       "\n",
       "                                                 s_l  \\\n",
       "0  During the anatomy class, we studied his Achil...   \n",
       "1  At the costume party, they found their Mr Righ...   \n",
       "2  The new employee was a Young Turk in the compa...   \n",
       "3  Holding a bird in the hand, she carefully exam...   \n",
       "4  While observing the bird's nest, the ornitholo...   \n",
       "\n",
       "                                 s_a  \\\n",
       "0                  his Achilles heel   \n",
       "1  found their Mr Right and Ms Right   \n",
       "2        a Young Turk in the company   \n",
       "3                 a bird in the hand   \n",
       "4         found a cuckoo in the nest   \n",
       "\n",
       "                                          p_a_de_gpt  \\\n",
       "0                                seine Achillesferse   \n",
       "1  haben ihren Mr. Right und ihre Ms. Right gefun...   \n",
       "2                         ein Jungtürke in der Firma   \n",
       "3                             Ein Vogel in der Hand.   \n",
       "4           Ich habe einen Kuckuck im Nest gefunden.   \n",
       "\n",
       "                                          p_f_de_gpt  \\\n",
       "0  Trotz seiner Intelligenz war Prokrastination s...   \n",
       "1  Nach Jahren der Suche fanden sie endlich ihren...   \n",
       "2  Er wurde aufgrund seiner innovativen Ideen sch...   \n",
       "3  Er entschied sich, das Jobangebot anzunehmen, ...   \n",
       "4  Als der neue Mitarbeiter anfing, Probleme zu v...   \n",
       "\n",
       "                                          p_l_de_gpt  \\\n",
       "0  Während des Anatomieunterrichts haben wir sein...   \n",
       "1  Auf der Kostümparty fanden sie ihre Mr. Right ...   \n",
       "2  Der neue Mitarbeiter war ein Jungtürke im Unte...   \n",
       "3  Indem sie einen Vogel in der Hand hielt, unter...   \n",
       "4  Während er das Vogelnest beobachtete, fand der...   \n",
       "\n",
       "                              p_a_he_gpt  \\\n",
       "0                          עקב אכילס שלו   \n",
       "1  מצאו את הגבר הנכון והאישה הנכונה שלהם   \n",
       "2                        טורק צעיר בחברה   \n",
       "3                              ציפור ביד   \n",
       "4                        מצאתי קוקו בקן.   \n",
       "\n",
       "                                          p_f_he_gpt  \\\n",
       "0         למרות חכמתו, הדחייה הייתה העקב האחורי שלו.   \n",
       "1  לאחר שנים של חיפושים, הם מצאו את הגבר הנכון וה...   \n",
       "2  הוא הפך מהר מאוד לטורק צעיר בחברה עקב רעיונותי...   \n",
       "3  הוא החליט לקבל את ההצעת עבודה, מאמין שציפור בי...   \n",
       "4  כאשר העובד החדש התחיל לגרום לבעיות, הם הבינו ש...   \n",
       "\n",
       "                                          p_l_he_gpt  \\\n",
       "0  במהלך השיעור של האנטומיה, למדנו על עקבו שלו ופ...   \n",
       "1  במסיבת התחפושות, הם מצאו את התלבושות של מר וגב...   \n",
       "2  העובד החדש היה טורק צעיר בחברה, שעבר לאחרונה מ...   \n",
       "3   תופסת ציפור ביד, היא בדקה בזהירות את הנוצות שלה.   \n",
       "4  בזמן שהאורניתולוג צפה בקנים של הציפור, הוא מצא...   \n",
       "\n",
       "                                          p_f_hi_gpt  \\\n",
       "0  उसकी बुद्धिमता के बावजूद, टाल-मटोल उसकी असमर्थ...   \n",
       "1  खोज के कई वर्षों के बाद, वे अंततः अपने मिस्टर ...   \n",
       "2  उसके नवाचारी विचारों के कारण वह जल्दी से कंपनी...   \n",
       "3  उसने नौकरी की पेशकश को स्वीकार करने का फैसला क...   \n",
       "4  जब नया कर्मचारी समस्याएं उत्पन्न करने लगा, तब ...   \n",
       "\n",
       "                                          p_l_hi_gpt  \\\n",
       "0  एनाटॉमी क्लास के दौरान, हमने उसके एकिलीज हील औ...   \n",
       "1  कॉस्ट्यूम पार्टी पर, उन्होंने दुकान में अपने म...   \n",
       "2  नया कर्मचारी कंपनी में एक यंग तुर्क था, हाल ही...   \n",
       "3  उसने हाथ में एक पक्षी पकड़ा हुआ था, उसने ध्यान...   \n",
       "4  पक्षी के घोंसले की निगरानी करते हुए, पक्षिविद ...   \n",
       "\n",
       "                                          p_a_hu_gpt  \\\n",
       "0                                  az Achilles-sarka   \n",
       "1  Megtalálták az Igazit (férfi és női változatban).   \n",
       "2                     egy fiatal török a társaságban   \n",
       "3                                 egy madár a kézben   \n",
       "4                    talált egy kakukkot a fészekben   \n",
       "\n",
       "                                          p_f_hu_gpt  \n",
       "0  Annak ellenére, hogy intelligens volt, a halog...  \n",
       "1  Évekig keresték, de végül megtalálták az igazi...  \n",
       "2  Gyorsan a Török Ifjak közé került a cégnél az ...  \n",
       "3  Úgy döntött, elfogadja az állásajánlatot, mert...  \n",
       "4  Amikor az új alkalmazott problémákat kezdett o...  "
      ]
     },
     "execution_count": 101,
     "metadata": {},
     "output_type": "execute_result"
    }
   ],
   "source": [
    "df[f'p_{afl}_{lang}_gpt'] = pd.concat([s_0, s_1, s_2, s_3]).reset_index(drop=True)\n",
    "df.head()"
   ]
  },
  {
   "cell_type": "code",
   "execution_count": 102,
   "metadata": {},
   "outputs": [],
   "source": [
    "df.to_csv(f'ckpt/{afl}_{lang}.csv', index=False)"
   ]
  },
  {
   "attachments": {},
   "cell_type": "markdown",
   "metadata": {},
   "source": [
    "### Google"
   ]
  },
  {
   "cell_type": "code",
   "execution_count": null,
   "metadata": {},
   "outputs": [],
   "source": [
    "def google_wrapper(x, lang):\n",
    "    try:\n",
    "        return google(x, lang)\n",
    "    except:\n",
    "        time.sleep(5)\n",
    "        return google(x, lang)"
   ]
  },
  {
   "cell_type": "code",
   "execution_count": null,
   "metadata": {},
   "outputs": [],
   "source": [
    "for lang in langs:\n",
    "    print(f\"Begin Google Translation: {lang}\")\n",
    "    df[f'p_f_{lang}_google'] = google_wrapper(df['s_f'], lang)\n",
    "    df[f'p_l_{lang}_google'] = google_wrapper(df['s_l'], lang)\n",
    "    df[f'p_a_{lang}_google'] = google_wrapper(df['s_a'], lang)\n",
    "    print()"
   ]
  },
  {
   "attachments": {},
   "cell_type": "markdown",
   "metadata": {},
   "source": [
    "## Sample Translation: Spanish"
   ]
  },
  {
   "attachments": {},
   "cell_type": "markdown",
   "metadata": {},
   "source": [
    "## USW, NM"
   ]
  },
  {
   "cell_type": "code",
   "execution_count": null,
   "metadata": {},
   "outputs": [],
   "source": [
    "alignments_a = awesome_align(df['s_a'], df['p_a'])\n",
    "alignments_f = awesome_align(df['s_f'], df['p_f'])\n",
    "alignments_l = awesome_align(df['s_l'], df['p_l'])\n",
    "df['usw_a'], df['nm_a'], usw_a, nm_a = usw_nm(df['s_a'], alignments_a, df['p_a'])\n",
    "df['usw_f'], df['nm_f'], usw_f, nm_f = usw_nm(df['s_f'], alignments_f, df['p_f'])\n",
    "df['usw_l'], df['nm_l'], usw_l, nm_l = usw_nm(df['s_l'], alignments_l, df['p_l'])"
   ]
  },
  {
   "cell_type": "code",
   "execution_count": null,
   "metadata": {},
   "outputs": [],
   "source": [
    "print(usw_a, usw_f, usw_l)\n",
    "print(nm_a, nm_f, nm_l)"
   ]
  },
  {
   "attachments": {},
   "cell_type": "markdown",
   "metadata": {},
   "source": [
    "## Contained In"
   ]
  },
  {
   "cell_type": "code",
   "execution_count": null,
   "metadata": {},
   "outputs": [],
   "source": [
    "df['contained_in(p_a,p_f)_BERT'] = bert_score_contained_in(df['p_a'], df['p_f'], 'sp')\n",
    "df['contained_in(p_a,p_l)_BERT'] = bert_score_contained_in(df['p_a'], df['p_l'], 'sp')\n",
    "df['contained_in(p_a,p_f)_chrP'] = chrp_contained_in(df['p_a'], df['p_f'])\n",
    "df['contained_in(p_a,p_l)_chrP'] = chrp_contained_in(df['p_a'], df['p_l'])\n",
    "df['sensitivity_BERT'] = abs(df['contained_in(p_a,p_l)_BERT'] - df['contained_in(p_a,p_f)_BERT'])\n",
    "df['sensitivity_chrP'] = abs(df['contained_in(p_a,p_l)_chrP'] -  df['contained_in(p_a,p_f)_chrP'])"
   ]
  },
  {
   "cell_type": "code",
   "execution_count": null,
   "metadata": {},
   "outputs": [],
   "source": [
    "df"
   ]
  },
  {
   "cell_type": "code",
   "execution_count": null,
   "metadata": {},
   "outputs": [],
   "source": []
  }
 ],
 "metadata": {
  "kernelspec": {
   "display_name": "py3.8",
   "language": "python",
   "name": "python3"
  },
  "language_info": {
   "codemirror_mode": {
    "name": "ipython",
    "version": 3
   },
   "file_extension": ".py",
   "mimetype": "text/x-python",
   "name": "python",
   "nbconvert_exporter": "python",
   "pygments_lexer": "ipython3",
   "version": "3.8.15"
  },
  "orig_nbformat": 4
 },
 "nbformat": 4,
 "nbformat_minor": 2
}
