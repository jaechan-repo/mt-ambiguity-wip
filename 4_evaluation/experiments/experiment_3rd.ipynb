{
 "cells": [
  {
   "cell_type": "code",
   "execution_count": 1,
   "metadata": {},
   "outputs": [
    {
     "name": "stderr",
     "output_type": "stream",
     "text": [
      "/Users/chany/miniforge3/envs/py3.8/lib/python3.8/site-packages/tqdm/auto.py:22: TqdmWarning: IProgress not found. Please update jupyter and ipywidgets. See https://ipywidgets.readthedocs.io/en/stable/user_install.html\n",
      "  from .autonotebook import tqdm as notebook_tqdm\n"
     ]
    }
   ],
   "source": [
    "import sys\n",
    "import os\n",
    "import pandas as pd\n",
    "from tqdm import tqdm\n",
    "import time\n",
    "sys.path.insert(1, os.path.join(sys.path[0], '..'))\n",
    "from mta_metrics import bleu_sim, meteor_sim, chrf_sim, bertscore_sim, comet_sim, \\\n",
    "    bert_contained_in, chrp_contained_in\n",
    "from mta_metrics.alignment import awesome_align, usw_nm\n",
    "from translate import gpt, google, opus\n",
    "tqdm.pandas()\n",
    "import torch\n",
    "torch.device('mps')\n",
    "torch.cuda.empty_cache()"
   ]
  },
  {
   "cell_type": "code",
   "execution_count": 3,
   "metadata": {},
   "outputs": [
    {
     "data": {
      "text/plain": [
       "Index(['idiom', 'meaning', 's_f_brkt', 's_l_brkt', 's_f', 's_l', 's_a'], dtype='object')"
      ]
     },
     "execution_count": 3,
     "metadata": {},
     "output_type": "execute_result"
    }
   ],
   "source": [
    "df = pd.read_csv('/Users/chany/research/mt-ambiguity/4_evaluation/data/base_1idiomPerRow.csv')\n",
    "df.columns"
   ]
  },
  {
   "cell_type": "code",
   "execution_count": 4,
   "metadata": {},
   "outputs": [],
   "source": [
    "langs = {\n",
    "    'de': 'German',\n",
    "    'he': 'Hebrew', \n",
    "    'hi': 'Hindi',\n",
    "    'hu': 'Hungarian', \n",
    "    'ko': 'Korean',\n",
    "    'es': 'Spanish',\n",
    "    'yo': 'Yoruba',\n",
    "    'zh': 'Chinese'\n",
    "}"
   ]
  },
  {
   "attachments": {},
   "cell_type": "markdown",
   "metadata": {},
   "source": [
    "# Translate"
   ]
  },
  {
   "attachments": {},
   "cell_type": "markdown",
   "metadata": {},
   "source": [
    "### GPT-4"
   ]
  },
  {
   "cell_type": "code",
   "execution_count": 5,
   "metadata": {},
   "outputs": [],
   "source": [
    "def gpt_wrapper(x, lang, time_passed=1):\n",
    "    time.sleep(time_passed)\n",
    "    try:\n",
    "        return gpt(x, lang)\n",
    "    except:\n",
    "        if time_passed >= 4:\n",
    "            print(\"backoff: \", time_passed)\n",
    "        return gpt_wrapper(x, lang, time_passed * 2)"
   ]
  },
  {
   "cell_type": "code",
   "execution_count": 7,
   "metadata": {},
   "outputs": [
    {
     "data": {
      "text/plain": [
       "'나는 너를 사랑해.'"
      ]
     },
     "execution_count": 7,
     "metadata": {},
     "output_type": "execute_result"
    }
   ],
   "source": [
    "gpt_wrapper(\"I love you\", \"Korean\")"
   ]
  },
  {
   "cell_type": "code",
   "execution_count": 6,
   "metadata": {},
   "outputs": [
    {
     "name": "stderr",
     "output_type": "stream",
     "text": [
      "  0%|          | 0/512 [00:00<?, ?it/s]"
     ]
    },
    {
     "name": "stderr",
     "output_type": "stream",
     "text": [
      "  1%|          | 4/512 [00:04<08:50,  1.04s/it]\n"
     ]
    },
    {
     "ename": "KeyboardInterrupt",
     "evalue": "",
     "output_type": "error",
     "traceback": [
      "\u001b[0;31m---------------------------------------------------------------------------\u001b[0m",
      "\u001b[0;31mKeyboardInterrupt\u001b[0m                         Traceback (most recent call last)",
      "Cell \u001b[0;32mIn[6], line 4\u001b[0m\n\u001b[1;32m      2\u001b[0m \u001b[39mfor\u001b[39;00m lang \u001b[39min\u001b[39;00m langs:\n\u001b[1;32m      3\u001b[0m     \u001b[39mfor\u001b[39;00m afl \u001b[39min\u001b[39;00m [\u001b[39m'\u001b[39m\u001b[39ma\u001b[39m\u001b[39m'\u001b[39m, \u001b[39m'\u001b[39m\u001b[39mf\u001b[39m\u001b[39m'\u001b[39m, \u001b[39m'\u001b[39m\u001b[39ml\u001b[39m\u001b[39m'\u001b[39m]:\n\u001b[0;32m----> 4\u001b[0m         df[\u001b[39mf\u001b[39m\u001b[39m'\u001b[39m\u001b[39mp_\u001b[39m\u001b[39m{\u001b[39;00mafl\u001b[39m}\u001b[39;00m\u001b[39m_\u001b[39m\u001b[39m{\u001b[39;00mlang\u001b[39m}\u001b[39;00m\u001b[39m_gpt\u001b[39m\u001b[39m'\u001b[39m] \u001b[39m=\u001b[39m df[\u001b[39mf\u001b[39;49m\u001b[39m\"\u001b[39;49m\u001b[39ms_\u001b[39;49m\u001b[39m{\u001b[39;49;00mafl\u001b[39m}\u001b[39;49;00m\u001b[39m\"\u001b[39;49m]\u001b[39m.\u001b[39;49mprogress_apply(\n\u001b[1;32m      5\u001b[0m             \u001b[39mlambda\u001b[39;49;00m x: gpt_wrapper(x, langs[lang]))\n\u001b[1;32m      6\u001b[0m         df\u001b[39m.\u001b[39mto_csv(\u001b[39mf\u001b[39m\u001b[39m\"\u001b[39m\u001b[39m./ckpt/gpt/ckpt_\u001b[39m\u001b[39m{\u001b[39;00mi\u001b[39m}\u001b[39;00m\u001b[39m.csv\u001b[39m\u001b[39m\"\u001b[39m, index\u001b[39m=\u001b[39m\u001b[39mFalse\u001b[39;00m)\n\u001b[1;32m      7\u001b[0m         i \u001b[39m+\u001b[39m\u001b[39m=\u001b[39m \u001b[39m1\u001b[39m\n",
      "File \u001b[0;32m~/miniforge3/envs/py3.8/lib/python3.8/site-packages/tqdm/std.py:814\u001b[0m, in \u001b[0;36mtqdm.pandas.<locals>.inner_generator.<locals>.inner\u001b[0;34m(df, func, *args, **kwargs)\u001b[0m\n\u001b[1;32m    811\u001b[0m \u001b[39m# Apply the provided function (in **kwargs)\u001b[39;00m\n\u001b[1;32m    812\u001b[0m \u001b[39m# on the df using our wrapper (which provides bar updating)\u001b[39;00m\n\u001b[1;32m    813\u001b[0m \u001b[39mtry\u001b[39;00m:\n\u001b[0;32m--> 814\u001b[0m     \u001b[39mreturn\u001b[39;00m \u001b[39mgetattr\u001b[39;49m(df, df_function)(wrapper, \u001b[39m*\u001b[39;49m\u001b[39m*\u001b[39;49mkwargs)\n\u001b[1;32m    815\u001b[0m \u001b[39mfinally\u001b[39;00m:\n\u001b[1;32m    816\u001b[0m     t\u001b[39m.\u001b[39mclose()\n",
      "File \u001b[0;32m~/miniforge3/envs/py3.8/lib/python3.8/site-packages/pandas/core/series.py:4771\u001b[0m, in \u001b[0;36mSeries.apply\u001b[0;34m(self, func, convert_dtype, args, **kwargs)\u001b[0m\n\u001b[1;32m   4661\u001b[0m \u001b[39mdef\u001b[39;00m \u001b[39mapply\u001b[39m(\n\u001b[1;32m   4662\u001b[0m     \u001b[39mself\u001b[39m,\n\u001b[1;32m   4663\u001b[0m     func: AggFuncType,\n\u001b[0;32m   (...)\u001b[0m\n\u001b[1;32m   4666\u001b[0m     \u001b[39m*\u001b[39m\u001b[39m*\u001b[39mkwargs,\n\u001b[1;32m   4667\u001b[0m ) \u001b[39m-\u001b[39m\u001b[39m>\u001b[39m DataFrame \u001b[39m|\u001b[39m Series:\n\u001b[1;32m   4668\u001b[0m     \u001b[39m\"\"\"\u001b[39;00m\n\u001b[1;32m   4669\u001b[0m \u001b[39m    Invoke function on values of Series.\u001b[39;00m\n\u001b[1;32m   4670\u001b[0m \n\u001b[0;32m   (...)\u001b[0m\n\u001b[1;32m   4769\u001b[0m \u001b[39m    dtype: float64\u001b[39;00m\n\u001b[1;32m   4770\u001b[0m \u001b[39m    \"\"\"\u001b[39;00m\n\u001b[0;32m-> 4771\u001b[0m     \u001b[39mreturn\u001b[39;00m SeriesApply(\u001b[39mself\u001b[39;49m, func, convert_dtype, args, kwargs)\u001b[39m.\u001b[39;49mapply()\n",
      "File \u001b[0;32m~/miniforge3/envs/py3.8/lib/python3.8/site-packages/pandas/core/apply.py:1105\u001b[0m, in \u001b[0;36mSeriesApply.apply\u001b[0;34m(self)\u001b[0m\n\u001b[1;32m   1102\u001b[0m     \u001b[39mreturn\u001b[39;00m \u001b[39mself\u001b[39m\u001b[39m.\u001b[39mapply_str()\n\u001b[1;32m   1104\u001b[0m \u001b[39m# self.f is Callable\u001b[39;00m\n\u001b[0;32m-> 1105\u001b[0m \u001b[39mreturn\u001b[39;00m \u001b[39mself\u001b[39;49m\u001b[39m.\u001b[39;49mapply_standard()\n",
      "File \u001b[0;32m~/miniforge3/envs/py3.8/lib/python3.8/site-packages/pandas/core/apply.py:1156\u001b[0m, in \u001b[0;36mSeriesApply.apply_standard\u001b[0;34m(self)\u001b[0m\n\u001b[1;32m   1154\u001b[0m     \u001b[39melse\u001b[39;00m:\n\u001b[1;32m   1155\u001b[0m         values \u001b[39m=\u001b[39m obj\u001b[39m.\u001b[39mastype(\u001b[39mobject\u001b[39m)\u001b[39m.\u001b[39m_values\n\u001b[0;32m-> 1156\u001b[0m         mapped \u001b[39m=\u001b[39m lib\u001b[39m.\u001b[39;49mmap_infer(\n\u001b[1;32m   1157\u001b[0m             values,\n\u001b[1;32m   1158\u001b[0m             f,\n\u001b[1;32m   1159\u001b[0m             convert\u001b[39m=\u001b[39;49m\u001b[39mself\u001b[39;49m\u001b[39m.\u001b[39;49mconvert_dtype,\n\u001b[1;32m   1160\u001b[0m         )\n\u001b[1;32m   1162\u001b[0m \u001b[39mif\u001b[39;00m \u001b[39mlen\u001b[39m(mapped) \u001b[39mand\u001b[39;00m \u001b[39misinstance\u001b[39m(mapped[\u001b[39m0\u001b[39m], ABCSeries):\n\u001b[1;32m   1163\u001b[0m     \u001b[39m# GH#43986 Need to do list(mapped) in order to get treated as nested\u001b[39;00m\n\u001b[1;32m   1164\u001b[0m     \u001b[39m#  See also GH#25959 regarding EA support\u001b[39;00m\n\u001b[1;32m   1165\u001b[0m     \u001b[39mreturn\u001b[39;00m obj\u001b[39m.\u001b[39m_constructor_expanddim(\u001b[39mlist\u001b[39m(mapped), index\u001b[39m=\u001b[39mobj\u001b[39m.\u001b[39mindex)\n",
      "File \u001b[0;32m~/miniforge3/envs/py3.8/lib/python3.8/site-packages/pandas/_libs/lib.pyx:2918\u001b[0m, in \u001b[0;36mpandas._libs.lib.map_infer\u001b[0;34m()\u001b[0m\n",
      "File \u001b[0;32m~/miniforge3/envs/py3.8/lib/python3.8/site-packages/tqdm/std.py:809\u001b[0m, in \u001b[0;36mtqdm.pandas.<locals>.inner_generator.<locals>.inner.<locals>.wrapper\u001b[0;34m(*args, **kwargs)\u001b[0m\n\u001b[1;32m    803\u001b[0m \u001b[39mdef\u001b[39;00m \u001b[39mwrapper\u001b[39m(\u001b[39m*\u001b[39margs, \u001b[39m*\u001b[39m\u001b[39m*\u001b[39mkwargs):\n\u001b[1;32m    804\u001b[0m     \u001b[39m# update tbar correctly\u001b[39;00m\n\u001b[1;32m    805\u001b[0m     \u001b[39m# it seems `pandas apply` calls `func` twice\u001b[39;00m\n\u001b[1;32m    806\u001b[0m     \u001b[39m# on the first column/row to decide whether it can\u001b[39;00m\n\u001b[1;32m    807\u001b[0m     \u001b[39m# take a fast or slow code path; so stop when t.total==t.n\u001b[39;00m\n\u001b[1;32m    808\u001b[0m     t\u001b[39m.\u001b[39mupdate(n\u001b[39m=\u001b[39m\u001b[39m1\u001b[39m \u001b[39mif\u001b[39;00m \u001b[39mnot\u001b[39;00m t\u001b[39m.\u001b[39mtotal \u001b[39mor\u001b[39;00m t\u001b[39m.\u001b[39mn \u001b[39m<\u001b[39m t\u001b[39m.\u001b[39mtotal \u001b[39melse\u001b[39;00m \u001b[39m0\u001b[39m)\n\u001b[0;32m--> 809\u001b[0m     \u001b[39mreturn\u001b[39;00m func(\u001b[39m*\u001b[39;49margs, \u001b[39m*\u001b[39;49m\u001b[39m*\u001b[39;49mkwargs)\n",
      "Cell \u001b[0;32mIn[6], line 5\u001b[0m, in \u001b[0;36m<lambda>\u001b[0;34m(x)\u001b[0m\n\u001b[1;32m      2\u001b[0m \u001b[39mfor\u001b[39;00m lang \u001b[39min\u001b[39;00m langs:\n\u001b[1;32m      3\u001b[0m     \u001b[39mfor\u001b[39;00m afl \u001b[39min\u001b[39;00m [\u001b[39m'\u001b[39m\u001b[39ma\u001b[39m\u001b[39m'\u001b[39m, \u001b[39m'\u001b[39m\u001b[39mf\u001b[39m\u001b[39m'\u001b[39m, \u001b[39m'\u001b[39m\u001b[39ml\u001b[39m\u001b[39m'\u001b[39m]:\n\u001b[1;32m      4\u001b[0m         df[\u001b[39mf\u001b[39m\u001b[39m'\u001b[39m\u001b[39mp_\u001b[39m\u001b[39m{\u001b[39;00mafl\u001b[39m}\u001b[39;00m\u001b[39m_\u001b[39m\u001b[39m{\u001b[39;00mlang\u001b[39m}\u001b[39;00m\u001b[39m_gpt\u001b[39m\u001b[39m'\u001b[39m] \u001b[39m=\u001b[39m df[\u001b[39mf\u001b[39m\u001b[39m\"\u001b[39m\u001b[39ms_\u001b[39m\u001b[39m{\u001b[39;00mafl\u001b[39m}\u001b[39;00m\u001b[39m\"\u001b[39m]\u001b[39m.\u001b[39mprogress_apply(\n\u001b[0;32m----> 5\u001b[0m             \u001b[39mlambda\u001b[39;00m x: gpt_wrapper(x, langs[lang]))\n\u001b[1;32m      6\u001b[0m         df\u001b[39m.\u001b[39mto_csv(\u001b[39mf\u001b[39m\u001b[39m\"\u001b[39m\u001b[39m./ckpt/gpt/ckpt_\u001b[39m\u001b[39m{\u001b[39;00mi\u001b[39m}\u001b[39;00m\u001b[39m.csv\u001b[39m\u001b[39m\"\u001b[39m, index\u001b[39m=\u001b[39m\u001b[39mFalse\u001b[39;00m)\n\u001b[1;32m      7\u001b[0m         i \u001b[39m+\u001b[39m\u001b[39m=\u001b[39m \u001b[39m1\u001b[39m\n",
      "Cell \u001b[0;32mIn[5], line 2\u001b[0m, in \u001b[0;36mgpt_wrapper\u001b[0;34m(x, lang, time_passed)\u001b[0m\n\u001b[1;32m      1\u001b[0m \u001b[39mdef\u001b[39;00m \u001b[39mgpt_wrapper\u001b[39m(x, lang, time_passed\u001b[39m=\u001b[39m\u001b[39m1\u001b[39m):\n\u001b[0;32m----> 2\u001b[0m     time\u001b[39m.\u001b[39;49msleep(time_passed)\n\u001b[1;32m      3\u001b[0m     \u001b[39mtry\u001b[39;00m:\n\u001b[1;32m      4\u001b[0m         \u001b[39mreturn\u001b[39;00m gpt(x, lang)\n",
      "\u001b[0;31mKeyboardInterrupt\u001b[0m: "
     ]
    }
   ],
   "source": [
    "i = 0\n",
    "for lang in langs:\n",
    "    for afl in ['a', 'f', 'l']:\n",
    "        df[f'p_{afl}_{lang}_gpt'] = df[f\"s_{afl}\"].progress_apply(\n",
    "            lambda x: gpt_wrapper(x, langs[lang]))\n",
    "        df.to_csv(f\"./ckpt/gpt/ckpt_{i}.csv\", index=False)\n",
    "        i += 1"
   ]
  },
  {
   "cell_type": "code",
   "execution_count": null,
   "metadata": {},
   "outputs": [],
   "source": [
    "df.to_csv(\"translation_gpt.csv\")"
   ]
  },
  {
   "attachments": {},
   "cell_type": "markdown",
   "metadata": {},
   "source": [
    "**Merge**"
   ]
  },
  {
   "cell_type": "code",
   "execution_count": null,
   "metadata": {},
   "outputs": [],
   "source": [
    "os.chdir(\"ckpt\")\n",
    "for lang in langs:\n",
    "    for label in ['a', 'f', 'l']:\n",
    "        col = pd.read_csv(f'{label}_{lang}.csv')[f'p_{label}_{lang}_gpt']\n",
    "        df[f'p_{label}_{lang}_gpt'] = col\n",
    "os.chdir(\"..\")"
   ]
  },
  {
   "cell_type": "code",
   "execution_count": null,
   "metadata": {},
   "outputs": [],
   "source": [
    "df.to_csv(\"translation_gpt.csv\", index=False)"
   ]
  },
  {
   "attachments": {},
   "cell_type": "markdown",
   "metadata": {},
   "source": [
    "### Google"
   ]
  },
  {
   "cell_type": "code",
   "execution_count": null,
   "metadata": {},
   "outputs": [],
   "source": [
    "def google_wrapper(x, lang):\n",
    "    try:\n",
    "        return google(x, lang)\n",
    "    except:\n",
    "        time.sleep(5)\n",
    "        return google(x, lang)"
   ]
  },
  {
   "cell_type": "code",
   "execution_count": null,
   "metadata": {},
   "outputs": [],
   "source": [
    "for lang in langs:\n",
    "    print(f\"Begin Google Translation: {lang}\")\n",
    "    df[f'p_f_{lang}_google'] = google_wrapper(df['s_f'], lang)\n",
    "    df[f'p_l_{lang}_google'] = google_wrapper(df['s_l'], lang)\n",
    "    df[f'p_a_{lang}_google'] = google_wrapper(df['s_a'], lang)\n",
    "    print()"
   ]
  },
  {
   "attachments": {},
   "cell_type": "markdown",
   "metadata": {},
   "source": [
    "### Opus MT"
   ]
  },
  {
   "cell_type": "code",
   "execution_count": null,
   "metadata": {},
   "outputs": [],
   "source": [
    "for lang in langs:\n",
    "    if lang == 'ko':\n",
    "        df[f'p_a_ko_opus'] = ''\n",
    "        df[f'p_f_ko_opus'] = ''\n",
    "        df[f'p_l_ko_opus'] = ''\n",
    "    try:\n",
    "        print(f\"Begin Opus MT: {lang}\")\n",
    "        df[f'p_a_{lang}_opus'] = opus(df['s_a'].tolist(), lang)\n",
    "        df[f'p_f_{lang}_opus'] = opus(df['s_f'].tolist(), lang)\n",
    "        df[f'p_l_{lang}_opus'] = opus(df['s_l'].tolist(), lang)\n",
    "        print()\n",
    "    except:\n",
    "        print(f\"Exception thrown at lang {lang}\")\n",
    "        continue"
   ]
  },
  {
   "cell_type": "code",
   "execution_count": null,
   "metadata": {},
   "outputs": [],
   "source": [
    "df.to_csv(\"translation_opus.csv\", index=False)"
   ]
  },
  {
   "attachments": {},
   "cell_type": "markdown",
   "metadata": {},
   "source": [
    "### NLLB"
   ]
  },
  {
   "cell_type": "code",
   "execution_count": null,
   "metadata": {},
   "outputs": [],
   "source": [
    "os.chdir(\"nllb\")\n",
    "for label, idx in zip(['f', 'l', 'a'], range(0, 512 * 3, 512)):\n",
    "\n",
    "    with open(f'deu_Latn.txt', 'r') as file:\n",
    "        lines = [line.strip() for line in file]\n",
    "        df[f'p_{label}_de_nllb'] = lines[idx : idx + 512]\n",
    "\n",
    "    with open(f'heb_Hebr.txt', 'r') as file:\n",
    "        lines = [line.strip() for line in file]\n",
    "        df[f'p_{label}_he_nllb'] = lines[idx : idx + 512]\n",
    "\n",
    "    with open(f'hin_Deva.txt', 'r') as file:\n",
    "        lines = [line.strip() for line in file]\n",
    "        df[f'p_{label}_hi_nllb'] = lines[idx : idx + 512]\n",
    "\n",
    "    with open(f'hun_Latn.txt', 'r') as file:\n",
    "        lines = [line.strip() for line in file]\n",
    "        df[f'p_{label}_hu_nllb'] = lines[idx : idx + 512]\n",
    "\n",
    "    with open(f'kor_Hang.txt', 'r') as file:\n",
    "        lines = [line.strip() for line in file]\n",
    "        df[f'p_{label}_ko_nllb'] = lines[idx : idx + 512]\n",
    "\n",
    "    with open(f'spa_Latn.txt', 'r') as file:\n",
    "        lines = [line.strip() for line in file]\n",
    "        df[f'p_{label}_es_nllb'] = lines[idx : idx + 512]\n",
    "\n",
    "    with open(f'yor_Latn.txt', 'r') as file:\n",
    "        lines = [line.strip() for line in file]\n",
    "        df[f'p_{label}_yo_nllb'] = lines[idx : idx + 512]\n",
    "\n",
    "    with open(f'zho_Hans.txt', 'r') as file:\n",
    "        lines = [line.strip() for line in file]\n",
    "        df[f'p_{label}_zh_nllb'] = lines[idx : idx + 512]\n",
    "\n",
    "os.chdir(\"..\")"
   ]
  },
  {
   "cell_type": "code",
   "execution_count": null,
   "metadata": {},
   "outputs": [],
   "source": [
    "df.to_csv(\"translation_nllb.csv\", index=False)"
   ]
  },
  {
   "attachments": {},
   "cell_type": "markdown",
   "metadata": {},
   "source": [
    "### LLaMA"
   ]
  },
  {
   "cell_type": "code",
   "execution_count": null,
   "metadata": {},
   "outputs": [],
   "source": [
    "os.chdir(\"llama\")\n",
    "for label, idx in zip(['f', 'l', 'a'], range(0, 512 * 3, 512)):\n",
    "\n",
    "    with open(f'german.txt', 'r') as file:\n",
    "        lines = [line.strip() for line in file]\n",
    "        df[f'p_{label}_de_llama'] = lines[idx : idx + 512]\n",
    "\n",
    "    with open(f'hebrew.txt', 'r') as file:\n",
    "        lines = [line.strip() for line in file]\n",
    "        df[f'p_{label}_he_llama'] = lines[idx : idx + 512]\n",
    "\n",
    "    with open(f'hindi.txt', 'r') as file:\n",
    "        lines = [line.strip() for line in file]\n",
    "        df[f'p_{label}_hi_llama'] = lines[idx : idx + 512]\n",
    "\n",
    "    with open(f'hungarian.txt', 'r') as file:\n",
    "        lines = [line.strip() for line in file]\n",
    "        df[f'p_{label}_hu_llama'] = lines[idx : idx + 512]\n",
    "\n",
    "    with open(f'korean.txt', 'r') as file:\n",
    "        lines = [line.strip() for line in file]\n",
    "        df[f'p_{label}_ko_llama'] = lines[idx : idx + 512]\n",
    "\n",
    "    with open(f'spanish.txt', 'r') as file:\n",
    "        lines = [line.strip() for line in file]\n",
    "        df[f'p_{label}_es_llama'] = lines[idx : idx + 512]\n",
    "\n",
    "    with open(f'yoruba.txt', 'r') as file:\n",
    "        lines = [line.strip() for line in file]\n",
    "        df[f'p_{label}_yo_llama'] = lines[idx : idx + 512]\n",
    "\n",
    "    with open(f'chinese.txt', 'r') as file:\n",
    "        lines = [line.strip() for line in file]\n",
    "        df[f'p_{label}_zh_llama'] = lines[idx : idx + 512]\n",
    "os.chdir(\"..\")"
   ]
  },
  {
   "cell_type": "code",
   "execution_count": null,
   "metadata": {},
   "outputs": [],
   "source": [
    "df.to_csv(\"translation_llama.csv\", index=False)"
   ]
  },
  {
   "attachments": {},
   "cell_type": "markdown",
   "metadata": {},
   "source": [
    "### Combining"
   ]
  },
  {
   "cell_type": "code",
   "execution_count": 2,
   "metadata": {},
   "outputs": [],
   "source": [
    "df = pd.concat([\n",
    "    pd.read_csv(\"../data/translation_gpt.csv\"),\n",
    "    pd.read_csv(\"../data/translation_palm.csv\"),\n",
    "    pd.read_csv(\"../data/translation_google.csv\"),\n",
    "    pd.read_csv(\"../data/translation_opus.csv\"),\n",
    "    pd.read_csv(\"../data/translation_nllb.csv\"),\n",
    "], axis=1)\n",
    "df = df.loc[:,~df.columns.duplicated(keep='first')]\n",
    "df.to_csv(\"translation.csv\", index=False)"
   ]
  },
  {
   "attachments": {},
   "cell_type": "markdown",
   "metadata": {},
   "source": [
    "# Evaluation"
   ]
  },
  {
   "cell_type": "code",
   "execution_count": 4,
   "metadata": {},
   "outputs": [],
   "source": [
    "df.drop(\"Unnamed: 0\", axis=1).to_csv(\"translation.csv\", index=False)"
   ]
  },
  {
   "cell_type": "code",
   "execution_count": 14,
   "metadata": {},
   "outputs": [],
   "source": [
    "df = pd.read_csv(\"translation.csv\", keep_default_na=False, na_values=[])"
   ]
  },
  {
   "attachments": {},
   "cell_type": "markdown",
   "metadata": {},
   "source": [
    "## RQ1"
   ]
  },
  {
   "cell_type": "code",
   "execution_count": 15,
   "metadata": {},
   "outputs": [],
   "source": [
    "import spacy\n",
    "def tok(x, lang):\n",
    "    if lang == 'zh':\n",
    "        from spacy.lang.zh import Chinese\n",
    "        cfg = {\"segmenter\": \"jieba\"}\n",
    "        nlp = Chinese.from_config({\"nlp\": {\"tokenizer\": cfg}})\n",
    "    elif lang == 'ko':\n",
    "        nlp = spacy.load(\"ko_core_news_sm\")\n",
    "    elif lang == 'de':\n",
    "        nlp = spacy.load(\"de_core_news_sm\")\n",
    "    elif lang == 'es':\n",
    "        nlp = spacy.load(\"es_core_news_sm\")\n",
    "    elif lang == 'en':\n",
    "        nlp = spacy.load(\"en_core_web_sm\")\n",
    "    else:\n",
    "        nlp = spacy.blank(lang)\n",
    "    return ' '.join([token.text for token in nlp(x)])"
   ]
  },
  {
   "cell_type": "code",
   "execution_count": 16,
   "metadata": {},
   "outputs": [],
   "source": [
    "usw_result, nm_result = [], []\n",
    "models = ['gpt', 'palm', 'google', 'opus', 'nllb']"
   ]
  },
  {
   "cell_type": "code",
   "execution_count": 17,
   "metadata": {},
   "outputs": [],
   "source": [
    "from string import punctuation\n",
    "def sstrip(x):\n",
    "    x = x.strip(\" \\n\\t\")\n",
    "    x = x.strip(punctuation)\n",
    "    return x"
   ]
  },
  {
   "cell_type": "code",
   "execution_count": 19,
   "metadata": {},
   "outputs": [
    {
     "name": "stdout",
     "output_type": "stream",
     "text": [
      "gpt de\n"
     ]
    }
   ],
   "source": [
    "df['s_a_tok'] = df['s_a'].apply(sstrip)\n",
    "df['s_a_tok'] = df['s_a'].apply(lambda x: tok(x, 'en'))\n",
    "# for model in models:\n",
    "for model in models:\n",
    "    for lang in langs:\n",
    "        print(model, lang)\n",
    "        df[f'p_a_{lang}_{model}_tok'] = df[f'p_a_{lang}_{model}'].apply(lambda x: tok(x, lang))"
   ]
  },
  {
   "cell_type": "code",
   "execution_count": null,
   "metadata": {},
   "outputs": [],
   "source": [
    "import os, sys\n",
    "\n",
    "class HiddenPrints:\n",
    "    def __enter__(self):\n",
    "        self._original_stdout = sys.stdout\n",
    "        sys.stdout = open(os.devnull, 'w')\n",
    "\n",
    "    def __exit__(self, exc_type, exc_val, exc_tb):\n",
    "        sys.stdout.close()\n",
    "        sys.stdout = self._original_stdout"
   ]
  },
  {
   "cell_type": "code",
   "execution_count": null,
   "metadata": {},
   "outputs": [],
   "source": [
    "usw_result, nm_result = [], []\n",
    "models = ['gpt', 'palm', 'google', 'opus', 'nllb']\n",
    "\n",
    "for model in models:\n",
    "    for lang in langs:\n",
    "        try:\n",
    "            language_pair = f'en-{lang}'\n",
    "\n",
    "            if model == 'opus' and lang == 'ko':\n",
    "                usw_result.append([model, language_pair, 0])\n",
    "                nm_result.append([model, language_pair, 0])\n",
    "                continue\n",
    "\n",
    "            # source and prediction\n",
    "            section = df[['s_a_tok', f'p_a_{lang}_{model}_tok']].copy()\n",
    "\n",
    "            # remove rows with empty string\n",
    "            section = section[~(section == '').any(axis=1)].reset_index(drop=True)\n",
    "            print(model, lang, len(section))\n",
    "\n",
    "            with HiddenPrints():\n",
    "                alignments = awesome_align(section['s_a_tok'], section[f'p_a_{lang}_{model}_tok'])\n",
    "                usw, nm = usw_nm(section['s_a_tok'], alignments, section[f'p_a_{lang}_{model}_tok'])\n",
    "                usw_result.append([model, language_pair, usw])\n",
    "                nm_result.append([model, language_pair, nm])\n",
    "                \n",
    "        except:\n",
    "            print(\"ERROR! ERROR!\")\n",
    "            print(model, lang)"
   ]
  },
  {
   "cell_type": "code",
   "execution_count": null,
   "metadata": {},
   "outputs": [],
   "source": [
    "(pd.DataFrame(usw_result, columns=[\"model\", \"language_pair\", \"score\"])).to_csv(\"usw_result.csv\", index=False)\n",
    "(pd.DataFrame(nm_result, columns=[\"model\", \"language_pair\", \"score\"])).to_csv(\"nm_result.csv\", index=False)"
   ]
  },
  {
   "attachments": {},
   "cell_type": "markdown",
   "metadata": {},
   "source": [
    "## Contained In"
   ]
  },
  {
   "cell_type": "code",
   "execution_count": null,
   "metadata": {},
   "outputs": [],
   "source": [
    "uni_fig_chrp, uni_lit_chrp = [], []\n",
    "for model in models:\n",
    "    for lang in langs:\n",
    "        language_pair = f'en-{lang}'\n",
    "        p_a = df[f'p_a_{lang}_{model}']\n",
    "        p_f = df[f'p_f_{lang}_{model}']\n",
    "        p_l = df[f'p_l_{lang}_{model}']\n",
    "        uni_fig_chrp.append([model, language_pair, chrp_contained_in(p_a, p_f)])\n",
    "        uni_lit_chrp.append([model, language_pair, chrp_contained_in(p_a, p_l)])\n",
    "(pd.DataFrame(uni_fig_chrp, columns=[\"model\", \"language_pair\", \"score\"])).to_csv(\"uni_fig_chrp\", index=False)\n",
    "(pd.DataFrame(uni_lit_chrp, columns=[\"model\", \"language_pair\", \"score\"])).to_csv(\"uni_lit_chrp\", index=False)"
   ]
  },
  {
   "cell_type": "code",
   "execution_count": null,
   "metadata": {},
   "outputs": [],
   "source": [
    "uni_fig_bert, uni_lit_bert = [], []\n",
    "for model in models:\n",
    "    for lang in langs:\n",
    "        language_pair = f'en-{lang}'\n",
    "        p_a = df[f'p_a_{lang}_{model}']\n",
    "        p_f = df[f'p_f_{lang}_{model}']\n",
    "        p_l = df[f'p_l_{lang}_{model}']\n",
    "        uni_fig_bert.append([model, language_pair, bert_contained_in(p_a, p_f)])\n",
    "        uni_lit_bert.append([model, language_pair, bert_contained_in(p_a, p_l)])\n",
    "(pd.DataFrame(uni_fig_bert, columns=[\"model\", \"language_pair\", \"score\"])).to_csv(\"uni_fig_bert\", index=False)\n",
    "(pd.DataFrame(uni_lit_bert, columns=[\"model\", \"language_pair\", \"score\"])).to_csv(\"uni_lit_bert\", index=False)"
   ]
  },
  {
   "cell_type": "code",
   "execution_count": null,
   "metadata": {},
   "outputs": [],
   "source": [
    "uni_fig_chrf, uni_lit_chrf = [], []\n",
    "for model in models:\n",
    "    for lang in langs:\n",
    "        language_pair = f'en-{lang}'\n",
    "        p_a = df[f'p_a_{lang}_{model}']\n",
    "        p_f = df[f'p_f_{lang}_{model}']\n",
    "        p_l = df[f'p_l_{lang}_{model}']\n",
    "        uni_fig_chrf.append([model, language_pair, chrf_sim(p_a, p_f)])\n",
    "        uni_lit_chrf.append([model, language_pair, chrf_sim(p_a, p_l)])\n",
    "\n",
    "(pd.DataFrame(uni_fig_chrf, columns=[\"model\", \"language_pair\", \"score\"])).to_csv(\"uni_fig_chrf\", index=False)\n",
    "(pd.DataFrame(uni_lit_chrf, columns=[\"model\", \"language_pair\", \"score\"])).to_csv(\"uni_lit_chrf\", index=False)"
   ]
  }
 ],
 "metadata": {
  "kernelspec": {
   "display_name": "py3.8",
   "language": "python",
   "name": "python3"
  },
  "language_info": {
   "codemirror_mode": {
    "name": "ipython",
    "version": 3
   },
   "file_extension": ".py",
   "mimetype": "text/x-python",
   "name": "python",
   "nbconvert_exporter": "python",
   "pygments_lexer": "ipython3",
   "version": "3.8.15"
  },
  "orig_nbformat": 4
 },
 "nbformat": 4,
 "nbformat_minor": 2
}
