{
 "cells": [
  {
   "cell_type": "code",
   "execution_count": 18,
   "metadata": {},
   "outputs": [],
   "source": [
    "import boto3\n",
    "import config\n",
    "\n",
    "region_name = 'us-east-1'\n",
    "aws_access_key_id = config.ACCESS_KEY\n",
    "aws_secret_access_key = config.SECRET_ACCESS_KEY\n",
    "create_hits_in_live = False\n",
    "environments = {\n",
    "        \"live\": {\n",
    "            \"endpoint\": \"https://mturk-requester.us-east-1.amazonaws.com\",\n",
    "            \"preview\": \"https://www.mturk.com/mturk/preview\",\n",
    "            \"manage\": \"https://requester.mturk.com/mturk/manageHITs\",\n",
    "            \"reward\": \"0.00\"\n",
    "        },\n",
    "        \"sandbox\": {\n",
    "            \"endpoint\": \"https://mturk-requester-sandbox.us-east-1.amazonaws.com\",\n",
    "            \"preview\": \"https://workersandbox.mturk.com/mturk/preview\",\n",
    "            \"manage\": \"https://requestersandbox.mturk.com/mturk/manageHITs\",\n",
    "            \"reward\": \"0.11\"\n",
    "        },\n",
    "}\n",
    "mturk_environment = environments[\"live\"] if create_hits_in_live else environments[\"sandbox\"]\n",
    "\n",
    "mturk = boto3.client(\n",
    "    'mturk',\n",
    "    endpoint_url=mturk_environment['endpoint'],\n",
    "    region_name=region_name,\n",
    "    aws_access_key_id=aws_access_key_id,\n",
    "    aws_secret_access_key=aws_secret_access_key,\n",
    ")"
   ]
  },
  {
   "cell_type": "code",
   "execution_count": 31,
   "metadata": {},
   "outputs": [
    {
     "ename": "ClientError",
     "evalue": "An error occurred (ParameterValidationError) when calling the CreateQualificationType operation: There was an error parsing the XML question or answer data in your request.  Please make sure the data is well-formed and validates against the appropriate schema. Details: cvc-elt.1.a: Cannot find the declaration of element 'QuestionForm'. (1676274082608 s)",
     "output_type": "error",
     "traceback": [
      "\u001b[0;31m---------------------------------------------------------------------------\u001b[0m",
      "\u001b[0;31mClientError\u001b[0m                               Traceback (most recent call last)",
      "Cell \u001b[0;32mIn[31], line 11\u001b[0m\n\u001b[1;32m      2\u001b[0m     text\u001b[39m=\u001b[39m f\u001b[39m.\u001b[39mread()\n\u001b[1;32m      4\u001b[0m test \u001b[39m=\u001b[39m \u001b[39mf\u001b[39m\u001b[39m\"\"\"\u001b[39m\n\u001b[1;32m      5\u001b[0m \u001b[39m<QuestionForm xmlns=\u001b[39m\u001b[39m\"\u001b[39m\u001b[39mhttp://mechanicalturk.amazonaws.com/AWSMechanicalTurkDataSchemas/2017-11-06/QuestionForm.xsd\u001b[39m\u001b[39m\"\u001b[39m\u001b[39m>\u001b[39m\n\u001b[1;32m      6\u001b[0m \u001b[39m<FormattedContent><![CDATA[\u001b[39m\n\u001b[1;32m      7\u001b[0m \u001b[39m{\u001b[39;00mtext\u001b[39m}\u001b[39;00m\n\u001b[1;32m      8\u001b[0m \u001b[39m]]></FormattedContent>\u001b[39m\n\u001b[1;32m      9\u001b[0m \u001b[39m</QuestionForm>\u001b[39m\u001b[39m\"\"\"\u001b[39m\n\u001b[0;32m---> 11\u001b[0m mturk\u001b[39m.\u001b[39;49mcreate_qualification_type(\n\u001b[1;32m     12\u001b[0m     Name \u001b[39m=\u001b[39;49m \u001b[39m\"\u001b[39;49m\u001b[39mtest_qualification_1\u001b[39;49m\u001b[39m\"\u001b[39;49m,\n\u001b[1;32m     13\u001b[0m     Description \u001b[39m=\u001b[39;49m \u001b[39m\"\u001b[39;49m\u001b[39mtest_description_1\u001b[39;49m\u001b[39m\"\u001b[39;49m,\n\u001b[1;32m     14\u001b[0m     QualificationTypeStatus \u001b[39m=\u001b[39;49m \u001b[39m\"\u001b[39;49m\u001b[39mActive\u001b[39;49m\u001b[39m\"\u001b[39;49m,\n\u001b[1;32m     15\u001b[0m     TestDurationInSeconds \u001b[39m=\u001b[39;49m \u001b[39m10000\u001b[39;49m,\n\u001b[1;32m     16\u001b[0m     Test \u001b[39m=\u001b[39;49m test\n\u001b[1;32m     17\u001b[0m )\n",
      "File \u001b[0;32m~/miniforge3/envs/py3.8/lib/python3.8/site-packages/botocore/client.py:530\u001b[0m, in \u001b[0;36mClientCreator._create_api_method.<locals>._api_call\u001b[0;34m(self, *args, **kwargs)\u001b[0m\n\u001b[1;32m    526\u001b[0m     \u001b[39mraise\u001b[39;00m \u001b[39mTypeError\u001b[39;00m(\n\u001b[1;32m    527\u001b[0m         \u001b[39mf\u001b[39m\u001b[39m\"\u001b[39m\u001b[39m{\u001b[39;00mpy_operation_name\u001b[39m}\u001b[39;00m\u001b[39m() only accepts keyword arguments.\u001b[39m\u001b[39m\"\u001b[39m\n\u001b[1;32m    528\u001b[0m     )\n\u001b[1;32m    529\u001b[0m \u001b[39m# The \"self\" in this scope is referring to the BaseClient.\u001b[39;00m\n\u001b[0;32m--> 530\u001b[0m \u001b[39mreturn\u001b[39;00m \u001b[39mself\u001b[39;49m\u001b[39m.\u001b[39;49m_make_api_call(operation_name, kwargs)\n",
      "File \u001b[0;32m~/miniforge3/envs/py3.8/lib/python3.8/site-packages/botocore/client.py:960\u001b[0m, in \u001b[0;36mBaseClient._make_api_call\u001b[0;34m(self, operation_name, api_params)\u001b[0m\n\u001b[1;32m    958\u001b[0m     error_code \u001b[39m=\u001b[39m parsed_response\u001b[39m.\u001b[39mget(\u001b[39m\"\u001b[39m\u001b[39mError\u001b[39m\u001b[39m\"\u001b[39m, {})\u001b[39m.\u001b[39mget(\u001b[39m\"\u001b[39m\u001b[39mCode\u001b[39m\u001b[39m\"\u001b[39m)\n\u001b[1;32m    959\u001b[0m     error_class \u001b[39m=\u001b[39m \u001b[39mself\u001b[39m\u001b[39m.\u001b[39mexceptions\u001b[39m.\u001b[39mfrom_code(error_code)\n\u001b[0;32m--> 960\u001b[0m     \u001b[39mraise\u001b[39;00m error_class(parsed_response, operation_name)\n\u001b[1;32m    961\u001b[0m \u001b[39melse\u001b[39;00m:\n\u001b[1;32m    962\u001b[0m     \u001b[39mreturn\u001b[39;00m parsed_response\n",
      "\u001b[0;31mClientError\u001b[0m: An error occurred (ParameterValidationError) when calling the CreateQualificationType operation: There was an error parsing the XML question or answer data in your request.  Please make sure the data is well-formed and validates against the appropriate schema. Details: cvc-elt.1.a: Cannot find the declaration of element 'QuestionForm'. (1676274082608 s)"
     ]
    }
   ],
   "source": [
    "with open(\"main.html\", \"r\", encoding='utf-8') as f:\n",
    "    text= f.read()\n",
    "\n",
    "test = f\"\"\"\n",
    "<QuestionForm xmlns=\"http://mechanicalturk.amazonaws.com/AWSMechanicalTurkDataSchemas/2017-11-06/QuestionForm.xsd\">\n",
    "<FormattedContent><![CDATA[\n",
    "{text}\n",
    "]]></FormattedContent>\n",
    "</QuestionForm>\"\"\"\n",
    "\n",
    "mturk.create_qualification_type(\n",
    "    Name = \"test_qualification_1\",\n",
    "    Description = \"test_description_1\",\n",
    "    QualificationTypeStatus = \"Active\",\n",
    "    TestDurationInSeconds = 10000,\n",
    "    Test = test\n",
    ")"
   ]
  },
  {
   "cell_type": "code",
   "execution_count": 32,
   "metadata": {},
   "outputs": [
    {
     "name": "stdout",
     "output_type": "stream",
     "text": [
      "Created HIT: 39AYGO6AGOMLSNR22XPBFUWRRBI6N5\n"
     ]
    }
   ],
   "source": [
    "worker_requirements = [{\n",
    "    'QualificationTypeId': '000000000000000000L0',\n",
    "    'Comparator': 'GreaterThanOrEqualTo',\n",
    "    'IntegerValues': [80],\n",
    "    'RequiredToPreview': True,\n",
    "}]\n",
    "\n",
    "with open(\"main.html\", \"r\", encoding='utf-8') as f:\n",
    "    text= f.read()\n",
    "question = f\"\"\"\n",
    "            <HTMLQuestion xmlns=\"http://mechanicalturk.amazonaws.com/AWSMechanicalTurkDataSchemas/2011-11-11/HTMLQuestion.xsd\">\n",
    "            <HTMLContent><![CDATA[\n",
    "            {text}\n",
    "            ]]>\n",
    "            </HTMLContent>\n",
    "            <FrameHeight>0</FrameHeight>\n",
    "            </HTMLQuestion>\"\"\"\n",
    "\n",
    "response = client.create_hit(\n",
    "            Title='Answer this!',\n",
    "            Description='Answer a simple question.',\n",
    "            Reward=mturk_environment['reward'],\n",
    "            MaxAssignments=5,\n",
    "            LifetimeInSeconds=14400,\n",
    "            AssignmentDurationInSeconds=300,\n",
    "            AutoApprovalDelayInSeconds=259200,\n",
    "            QualificationRequirements=worker_requirements,\n",
    "            Question=question)\n",
    "\n",
    "hit_id = response['HIT']['HITId']\n",
    "print('Created HIT: {}'.format(hit_id))"
   ]
  },
  {
   "cell_type": "code",
   "execution_count": null,
   "metadata": {},
   "outputs": [],
   "source": []
  }
 ],
 "metadata": {
  "kernelspec": {
   "display_name": "py3.8",
   "language": "python",
   "name": "python3"
  },
  "language_info": {
   "codemirror_mode": {
    "name": "ipython",
    "version": 3
   },
   "file_extension": ".py",
   "mimetype": "text/x-python",
   "name": "python",
   "nbconvert_exporter": "python",
   "pygments_lexer": "ipython3",
   "version": "3.8.15 | packaged by conda-forge | (default, Nov 22 2022, 08:49:06) \n[Clang 14.0.6 ]"
  },
  "orig_nbformat": 4,
  "vscode": {
   "interpreter": {
    "hash": "da2a9f34583e9ea3cc1065aa56d5f53f1b075c06023b0dfd2220d4f64d35be3f"
   }
  }
 },
 "nbformat": 4,
 "nbformat_minor": 2
}
