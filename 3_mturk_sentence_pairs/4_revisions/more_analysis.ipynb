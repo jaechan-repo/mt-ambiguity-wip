{
 "cells": [
  {
   "cell_type": "code",
   "execution_count": 11,
   "metadata": {},
   "outputs": [],
   "source": [
    "import pandas as pd\n",
    "df = pd.read_csv(\"batch_result_sheet.csv\")"
   ]
  },
  {
   "cell_type": "code",
   "execution_count": 16,
   "metadata": {},
   "outputs": [],
   "source": [
    "def agg(row):\n",
    "    row['maxvote'] = [row['maxvote_ambiguous'],\n",
    "                      row['maxvote_figurative'],\n",
    "                      row['maxvote_literal']\n",
    "                      ]\n",
    "    return row\n",
    "df = df.apply(agg, axis=1)"
   ]
  },
  {
   "cell_type": "code",
   "execution_count": 17,
   "metadata": {},
   "outputs": [
    {
     "data": {
      "text/plain": [
       "[ambiguous, figurative, literal]        426\n",
       "[figurative, figurative, literal]        90\n",
       "[ambiguous, figurative, figurative]      69\n",
       "[figurative, figurative, figurative]     64\n",
       "[ambiguous, figurative, ambiguous]       63\n",
       "[ambiguous, ambiguous, literal]          46\n",
       "[figurative, figurative, ambiguous]      19\n",
       "[ambiguous, literal, literal]            16\n",
       "[ambiguous, ambiguous, ambiguous]         7\n",
       "[ambiguous, ambiguous, figurative]        6\n",
       "[figurative, literal, ambiguous]          4\n",
       "[ambiguous, literal, ambiguous]           3\n",
       "[figurative, ambiguous, literal]          3\n",
       "[literal, literal, literal]               3\n",
       "[literal, figurative, literal]            2\n",
       "[literal, ambiguous, literal]             1\n",
       "[literal, literal, figurative]            1\n",
       "[ambiguous, literal, figurative]          1\n",
       "[figurative, literal, literal]            1\n",
       "[literal, figurative, figurative]         1\n",
       "[literal, figurative, ambiguous]          1\n",
       "[figurative, literal, figurative]         1\n",
       "[figurative, ambiguous, ambiguous]        1\n",
       "Name: maxvote, dtype: int64"
      ]
     },
     "execution_count": 17,
     "metadata": {},
     "output_type": "execute_result"
    }
   ],
   "source": [
    "df['maxvote'].value_counts()"
   ]
  },
  {
   "cell_type": "code",
   "execution_count": null,
   "metadata": {},
   "outputs": [],
   "source": []
  }
 ],
 "metadata": {
  "kernelspec": {
   "display_name": "py3.8",
   "language": "python",
   "name": "python3"
  },
  "language_info": {
   "codemirror_mode": {
    "name": "ipython",
    "version": 3
   },
   "file_extension": ".py",
   "mimetype": "text/x-python",
   "name": "python",
   "nbconvert_exporter": "python",
   "pygments_lexer": "ipython3",
   "version": "3.8.15"
  },
  "orig_nbformat": 4
 },
 "nbformat": 4,
 "nbformat_minor": 2
}
