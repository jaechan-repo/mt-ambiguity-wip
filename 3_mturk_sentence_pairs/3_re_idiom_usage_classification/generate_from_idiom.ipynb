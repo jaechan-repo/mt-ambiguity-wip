{
 "cells": [
  {
   "cell_type": "code",
   "execution_count": 2,
   "metadata": {},
   "outputs": [],
   "source": [
    "import openai\n",
    "import re\n",
    "import config\n",
    "import os\n",
    "openai.organization = config.openai_organization\n",
    "openai.api_key = config.openai_api_key\n",
    "import pandas as pd\n",
    "RANDOM_STATE = 42\n",
    "idioms = pd.read_csv(\"first_batch_noBadIdioms.csv\")"
   ]
  },
  {
   "cell_type": "code",
   "execution_count": 3,
   "metadata": {},
   "outputs": [],
   "source": [
    "os.chdir('./chatgpt_prompts/')\n",
    "with open('msg_0_system.txt', 'r') as msg_0_system:\n",
    "    msg_0_system = msg_0_system.read()\n",
    "\n",
    "with open('msg_1_user.txt', 'r') as msg_1_user:\n",
    "    msg_1_user = msg_1_user.read()\n",
    "\n",
    "with open('msg_1_assistant.json', 'r') as msg_1_assistant:\n",
    "    msg_1_assistant = msg_1_assistant.read()\n",
    "\n",
    "with open('msg_2_user.txt', 'r') as msg_2_user:\n",
    "    msg_2_user = msg_2_user.read()\n",
    "\n",
    "with open('msg_2_assistant.json', 'r') as msg_2_assistant:\n",
    "    msg_2_assistant = msg_2_assistant.read()\n",
    "\n",
    "with open('msg_3_user.txt', 'r') as msg_3_user:\n",
    "    msg_3_user = msg_3_user.read()\n",
    "\n",
    "with open('msg_3_assistant.json', 'r') as msg_3_assistant:\n",
    "    msg_3_assistant = msg_3_assistant.read()\n",
    "\n",
    "default_messages = [\n",
    "    {\n",
    "        \"role\": \"system\",\n",
    "        \"content\": msg_0_system,\n",
    "    },\n",
    "    {\n",
    "        \"role\": \"user\",\n",
    "        \"content\": msg_1_user,\n",
    "    },\n",
    "    {\n",
    "        \"role\": \"assistant\",\n",
    "        \"content\": msg_1_assistant,\n",
    "    },\n",
    "    {\n",
    "        \"role\": \"user\",\n",
    "        \"content\": msg_2_user,\n",
    "    },\n",
    "    {\n",
    "        \"role\": \"assistant\",\n",
    "        \"content\": msg_2_assistant,\n",
    "    },\n",
    "    {\n",
    "        \"role\": \"user\",\n",
    "        \"content\": msg_3_user,\n",
    "    },\n",
    "    {\n",
    "        \"role\": \"assistant\",\n",
    "        \"content\": msg_3_assistant,\n",
    "    },\n",
    "]\n",
    "os.chdir(\"../\")"
   ]
  },
  {
   "cell_type": "code",
   "execution_count": 9,
   "metadata": {},
   "outputs": [],
   "source": [
    "import json\n",
    "\n",
    "def generate(row):\n",
    "    if not row['error'] and not row['well_formed']:\n",
    "        return row\n",
    "    # if row['well_formed']: \n",
    "    #     return row\n",
    "    try:\n",
    "        idiom = row['idiom']\n",
    "        messages = default_messages + [{\n",
    "            \"role\": \"user\",\n",
    "            \"content\": f\"IDIOM: {idiom}\"\n",
    "        }]\n",
    "        return generate_helper(row, messages)\n",
    "    except: \n",
    "        row['error'] = True\n",
    "        return row\n",
    "    # idiom = row['idiom']\n",
    "    # messages = default_messages + [{\n",
    "    #     \"role\": \"user\",\n",
    "    #     \"content\": f\"IDIOM: {idiom}\"\n",
    "    # }]\n",
    "    # return generate_helper(row, messages)\n",
    "\n",
    "def generate_helper(row, messages, i=0):\n",
    "    if i == 5: return row\n",
    "    text = openai.ChatCompletion.create(\n",
    "        model=\"gpt-4\",\n",
    "        messages=messages,\n",
    "        max_tokens=512,\n",
    "        temperature=0.1, # the higher this value, the less deterministic\n",
    "        top_p=1, # the higher this value, the wider range of vocab is used\n",
    "    ).choices[0].message.content.strip()\n",
    "\n",
    "    try:\n",
    "        response = json.loads(text)\n",
    "        row['intended_ambiguous_retrial'] = response['AMBIGUOUS'].strip()\n",
    "        row['intended_figurative_retrial'] = response['FIGURATIVE'].strip()\n",
    "        row['intended_literal_retrial'] = response['LITERAL'].strip()\n",
    "    except:\n",
    "        row['not_found'] = True\n",
    "        return row\n",
    "\n",
    "    # Check ambiguous subsentence inclusion\n",
    "    if row['intended_ambiguous_retrial'] not in row['intended_figurative_retrial']:\n",
    "        messages = messages + [\n",
    "            { \"role\": \"assistant\", \"content\": text },\n",
    "            {\n",
    "                \"role\": \"user\",\n",
    "                \"content\": \"The AMBIGUOUS phrase must be an exact substring of the FIGURATIVE sentence, but yours isn't. Rewrite your AMBIGUOUS phrase, FIGURATIVE sentence, and LITERAL sentence accordingly.\",\n",
    "            },\n",
    "        ]\n",
    "        return generate_helper(row, messages, i+1)\n",
    "    elif row['intended_ambiguous_retrial'] not in row['intended_literal_retrial']:\n",
    "        messages = messages + [\n",
    "            { \"role\": \"assistant\", \"content\": text },\n",
    "            {\n",
    "                \"role\": \"user\",\n",
    "                \"content\": \"The AMBIGUOUS phrase must be an exact substring of the LITERAL sentence, but yours isn't. Rewrite your AMBIGUOUS phrase, FIGURATIVE sentence, and LITERAL sentence accordingly.\",\n",
    "            },\n",
    "        ]\n",
    "        return generate_helper(row, messages, i+1)\n",
    "    \n",
    "    # Ban the metnions of certain substrings\n",
    "    banned_substrings = [\"literal\", \"figurative\", \"ambiguous\", \"physical\", \"idiomatic\"]\n",
    "    for substring in banned_substrings:\n",
    "        if substring in row['intended_ambiguous_retrial']:\n",
    "            print(row['intended_ambiguous_retrial'])\n",
    "            messages = messages + [\n",
    "                { \"role\": \"assistant\", \"content\": text },\n",
    "                {\n",
    "                    \"role\": \"user\",\n",
    "                    \"content\": f\"One of the banned words \\\"{substring}\\\" was mentioned in your AMBIGUOUS phrase; you should never explicitly state these labels in your sentences. Rewrite your AMBIGUOUS phrase, FIGURATIVE sentence, and LITERAL sentence accordingly.\",\n",
    "                },\n",
    "            ]\n",
    "            return generate_helper(row, messages, i+1)\n",
    "        \n",
    "        elif substring in row['intended_figurative_retrial']:\n",
    "            print(row['intended_figurative_retrial'])\n",
    "            messages = messages + [\n",
    "                { \"role\": \"assistant\", \"content\": text },\n",
    "                {\n",
    "                    \"role\": \"user\",\n",
    "                    \"content\": f\"One of the banned words \\\"{substring}\\\" was mentioned in your FIGURATIVE sentence; you must not explicitly state these labels in your sentences. Rewrite your AMBIGUOUS phrase, FIGURATIVE sentence, and LITERAL sentence accordingly.\",\n",
    "                },\n",
    "            ]\n",
    "            return generate_helper(row, messages, i+1)\n",
    "        \n",
    "        elif substring in row['intended_literal_retrial']:\n",
    "            print(row['intended_literal_retrial'])\n",
    "            messages = messages + [\n",
    "                { \"role\": \"assistant\", \"content\": text },\n",
    "                {\n",
    "                    \"role\": \"user\",\n",
    "                    \"content\": f\"One of the banned words \\\"{substring}\\\" was mentioned in your LITERAL sentence; you must not explicitly state these labels in your sentences. Rewrite your AMBIGUOUS phrase, FIGURATIVE sentence, and LITERAL sentence accordingly.\",\n",
    "                },\n",
    "            ]\n",
    "            return generate_helper(row, messages, i+1)\n",
    "        \n",
    "    # Ban the word \"because\"\n",
    "    if \"because\" in row['intended_figurative_retrial']:\n",
    "        print(row['intended_figurative_retrial'])\n",
    "        messages = messages + [\n",
    "            { \"role\": \"assistant\", \"content\": text },\n",
    "            {\n",
    "                \"role\": \"user\",\n",
    "                \"content\": f\"In your FIGURATIVE sentence, avoid using the word \\\"because\\\" since using it tends to create a FIGURATIVE sentence that simply re-states the figurative definition of the idiom without putting much effort in creating a good sentence. Rewrite your AMBIGUOUS phrase, FIGURATIVE sentence, and LITERAL sentence accordingly.\",\n",
    "            },\n",
    "        ]\n",
    "        return generate_helper(row, messages, i+1)\n",
    "    elif \"because\" in row['intended_literal_retrial']:\n",
    "        print(row['intended_literal_retrial'])\n",
    "        messages = messages + [\n",
    "            { \"role\": \"assistant\", \"content\": text },\n",
    "            {\n",
    "                \"role\": \"user\",\n",
    "                \"content\": f\"In your LITERAL sentence, avoid using the word \\\"because\\\" since using it tends to create a LITERAL sentence that simply re-states the literal definition of the idiom without putting much effort in creating a good sentence. Rewrite your AMBIGUOUS phrase, FIGURATIVE sentence, and LITERAL sentence accordingly.\",\n",
    "            },\n",
    "        ]\n",
    "        return generate_helper(row, messages, i+1)\n",
    "\n",
    "    row[\"iter\"] = i\n",
    "    return row"
   ]
  },
  {
   "cell_type": "code",
   "execution_count": 10,
   "metadata": {},
   "outputs": [
    {
     "name": "stderr",
     "output_type": "stream",
     "text": [
      "  1%|          | 9/731 [01:31<2:00:28, 10.01s/it]"
     ]
    },
    {
     "name": "stdout",
     "output_type": "stream",
     "text": [
      "I <have a lot on my plate> because I took too much food at the buffet\n"
     ]
    },
    {
     "name": "stderr",
     "output_type": "stream",
     "text": [
      "  6%|▌         | 42/731 [06:27<1:29:32,  7.80s/it]"
     ]
    },
    {
     "name": "stdout",
     "output_type": "stream",
     "text": [
      "he couldn't sit still during the meeting because he <had ants in his pants>\n"
     ]
    },
    {
     "name": "stderr",
     "output_type": "stream",
     "text": [
      " 11%|█▏        | 83/731 [11:04<56:52,  5.27s/it]  "
     ]
    },
    {
     "name": "stdout",
     "output_type": "stream",
     "text": [
      "people thought he <had bats in the belfry> because of his eccentric ideas\n"
     ]
    },
    {
     "name": "stderr",
     "output_type": "stream",
     "text": [
      " 16%|█▋        | 119/731 [15:51<1:08:11,  6.69s/it]"
     ]
    },
    {
     "name": "stdout",
     "output_type": "stream",
     "text": [
      "he was always considered <the black sheep of the family> because of his rebellious nature\n"
     ]
    },
    {
     "name": "stderr",
     "output_type": "stream",
     "text": [
      " 23%|██▎       | 170/731 [24:16<1:23:02,  8.88s/it]"
     ]
    },
    {
     "name": "stdout",
     "output_type": "stream",
     "text": [
      "he <can't stand the sight of that> person because of their past disagreements\n"
     ]
    },
    {
     "name": "stderr",
     "output_type": "stream",
     "text": [
      " 23%|██▎       | 171/731 [24:43<1:56:32, 12.49s/it]"
     ]
    },
    {
     "name": "stdout",
     "output_type": "stream",
     "text": [
      "as a magician, he literally <had a card up his sleeve> for his next trick\n"
     ]
    },
    {
     "name": "stderr",
     "output_type": "stream",
     "text": [
      " 43%|████▎     | 317/731 [41:57<59:58,  8.69s/it]  "
     ]
    },
    {
     "name": "stdout",
     "output_type": "stream",
     "text": [
      "after the test, he <got a goose egg> because he didn't study\n"
     ]
    },
    {
     "name": "stderr",
     "output_type": "stream",
     "text": [
      " 45%|████▌     | 329/731 [43:12<39:29,  5.89s/it]  "
     ]
    },
    {
     "name": "stdout",
     "output_type": "stream",
     "text": [
      "I can't pick up the phone because <my hands are tied> with this rope\n"
     ]
    },
    {
     "name": "stderr",
     "output_type": "stream",
     "text": [
      " 46%|████▌     | 334/731 [44:34<1:19:24, 12.00s/it]"
     ]
    },
    {
     "name": "stdout",
     "output_type": "stream",
     "text": [
      "he <had clean hands after the incident> because he wasn't involved in the wrongdoing\n"
     ]
    },
    {
     "name": "stderr",
     "output_type": "stream",
     "text": [
      " 49%|████▉     | 359/731 [48:59<46:55,  7.57s/it]  "
     ]
    },
    {
     "name": "stdout",
     "output_type": "stream",
     "text": [
      "the two athletes, who were also roommates, were literally <in bed with the competition>\n"
     ]
    },
    {
     "name": "stderr",
     "output_type": "stream",
     "text": [
      " 56%|█████▌    | 406/731 [55:41<53:53,  9.95s/it]  "
     ]
    },
    {
     "name": "stdout",
     "output_type": "stream",
     "text": [
      "he always agrees with the boss because he <knows which side his bread is buttered>\n"
     ]
    },
    {
     "name": "stderr",
     "output_type": "stream",
     "text": [
      " 62%|██████▏   | 453/731 [1:02:46<31:50,  6.87s/it]  "
     ]
    },
    {
     "name": "stdout",
     "output_type": "stream",
     "text": [
      "I have <miles to go before I sleep> because my destination is still far away\n"
     ]
    },
    {
     "name": "stderr",
     "output_type": "stream",
     "text": [
      " 63%|██████▎   | 459/731 [1:04:21<49:56, 11.02s/it]  "
     ]
    },
    {
     "name": "stdout",
     "output_type": "stream",
     "text": [
      "I can't help you with the project because <my hands are full> right now with other tasks\n"
     ]
    },
    {
     "name": "stderr",
     "output_type": "stream",
     "text": [
      " 64%|██████▍   | 470/731 [1:06:34<48:31, 11.16s/it]  "
     ]
    },
    {
     "name": "stdout",
     "output_type": "stream",
     "text": [
      "during the card game, it <seemed like he wasn't playing with a full deck> because some cards were missing\n"
     ]
    },
    {
     "name": "stderr",
     "output_type": "stream",
     "text": [
      " 67%|██████▋   | 487/731 [1:08:55<25:54,  6.37s/it]"
     ]
    },
    {
     "name": "stdout",
     "output_type": "stream",
     "text": [
      "the chair was so small that they were literally <on the edge of their seat>\n"
     ]
    },
    {
     "name": "stderr",
     "output_type": "stream",
     "text": [
      " 72%|███████▏  | 523/731 [1:14:34<27:12,  7.85s/it]"
     ]
    },
    {
     "name": "stdout",
     "output_type": "stream",
     "text": [
      "during the physical therapy session, the therapist was <pulling my leg> to stretch my muscles\n"
     ]
    },
    {
     "name": "stderr",
     "output_type": "stream",
     "text": [
      " 84%|████████▍ | 614/731 [1:32:47<28:37, 14.68s/it]"
     ]
    },
    {
     "name": "stdout",
     "output_type": "stream",
     "text": [
      "everyone trusts him because he's <a straight shooter> and always tells the truth\n"
     ]
    },
    {
     "name": "stderr",
     "output_type": "stream",
     "text": [
      " 89%|████████▊ | 647/731 [1:39:50<16:56, 12.10s/it]"
     ]
    },
    {
     "name": "stdout",
     "output_type": "stream",
     "text": [
      "she always wakes up at 5 am because she believes that <the early bird catches the worm>\n"
     ]
    },
    {
     "name": "stderr",
     "output_type": "stream",
     "text": [
      " 95%|█████████▍| 691/731 [1:52:04<26:02, 39.07s/it]"
     ]
    },
    {
     "name": "stdout",
     "output_type": "stream",
     "text": [
      "he <walked out on the meeting> because he couldn't handle the pressure\n"
     ]
    },
    {
     "name": "stderr",
     "output_type": "stream",
     "text": [
      " 99%|█████████▉| 725/731 [1:58:50<01:05, 10.88s/it]"
     ]
    },
    {
     "name": "stdout",
     "output_type": "stream",
     "text": [
      "the dog trainer struggled with <teaching an old dog new tricks> because the dog was stubborn\n"
     ]
    },
    {
     "name": "stderr",
     "output_type": "stream",
     "text": [
      "100%|██████████| 731/731 [2:00:14<00:00,  9.87s/it]\n"
     ]
    }
   ],
   "source": [
    "from tqdm import tqdm\n",
    "tqdm.pandas()\n",
    "idioms = pd.read_csv(\"instances_retrial.csv\")\n",
    "# result = idioms[idioms[\"well_formed\"]\n",
    "#     ].sample(frac=1, random_state=RANDOM_STATE)[:50\n",
    "#     ].progress_apply(generate, axis=1)\n",
    "result = idioms.progress_apply(generate, axis=1)"
   ]
  },
  {
   "cell_type": "code",
   "execution_count": 25,
   "metadata": {},
   "outputs": [],
   "source": [
    "result.to_csv('instances_retrial_2.csv', index=False)"
   ]
  },
  {
   "cell_type": "code",
   "execution_count": 23,
   "metadata": {},
   "outputs": [
    {
     "data": {
      "text/html": [
       "<div>\n",
       "<style scoped>\n",
       "    .dataframe tbody tr th:only-of-type {\n",
       "        vertical-align: middle;\n",
       "    }\n",
       "\n",
       "    .dataframe tbody tr th {\n",
       "        vertical-align: top;\n",
       "    }\n",
       "\n",
       "    .dataframe thead th {\n",
       "        text-align: right;\n",
       "    }\n",
       "</style>\n",
       "<table border=\"1\" class=\"dataframe\">\n",
       "  <thead>\n",
       "    <tr style=\"text-align: right;\">\n",
       "      <th></th>\n",
       "      <th>annotations_ambiguous</th>\n",
       "      <th>annotations_figurative</th>\n",
       "      <th>annotations_literal</th>\n",
       "      <th>error</th>\n",
       "      <th>idiom</th>\n",
       "      <th>intended_ambiguous</th>\n",
       "      <th>intended_ambiguous_retrial</th>\n",
       "      <th>intended_figurative</th>\n",
       "      <th>intended_figurative_retrial</th>\n",
       "      <th>intended_literal</th>\n",
       "      <th>intended_literal_retrial</th>\n",
       "      <th>iter</th>\n",
       "      <th>maxvote - for sort</th>\n",
       "      <th>maxvote_ambiguous</th>\n",
       "      <th>maxvote_figurative</th>\n",
       "      <th>maxvote_literal</th>\n",
       "      <th>meaning</th>\n",
       "      <th>not_found</th>\n",
       "      <th>well_formed</th>\n",
       "    </tr>\n",
       "  </thead>\n",
       "  <tbody>\n",
       "  </tbody>\n",
       "</table>\n",
       "</div>"
      ],
      "text/plain": [
       "Empty DataFrame\n",
       "Columns: [annotations_ambiguous, annotations_figurative, annotations_literal, error, idiom, intended_ambiguous, intended_ambiguous_retrial, intended_figurative, intended_figurative_retrial, intended_literal, intended_literal_retrial, iter, maxvote - for sort, maxvote_ambiguous, maxvote_figurative, maxvote_literal, meaning, not_found, well_formed]\n",
       "Index: []"
      ]
     },
     "execution_count": 23,
     "metadata": {},
     "output_type": "execute_result"
    }
   ],
   "source": [
    "result[result.isna().any(axis=1)]"
   ]
  },
  {
   "cell_type": "code",
   "execution_count": 21,
   "metadata": {},
   "outputs": [
    {
     "name": "stderr",
     "output_type": "stream",
     "text": [
      "/var/folders/92/6j34w0196yq0cnnrfrw0s68w0000gn/T/ipykernel_21480/2190641010.py:37: SettingWithCopyWarning: \n",
      "A value is trying to be set on a copy of a slice from a DataFrame\n",
      "\n",
      "See the caveats in the documentation: https://pandas.pydata.org/pandas-docs/stable/user_guide/indexing.html#returning-a-view-versus-a-copy\n",
      "  row['intended_ambiguous_retrial'] = response['AMBIGUOUS'].strip()\n",
      "/var/folders/92/6j34w0196yq0cnnrfrw0s68w0000gn/T/ipykernel_21480/2190641010.py:38: SettingWithCopyWarning: \n",
      "A value is trying to be set on a copy of a slice from a DataFrame\n",
      "\n",
      "See the caveats in the documentation: https://pandas.pydata.org/pandas-docs/stable/user_guide/indexing.html#returning-a-view-versus-a-copy\n",
      "  row['intended_figurative_retrial'] = response['FIGURATIVE'].strip()\n",
      "/var/folders/92/6j34w0196yq0cnnrfrw0s68w0000gn/T/ipykernel_21480/2190641010.py:39: SettingWithCopyWarning: \n",
      "A value is trying to be set on a copy of a slice from a DataFrame\n",
      "\n",
      "See the caveats in the documentation: https://pandas.pydata.org/pandas-docs/stable/user_guide/indexing.html#returning-a-view-versus-a-copy\n",
      "  row['intended_literal_retrial'] = response['LITERAL'].strip()\n",
      "/var/folders/92/6j34w0196yq0cnnrfrw0s68w0000gn/T/ipykernel_21480/2190641010.py:122: SettingWithCopyWarning: \n",
      "A value is trying to be set on a copy of a slice from a DataFrame\n",
      "\n",
      "See the caveats in the documentation: https://pandas.pydata.org/pandas-docs/stable/user_guide/indexing.html#returning-a-view-versus-a-copy\n",
      "  row[\"iter\"] = i\n"
     ]
    }
   ],
   "source": [
    "result.loc[686] = generate(result.loc[686])"
   ]
  },
  {
   "cell_type": "code",
   "execution_count": 22,
   "metadata": {},
   "outputs": [
    {
     "data": {
      "text/plain": [
       "annotations_ambiguous                    ['ambiguous', 'ambiguous', 'ambiguous']\n",
       "annotations_figurative                ['figurative', 'figurative', 'figurative']\n",
       "annotations_literal                            ['literal', 'literal', 'literal']\n",
       "error                                                                       True\n",
       "idiom                                                    voice in the wilderness\n",
       "intended_ambiguous                              He was a voice in the wilderness\n",
       "intended_ambiguous_retrial                           <a voice in the wilderness>\n",
       "intended_figurative            He was a voice in the wilderness offering advi...\n",
       "intended_figurative_retrial    his environmental concerns were <a voice in th...\n",
       "intended_literal               He was a voice in the wilderness shouting from...\n",
       "intended_literal_retrial       while hiking alone, she suddenly heard <a voic...\n",
       "iter                                                                         0.0\n",
       "maxvote - for sort                              ambiguous : figurative : literal\n",
       "maxvote_ambiguous                                                      ambiguous\n",
       "maxvote_figurative                                                    figurative\n",
       "maxvote_literal                                                          literal\n",
       "meaning                        someone who expresses an opinion that no one b...\n",
       "not_found                                                                  False\n",
       "well_formed                                                                 True\n",
       "Name: 686, dtype: object"
      ]
     },
     "execution_count": 22,
     "metadata": {},
     "output_type": "execute_result"
    }
   ],
   "source": [
    "result.loc[686]"
   ]
  },
  {
   "cell_type": "code",
   "execution_count": null,
   "metadata": {},
   "outputs": [],
   "source": []
  }
 ],
 "metadata": {
  "kernelspec": {
   "display_name": "py3.8",
   "language": "python",
   "name": "python3"
  },
  "language_info": {
   "codemirror_mode": {
    "name": "ipython",
    "version": 3
   },
   "file_extension": ".py",
   "mimetype": "text/x-python",
   "name": "python",
   "nbconvert_exporter": "python",
   "pygments_lexer": "ipython3",
   "version": "3.8.15"
  },
  "orig_nbformat": 4
 },
 "nbformat": 4,
 "nbformat_minor": 2
}
