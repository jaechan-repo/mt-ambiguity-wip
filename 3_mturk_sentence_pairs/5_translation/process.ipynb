{
 "cells": [
  {
   "cell_type": "code",
   "execution_count": 74,
   "metadata": {},
   "outputs": [
    {
     "name": "stdout",
     "output_type": "stream",
     "text": [
      "True\n"
     ]
    }
   ],
   "source": [
    "import spacy\n",
    "nlp = spacy.load(\"en_core_web_sm\")\n",
    "\n",
    "def is_simile(sentence, subsentence):\n",
    "    doc = nlp(sentence)\n",
    "\n",
    "    # Iterate over the tokens in the sentence\n",
    "    for token in doc:\n",
    "        # Check if token is 'like' and is used as a comparison term\n",
    "        if (token.text == 'like' and token.dep_ == 'prep'):\n",
    "            # Get the comparison target\n",
    "            comparison_targets = []\n",
    "            for child in token.children:\n",
    "                comparison_targets.append(child.text + child.whitespace_)\n",
    "            comparison_target = \"\".join(comparison_targets).strip()\n",
    "            # Check if the comparison target is in the subsentence\n",
    "            if comparison_target in subsentence:\n",
    "                return True\n",
    "\n",
    "    return False\n",
    "\n",
    "# Test the function\n",
    "sentence = \"When it comes to cooking, it’s like the blind leading the blind when my brother and I try to help each other\"\n",
    "subsentence = \"the blind leading the blind\"\n",
    "print(is_simile(sentence, subsentence)) # True!"
   ]
  },
  {
   "cell_type": "code",
   "execution_count": 75,
   "metadata": {},
   "outputs": [
    {
     "data": {
      "text/plain": [
       "1060"
      ]
     },
     "execution_count": 75,
     "metadata": {},
     "output_type": "execute_result"
    }
   ],
   "source": [
    "import pandas as pd\n",
    "df = pd.read_csv(\"dataset_translation_ready.csv\")\n",
    "# Creating a new column 'text_without_brackets' by removing the square brackets\n",
    "df['sentence'] = df['source'].str.replace(r'\\[\\[', '', regex=True).str.replace(r'\\]\\]', '', regex=True)\n",
    "\n",
    "# Creating a new column 'text_inside_brackets' by extracting the text inside the square brackets\n",
    "df['subsentence'] = df['source'].str.extract(r'\\[\\[(.*?)\\]\\]', expand=False)\n",
    "len(df)"
   ]
  },
  {
   "cell_type": "code",
   "execution_count": 76,
   "metadata": {},
   "outputs": [],
   "source": [
    "def f(row):\n",
    "    row['is_simile'] = is_simile(row['sentence'], row['subsentence'])\n",
    "    return row\n",
    "df = df.apply(f, axis=1)"
   ]
  },
  {
   "cell_type": "code",
   "execution_count": 77,
   "metadata": {},
   "outputs": [],
   "source": [
    "df[df['is_simile']][['idiom', 'meaning', 'source', 'subsentence']].to_csv('is_simile.csv', index=False)"
   ]
  },
  {
   "cell_type": "code",
   "execution_count": 78,
   "metadata": {},
   "outputs": [],
   "source": [
    "import pandas as pd\n",
    "import numpy as np\n",
    "\n",
    "# Let's assume that df is your DataFrame and \"is_simile\" is one of its columns\n",
    "# Create a new column 'is_simile_pair', initialized with False\n",
    "df['is_simile_pair'] = False\n",
    "\n",
    "# Loop through the DataFrame with step 2\n",
    "for i in range(0, len(df), 2):\n",
    "    # Set 'is_simile_pair' as True if 'is_simile' is True for any of the two rows\n",
    "    df.loc[i, 'is_simile_pair'] = df.loc[i, 'is_simile'] or df.loc[i+1, 'is_simile']\n",
    "    df.loc[i+1, 'is_simile_pair'] = df.loc[i, 'is_simile'] or df.loc[i+1, 'is_simile']\n",
    "\n",
    "df = df[['idiom', 'meaning', 'label', 'source', 'is_simile_pair']]"
   ]
  },
  {
   "cell_type": "code",
   "execution_count": 79,
   "metadata": {},
   "outputs": [],
   "source": [
    "df.to_csv(\"to_be_translated.csv\", index=False)"
   ]
  },
  {
   "cell_type": "code",
   "execution_count": null,
   "metadata": {},
   "outputs": [],
   "source": []
  }
 ],
 "metadata": {
  "kernelspec": {
   "display_name": "py3.8",
   "language": "python",
   "name": "python3"
  },
  "language_info": {
   "codemirror_mode": {
    "name": "ipython",
    "version": 3
   },
   "file_extension": ".py",
   "mimetype": "text/x-python",
   "name": "python",
   "nbconvert_exporter": "python",
   "pygments_lexer": "ipython3",
   "version": "3.8.15"
  },
  "orig_nbformat": 4
 },
 "nbformat": 4,
 "nbformat_minor": 2
}
