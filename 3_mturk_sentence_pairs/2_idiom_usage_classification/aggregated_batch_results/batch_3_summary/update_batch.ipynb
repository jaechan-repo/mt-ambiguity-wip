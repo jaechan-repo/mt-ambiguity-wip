{
 "cells": [
  {
   "cell_type": "code",
   "execution_count": 28,
   "metadata": {},
   "outputs": [],
   "source": [
    "import pandas as pd\n",
    "batch3 = pd.read_csv('ver1/batch_3_result_5052140.csv')\n",
    "EXCLUDED_WORKER = 'A1AXQM54WTRGA5'\n",
    "NUM_PROBLEMS = 5\n",
    "batch3_replacement = pd.read_csv(f'replacement_w{EXCLUDED_WORKER}_5053241.csv')"
   ]
  },
  {
   "cell_type": "code",
   "execution_count": 37,
   "metadata": {},
   "outputs": [],
   "source": [
    "batch3_new = batch3\n",
    "def replace(row_i):\n",
    "    if row_i['WorkerId'] == EXCLUDED_WORKER:\n",
    "        for j in range(len(batch3_replacement)):\n",
    "            row_j = batch3_replacement.iloc[j]\n",
    "            found = True\n",
    "            cols = ['idiom', 'meaning', 'instance', 'label']\n",
    "            for k in range(NUM_PROBLEMS):\n",
    "                for col in cols:\n",
    "                    col = f\"Input.{col}_{k}\"\n",
    "                    found = found and row_i[col] == row_j[col]\n",
    "                    if not found: break\n",
    "                if not found: break\n",
    "            if found: return row_j\n",
    "    return row_i\n",
    "batch3_new = batch3.apply(replace, axis=1)"
   ]
  },
  {
   "cell_type": "code",
   "execution_count": 38,
   "metadata": {},
   "outputs": [
    {
     "data": {
      "text/plain": [
       "0"
      ]
     },
     "execution_count": 38,
     "metadata": {},
     "output_type": "execute_result"
    }
   ],
   "source": [
    "count = 0\n",
    "for i in range(len(batch3_new)):\n",
    "    row_i = batch3_new.iloc[i]\n",
    "    if row_i['WorkerId'] == EXCLUDED_WORKER:\n",
    "        count += 1\n",
    "count"
   ]
  },
  {
   "cell_type": "code",
   "execution_count": 39,
   "metadata": {},
   "outputs": [],
   "source": [
    "batch3_new.to_csv('batch_3_result_5052140_ver2.csv', index=False)"
   ]
  },
  {
   "cell_type": "code",
   "execution_count": null,
   "metadata": {},
   "outputs": [],
   "source": []
  }
 ],
 "metadata": {
  "kernelspec": {
   "display_name": "py3.8",
   "language": "python",
   "name": "python3"
  },
  "language_info": {
   "codemirror_mode": {
    "name": "ipython",
    "version": 3
   },
   "file_extension": ".py",
   "mimetype": "text/x-python",
   "name": "python",
   "nbconvert_exporter": "python",
   "pygments_lexer": "ipython3",
   "version": "3.8.15"
  },
  "orig_nbformat": 4,
  "vscode": {
   "interpreter": {
    "hash": "da2a9f34583e9ea3cc1065aa56d5f53f1b075c06023b0dfd2220d4f64d35be3f"
   }
  }
 },
 "nbformat": 4,
 "nbformat_minor": 2
}
