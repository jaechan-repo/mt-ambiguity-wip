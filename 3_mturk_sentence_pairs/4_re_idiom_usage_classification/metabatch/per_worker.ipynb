{
 "cells": [
  {
   "cell_type": "code",
   "execution_count": 1,
   "metadata": {},
   "outputs": [],
   "source": [
    "import pandas as pd\n",
    "import numpy as np\n",
    "df = pd.read_csv(\"hit_result.csv\")"
   ]
  },
  {
   "cell_type": "code",
   "execution_count": 2,
   "metadata": {},
   "outputs": [],
   "source": [
    "def f(row):\n",
    "    row['gold'] = [row['gold_0'], row['gold_1']]\n",
    "    return row\n",
    "df = df.apply(f, axis=1)"
   ]
  },
  {
   "cell_type": "code",
   "execution_count": 3,
   "metadata": {},
   "outputs": [],
   "source": [
    "import ast\n",
    "import pandas as pd\n",
    "import numpy as np\n",
    "\n",
    "# Convert TimeMe and WorkerId columns from string to list\n",
    "df['TimeMe'] = df['TimeMe'].apply(lambda x: [float(i) for i in ast.literal_eval(x)])\n",
    "df['WorkerId'] = df['WorkerId'].apply(ast.literal_eval)\n",
    "\n",
    "# First, explode the dataframe so that each row has a single worker ID, gold, and time value\n",
    "df_exp = df.apply(lambda x: x.explode() if x.name in ['gold', 'WorkerId', 'TimeMe'] else x)\n",
    "\n",
    "# Create a new column for label disagreement\n",
    "df_exp['labelDisagreement'] = (df_exp['gold'] != df_exp['label']).astype(int)\n",
    "\n",
    "# Now, reshape dataframe to calculate worker disagreements\n",
    "reshaped_df = df_exp.pivot_table(index=df_exp.index, columns=df_exp.groupby(df_exp.index).cumcount(), aggfunc='first')\n",
    "\n",
    "# Check for worker disagreements in 'gold' column\n",
    "worker_disagreement = np.where(reshaped_df['gold'][0] != reshaped_df['gold'][1], 1, 0)\n",
    "\n",
    "# Assign worker disagreements back to the exploded dataframe\n",
    "df_exp['workerDisagreement'] = np.repeat(worker_disagreement, 2)\n",
    "\n",
    "# Finally, group by worker ID and calculate the required statistics\n",
    "result = df_exp.groupby('WorkerId').agg(\n",
    "    num_submission=('label', 'size'),\n",
    "    num_workerDisagreement=('workerDisagreement', 'sum'),\n",
    "    num_labelDisagreement=('labelDisagreement', 'sum'),\n",
    "    avg_time=('TimeMe', 'mean')\n",
    ").reset_index()\n",
    "\n",
    "result['percent_workerDisagreement'] = result['num_workerDisagreement'] / result['num_submission']\n",
    "result['percent_labelDisagreement'] = result['num_labelDisagreement'] / result['num_submission']"
   ]
  },
  {
   "cell_type": "code",
   "execution_count": 4,
   "metadata": {},
   "outputs": [],
   "source": [
    "result.to_csv('perWorkerDisagreement.csv', index=False)"
   ]
  },
  {
   "cell_type": "code",
   "execution_count": 5,
   "metadata": {},
   "outputs": [],
   "source": [
    "def filter_rows(df, worker_ids):\n",
    "    # Initialize column with None\n",
    "    df['WorkerIdPosition'] = None\n",
    "    # Check if any worker in the list is present in each row's 'WorkerId' column\n",
    "    for idx, workers in df['WorkerId'].items():\n",
    "        for i, worker in enumerate(workers):\n",
    "            if worker in worker_ids:\n",
    "                df.loc[idx, 'WorkerIdPosition'] = i\n",
    "    # Filter rows where 'WorkerIdPosition' is not None\n",
    "    return df[df['WorkerIdPosition'].notna()]\n",
    "\n",
    "\n",
    "filtered_df = filter_rows(df, ['A110KENBXU7SUJ', 'A2A6FH0F7LD9ND', 'AKQAI78JTXXC9'])"
   ]
  },
  {
   "cell_type": "code",
   "execution_count": 6,
   "metadata": {},
   "outputs": [],
   "source": [
    "filtered_df.to_csv('result_problematic.csv', index=False)"
   ]
  },
  {
   "cell_type": "code",
   "execution_count": 7,
   "metadata": {},
   "outputs": [],
   "source": [
    "paired_df = pd.DataFrame()\n",
    "\n",
    "paired_df['idiom'] = df['idiom'].iloc[::2].reset_index(drop=True) # takes every 2nd row starting from 0\n",
    "paired_df['meaning'] = df['meaning'].iloc[::2].reset_index(drop=True) # assumes 'meaning' is the same for each pair\n",
    "\n",
    "paired_df['intended_figurative'] = df['instance'].iloc[::2].reset_index(drop=True) # first instance of each pair\n",
    "paired_df['intended_literal'] = df['instance'].iloc[1::2].reset_index(drop=True) # second instance of each pair\n",
    "\n",
    "paired_df['maxVote_figurative'] = df['maxVote'].iloc[::2].reset_index(drop=True) # first maxVote of each pair\n",
    "paired_df['maxVote_literal'] = df['maxVote'].iloc[1::2].reset_index(drop=True) # second maxVote of each pair\n",
    "\n",
    "paired_df['gold_figurative'] = df['gold'].iloc[::2].reset_index(drop=True) # first gold of each pair\n",
    "paired_df['gold_literal'] = df['gold'].iloc[1::2].reset_index(drop=True) # second gold of each pair\n",
    "\n",
    "# 'well_formed' is true iff the first row has a maxVote of 'figurative' and the second row has a maxVote of 'literal', or vice versa\n",
    "paired_df['well_formed'] = ((paired_df['maxVote_figurative'] == 'figurative') & (paired_df['maxVote_literal'] == 'literal')) | ((paired_df['maxVote_figurative'] == 'literal') & (paired_df['maxVote_literal'] == 'figurative'))"
   ]
  },
  {
   "cell_type": "code",
   "execution_count": 17,
   "metadata": {},
   "outputs": [],
   "source": [
    "amb_df = pd.read_csv(\"gen_final_chatgpt.csv\")[['idiom', 'intended_ambiguous']]\n",
    "merged_df = pd.merge(paired_df, amb_df, on='idiom', how='inner')\n",
    "merged_df.to_csv(\"per_idiom_dataset.csv\", index=False)"
   ]
  }
 ],
 "metadata": {
  "kernelspec": {
   "display_name": "py3.8",
   "language": "python",
   "name": "python3"
  },
  "language_info": {
   "codemirror_mode": {
    "name": "ipython",
    "version": 3
   },
   "file_extension": ".py",
   "mimetype": "text/x-python",
   "name": "python",
   "nbconvert_exporter": "python",
   "pygments_lexer": "ipython3",
   "version": "3.8.15"
  },
  "orig_nbformat": 4
 },
 "nbformat": 4,
 "nbformat_minor": 2
}
