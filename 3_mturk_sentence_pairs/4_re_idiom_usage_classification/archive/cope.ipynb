{
 "cells": [
  {
   "cell_type": "code",
   "execution_count": 97,
   "metadata": {},
   "outputs": [],
   "source": [
    "import pandas as pd\n",
    "import numpy as np\n",
    "df1 = pd.read_csv(\"batch1_50rows.csv\")\n",
    "df2 = pd.read_csv(\"batch1_50rows_correct.csv\")"
   ]
  },
  {
   "cell_type": "code",
   "execution_count": 98,
   "metadata": {},
   "outputs": [],
   "source": [
    "columns = [['idiom_'+str(i), 'instance_'+str(i), 'label_'+str(i), 'meaning_'+str(i)] for i in range(5)]\n",
    "\n",
    "# reshape df1\n",
    "df1_melted = pd.concat([df1[cols].rename(columns=lambda x: x.split('_')[0]) for cols in columns])\n",
    "df1_melted.drop_duplicates(inplace=True)\n",
    "\n",
    "# reshape df2\n",
    "df2_melted = pd.concat([df2[cols].rename(columns=lambda x: x.split('_')[0]) for cols in columns])\n",
    "df2_melted.drop_duplicates(inplace=True)"
   ]
  },
  {
   "cell_type": "code",
   "execution_count": 99,
   "metadata": {},
   "outputs": [
    {
     "data": {
      "text/plain": [
       "2    93\n",
       "1    86\n",
       "0    71\n",
       "Name: label, dtype: int64"
      ]
     },
     "execution_count": 99,
     "metadata": {},
     "output_type": "execute_result"
    }
   ],
   "source": [
    "df2_melted['label'].value_counts()"
   ]
  },
  {
   "cell_type": "code",
   "execution_count": 100,
   "metadata": {},
   "outputs": [],
   "source": [
    "new_df = df2_melted[(df2_melted['label'] == 0) | (df2_melted['label'] == 1)].reset_index(drop=True)\n",
    "n_to_drop = int(sum(new_df['label'] == 0) / 4)\n",
    "# get the indices of the rows to drop\n",
    "drop_indices = new_df[new_df['label'] == 0].sample(n=n_to_drop, random_state=42).index\n",
    "# drop these rows\n",
    "new_df = new_df.drop(drop_indices).reset_index(drop=True)"
   ]
  },
  {
   "cell_type": "code",
   "execution_count": 101,
   "metadata": {},
   "outputs": [
    {
     "data": {
      "text/plain": [
       "1    86\n",
       "0    54\n",
       "Name: label, dtype: int64"
      ]
     },
     "execution_count": 101,
     "metadata": {},
     "output_type": "execute_result"
    }
   ],
   "source": [
    "new_df['label'].value_counts()"
   ]
  },
  {
   "cell_type": "code",
   "execution_count": 102,
   "metadata": {},
   "outputs": [],
   "source": [
    "# calculate the groups for each 5 rows\n",
    "groups = np.arange(len(new_df)) // 5  \n",
    "\n",
    "# set the new index and unstack\n",
    "temp = new_df.set_index([groups, new_df.groupby(groups).cumcount()])\n",
    "new_df_unstacked = temp.unstack().sort_index(axis=1, level=1)\n",
    "\n",
    "# adjust the column names and reset the index\n",
    "new_df_unstacked.columns = [f'{x}_{y}' for x, y in new_df_unstacked.columns]\n",
    "new_df_unstacked.reset_index(drop=True, inplace=True)\n",
    "\n",
    "# replace NaNs in label columns with -1 and convert them to int\n",
    "labels = ['label_0', 'label_1', 'label_2', 'label_3', 'label_4']\n",
    "for label in labels:\n",
    "    new_df_unstacked[label] = new_df_unstacked[label].fillna(-1).astype(int)\n",
    "\n",
    "# replace other NaNs with \"NOT AVAILABLE: SELECT A RANDOM OPTION\"\n",
    "new_df_unstacked.fillna(\"NOT AVAILABLE: SELECT A RANDOM OPTION\", inplace=True)"
   ]
  },
  {
   "cell_type": "code",
   "execution_count": 103,
   "metadata": {},
   "outputs": [
    {
     "data": {
      "text/plain": [
       "1    86\n",
       "0    54\n",
       "Name: label_0, dtype: int64"
      ]
     },
     "execution_count": 103,
     "metadata": {},
     "output_type": "execute_result"
    }
   ],
   "source": [
    "cnt = 0\n",
    "for i in range(5):\n",
    "    cnt += new_df_unstacked[f'label_{i}'].value_counts()\n",
    "cnt"
   ]
  },
  {
   "cell_type": "code",
   "execution_count": 104,
   "metadata": {},
   "outputs": [],
   "source": [
    "new_df_unstacked.to_csv(\"batch1_correction.csv\", index=False)"
   ]
  },
  {
   "cell_type": "code",
   "execution_count": 26,
   "metadata": {},
   "outputs": [
    {
     "data": {
      "text/plain": [
       "1    86\n",
       "Name: label, dtype: int64"
      ]
     },
     "execution_count": 26,
     "metadata": {},
     "output_type": "execute_result"
    }
   ],
   "source": [
    "merged['label'].value_counts()"
   ]
  },
  {
   "cell_type": "code",
   "execution_count": null,
   "metadata": {},
   "outputs": [],
   "source": []
  }
 ],
 "metadata": {
  "kernelspec": {
   "display_name": "py3.8",
   "language": "python",
   "name": "python3"
  },
  "language_info": {
   "codemirror_mode": {
    "name": "ipython",
    "version": 3
   },
   "file_extension": ".py",
   "mimetype": "text/x-python",
   "name": "python",
   "nbconvert_exporter": "python",
   "pygments_lexer": "ipython3",
   "version": "3.8.15"
  },
  "orig_nbformat": 4
 },
 "nbformat": 4,
 "nbformat_minor": 2
}
